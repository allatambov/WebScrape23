{
 "cells": [
  {
   "cell_type": "markdown",
   "metadata": {
    "id": "-uy2mgLQFdGk"
   },
   "source": [
    "# Web-scraping: сбор данных из баз данных и интернет-источников\n",
    "\n",
    "\n",
    "## Обработка таблиц внутри HTML с `BeautifulSoup` и `pandas`\n",
    "\n",
    "*Алла Тамбовцева*"
   ]
  },
  {
   "cell_type": "markdown",
   "metadata": {
    "id": "3oLSrfOiGDow"
   },
   "source": [
    "Импортируем библиотеки и функцию `BeautifulSoup` (понадобятся для примеров ниже):\n",
    "\n",
    "* `requests` для отправки запроса и получения кода HTML веб-страницы;\n",
    "* `bs4` для поиска тэгов в коде HTML;\n",
    "* `pandas` для обработки полученной информации и приведения ее к табличному виду."
   ]
  },
  {
   "cell_type": "code",
   "execution_count": 1,
   "metadata": {
    "id": "k0qoHH-Ikb6h"
   },
   "outputs": [],
   "source": [
    "import requests\n",
    "import pandas as pd\n",
    "from bs4 import BeautifulSoup"
   ]
  },
  {
   "cell_type": "markdown",
   "metadata": {
    "id": "UDMQF7bMGKkq"
   },
   "source": [
    "Для игрушечного примера создадим строку с кодом HTML для маленькой таблицы с двумя строками и тремя столбцами:"
   ]
  },
  {
   "cell_type": "code",
   "execution_count": 2,
   "metadata": {
    "id": "ObRr1F61kG1D"
   },
   "outputs": [],
   "source": [
    "# tr – table row (строка), \n",
    "# th – table header (ячейка с заголовком столбца), \n",
    "# td - table data (ячейка с данными)\n",
    "\n",
    "\n",
    "table = \"\"\"\n",
    "<table>\n",
    "        <tr><th></th><th>Значение</th></tr>\n",
    "        <tr><th>Рейтинг (Кинопоиск)</th><td>7.9</td></tr>\n",
    "        <tr><th>Рейтинг (Кино-Театр)</th><td>8.8</td></tr>\n",
    "    </table>\n",
    "\"\"\""
   ]
  },
  {
   "cell_type": "markdown",
   "metadata": {
    "id": "Wftv8kb7GR77"
   },
   "source": [
    "Посмотрим на то, как эта таблица выглядит. Для этого скопируем строку с кодом HTML без кавычек в ячейку Jupyter Notebook и изменим ее тип на *Markdown*, он позволит преобразовать код в таблицу и покажет ее на экране:"
   ]
  },
  {
   "cell_type": "markdown",
   "metadata": {
    "id": "JYw3R8qYlt6L"
   },
   "source": [
    "<table>\n",
    "        <tr><th></th><th>Значение</th></tr>\n",
    "        <tr><th>Рейтинг (Кинопоиск)</th><td>7.9</td></tr>\n",
    "        <tr><th>Рейтинг (Кино-Театр)</th><td>8.8</td></tr>\n",
    "    </table>"
   ]
  },
  {
   "cell_type": "markdown",
   "metadata": {
    "id": "O5CniC8KHKOa"
   },
   "source": [
    "Сконвертируем строку `table` (тип *string*) в объект `BeautifulSoup` для удобства поиска по тэгам:"
   ]
  },
  {
   "cell_type": "code",
   "execution_count": 3,
   "metadata": {
    "colab": {
     "base_uri": "https://localhost:8080/"
    },
    "id": "e-_8IU6zlvVz",
    "outputId": "e0495171-0389-4e8a-8c82-8588d804590d"
   },
   "outputs": [
    {
     "data": {
      "text/plain": [
       "<html><body><table>\n",
       "<tr><th></th><th>Значение</th></tr>\n",
       "<tr><th>Рейтинг (Кинопоиск)</th><td>7.9</td></tr>\n",
       "<tr><th>Рейтинг (Кино-Театр)</th><td>8.8</td></tr>\n",
       "</table>\n",
       "</body></html>"
      ]
     },
     "execution_count": 3,
     "metadata": {},
     "output_type": "execute_result"
    }
   ],
   "source": [
    "tab = BeautifulSoup(table)\n",
    "tab"
   ]
  },
  {
   "cell_type": "markdown",
   "metadata": {
    "id": "J0gyLHfwHSoN"
   },
   "source": [
    "Найдем все ячейки с данными по тэгу `<td>` и извлечем из кода HTML текст:"
   ]
  },
  {
   "cell_type": "code",
   "execution_count": 4,
   "metadata": {
    "colab": {
     "base_uri": "https://localhost:8080/"
    },
    "id": "5i2sI4cFmGWi",
    "outputId": "e8e42652-0e2f-41a8-9bc8-df0975f27707"
   },
   "outputs": [
    {
     "data": {
      "text/plain": [
       "['7.9', '8.8']"
      ]
     },
     "execution_count": 4,
     "metadata": {},
     "output_type": "execute_result"
    }
   ],
   "source": [
    "tds = tab.find_all(\"td\")\n",
    "values = [v.text for v in tds]\n",
    "values"
   ]
  },
  {
   "cell_type": "markdown",
   "metadata": {
    "id": "IHuMrXw9Hsy3"
   },
   "source": [
    "Теперь, чтобы получить полноценную таблицу, нужно разбить список на части (две строки) и преобразовать в датафрейм. Эту задачу можно решать по-разному. Мы преобразуем список в массив и разобьем его на два массива одинаковой длины через функцию `split()` из библиотеки `numpy`:"
   ]
  },
  {
   "cell_type": "code",
   "execution_count": 5,
   "metadata": {
    "id": "VJBwBhbLmP-6"
   },
   "outputs": [],
   "source": [
    "import numpy as np"
   ]
  },
  {
   "cell_type": "code",
   "execution_count": 6,
   "metadata": {
    "colab": {
     "base_uri": "https://localhost:8080/",
     "height": 112
    },
    "id": "hDoM-Nxjm5gZ",
    "outputId": "b1d87c83-3386-497e-df4a-fc7035f5ab77"
   },
   "outputs": [
    {
     "data": {
      "text/html": [
       "<div>\n",
       "<style scoped>\n",
       "    .dataframe tbody tr th:only-of-type {\n",
       "        vertical-align: middle;\n",
       "    }\n",
       "\n",
       "    .dataframe tbody tr th {\n",
       "        vertical-align: top;\n",
       "    }\n",
       "\n",
       "    .dataframe thead th {\n",
       "        text-align: right;\n",
       "    }\n",
       "</style>\n",
       "<table border=\"1\" class=\"dataframe\">\n",
       "  <thead>\n",
       "    <tr style=\"text-align: right;\">\n",
       "      <th></th>\n",
       "      <th>0</th>\n",
       "    </tr>\n",
       "  </thead>\n",
       "  <tbody>\n",
       "    <tr>\n",
       "      <td>0</td>\n",
       "      <td>7.9</td>\n",
       "    </tr>\n",
       "    <tr>\n",
       "      <td>1</td>\n",
       "      <td>8.8</td>\n",
       "    </tr>\n",
       "  </tbody>\n",
       "</table>\n",
       "</div>"
      ],
      "text/plain": [
       "     0\n",
       "0  7.9\n",
       "1  8.8"
      ]
     },
     "execution_count": 6,
     "metadata": {},
     "output_type": "execute_result"
    }
   ],
   "source": [
    "dat = pd.DataFrame(np.split(np.array(values), 2)) # 2 массива внутри\n",
    "dat"
   ]
  },
  {
   "cell_type": "markdown",
   "metadata": {},
   "source": [
    "Теперь осталось извлечь заголовки с названиями рейтингов. Для этого придется найти все элементы с тэгом `<th>` и выбрать нужные:"
   ]
  },
  {
   "cell_type": "code",
   "execution_count": 7,
   "metadata": {},
   "outputs": [
    {
     "data": {
      "text/plain": [
       "[<th>Рейтинг (Кинопоиск)</th>, <th>Рейтинг (Кино-Театр)</th>]"
      ]
     },
     "execution_count": 7,
     "metadata": {},
     "output_type": "execute_result"
    }
   ],
   "source": [
    "tab.find_all(\"th\")[2:]"
   ]
  },
  {
   "cell_type": "markdown",
   "metadata": {},
   "source": [
    "Вновь извлекаем текст и записываем названия рейтингов как названия строк в датафрейме:"
   ]
  },
  {
   "cell_type": "code",
   "execution_count": 8,
   "metadata": {},
   "outputs": [
    {
     "data": {
      "text/html": [
       "<div>\n",
       "<style scoped>\n",
       "    .dataframe tbody tr th:only-of-type {\n",
       "        vertical-align: middle;\n",
       "    }\n",
       "\n",
       "    .dataframe tbody tr th {\n",
       "        vertical-align: top;\n",
       "    }\n",
       "\n",
       "    .dataframe thead th {\n",
       "        text-align: right;\n",
       "    }\n",
       "</style>\n",
       "<table border=\"1\" class=\"dataframe\">\n",
       "  <thead>\n",
       "    <tr style=\"text-align: right;\">\n",
       "      <th></th>\n",
       "      <th>0</th>\n",
       "    </tr>\n",
       "  </thead>\n",
       "  <tbody>\n",
       "    <tr>\n",
       "      <td>Рейтинг (Кинопоиск)</td>\n",
       "      <td>7.9</td>\n",
       "    </tr>\n",
       "    <tr>\n",
       "      <td>Рейтинг (Кино-Театр)</td>\n",
       "      <td>8.8</td>\n",
       "    </tr>\n",
       "  </tbody>\n",
       "</table>\n",
       "</div>"
      ],
      "text/plain": [
       "                        0\n",
       "Рейтинг (Кинопоиск)   7.9\n",
       "Рейтинг (Кино-Театр)  8.8"
      ]
     },
     "execution_count": 8,
     "metadata": {},
     "output_type": "execute_result"
    }
   ],
   "source": [
    "names = [n.text for n in tab.find_all(\"th\")[2:]]\n",
    "dat.index = names\n",
    "dat"
   ]
  },
  {
   "cell_type": "markdown",
   "metadata": {
    "id": "1766rlr6IX4I"
   },
   "source": [
    "Итак, мы посмотрели, как можно с помощью BeautifulSoup, Numpy и Pandas справиться с парсингом фрагмента HTML-кода, содержащим таблицу. На самом деле, можно было поступить гораздо проще – задействовать специальную функцию `read_html()` из библиотеки `pandas`. Вернемся к строке `table` с кодом HTML (преобразовывать ее в объект BeautifulSoup не нужно!) и воспользуемся этой функцией:"
   ]
  },
  {
   "cell_type": "code",
   "execution_count": 9,
   "metadata": {
    "colab": {
     "base_uri": "https://localhost:8080/",
     "height": 112
    },
    "id": "boJ5ycaGm-Lp",
    "outputId": "5f146743-ec3f-4511-973b-6d5dcc619713"
   },
   "outputs": [
    {
     "data": {
      "text/html": [
       "<div>\n",
       "<style scoped>\n",
       "    .dataframe tbody tr th:only-of-type {\n",
       "        vertical-align: middle;\n",
       "    }\n",
       "\n",
       "    .dataframe tbody tr th {\n",
       "        vertical-align: top;\n",
       "    }\n",
       "\n",
       "    .dataframe thead th {\n",
       "        text-align: right;\n",
       "    }\n",
       "</style>\n",
       "<table border=\"1\" class=\"dataframe\">\n",
       "  <thead>\n",
       "    <tr style=\"text-align: right;\">\n",
       "      <th></th>\n",
       "      <th>Unnamed: 0</th>\n",
       "      <th>Значение</th>\n",
       "    </tr>\n",
       "  </thead>\n",
       "  <tbody>\n",
       "    <tr>\n",
       "      <td>0</td>\n",
       "      <td>Рейтинг (Кинопоиск)</td>\n",
       "      <td>7.9</td>\n",
       "    </tr>\n",
       "    <tr>\n",
       "      <td>1</td>\n",
       "      <td>Рейтинг (Кино-Театр)</td>\n",
       "      <td>8.8</td>\n",
       "    </tr>\n",
       "  </tbody>\n",
       "</table>\n",
       "</div>"
      ],
      "text/plain": [
       "             Unnamed: 0  Значение\n",
       "0   Рейтинг (Кинопоиск)       7.9\n",
       "1  Рейтинг (Кино-Театр)       8.8"
      ]
     },
     "execution_count": 9,
     "metadata": {},
     "output_type": "execute_result"
    }
   ],
   "source": [
    "# по умолчанию считывает все таблицы и возвращает все таблицы из HTML в виде списка\n",
    "# здесь одна – извлекаем элемент с индексом 0\n",
    "\n",
    "pd.read_html(table)[0] "
   ]
  },
  {
   "cell_type": "markdown",
   "metadata": {
    "id": "Pm_QkNg-JLkw"
   },
   "source": [
    "Выглядит симпатично и просто.\n",
    "\n",
    "Теперь перейдем к более продвинутой задаче. Зайдем на сайт Левада-Центра и найдем на [странице](https://www.levada.ru/indikatory/) с индикаторами одобрения органов власти первую таблицу с данными (под первым графиком, имеет индекс 0):"
   ]
  },
  {
   "cell_type": "code",
   "execution_count": 10,
   "metadata": {
    "id": "dcwOWVsQngsZ"
   },
   "outputs": [],
   "source": [
    "page = requests.get(\"https://www.levada.ru/indikatory/\")\n",
    "soup = BeautifulSoup(page.text)\n",
    "tab0 = soup.find_all(\"table\", {\"class\" : \"datatable\"})[0]"
   ]
  },
  {
   "cell_type": "markdown",
   "metadata": {
    "id": "LqtfEd4TJn2I"
   },
   "source": [
    "Преобразуем объект `tab0` в строку, так как функция `read_html()` умеет работать только с обычными строками или файлами, а не с объектами `BeautifulSoup`, и создаем датафрейм на основе кода HTML, указав, что первая строка таблицы содержит заголовки столбцов (`header`):"
   ]
  },
  {
   "cell_type": "code",
   "execution_count": 11,
   "metadata": {
    "colab": {
     "base_uri": "https://localhost:8080/",
     "height": 237
    },
    "id": "Aki6dqsKpSDT",
    "outputId": "4a0e9635-5937-49c7-c969-a17f0375e6f5"
   },
   "outputs": [
    {
     "data": {
      "text/html": [
       "<div>\n",
       "<style scoped>\n",
       "    .dataframe tbody tr th:only-of-type {\n",
       "        vertical-align: middle;\n",
       "    }\n",
       "\n",
       "    .dataframe tbody tr th {\n",
       "        vertical-align: top;\n",
       "    }\n",
       "\n",
       "    .dataframe thead th {\n",
       "        text-align: right;\n",
       "    }\n",
       "</style>\n",
       "<table border=\"1\" class=\"dataframe\">\n",
       "  <thead>\n",
       "    <tr style=\"text-align: right;\">\n",
       "      <th></th>\n",
       "      <th>08.1999</th>\n",
       "      <th>09.1999</th>\n",
       "      <th>10.1999</th>\n",
       "      <th>11.1999</th>\n",
       "      <th>12.1999</th>\n",
       "      <th>01.2000</th>\n",
       "      <th>02.2000</th>\n",
       "      <th>03.2000</th>\n",
       "      <th>04.2000</th>\n",
       "      <th>05.2000</th>\n",
       "      <th>...</th>\n",
       "      <th>03.2022</th>\n",
       "      <th>04.2022</th>\n",
       "      <th>05.2022</th>\n",
       "      <th>06.2022</th>\n",
       "      <th>07.2022</th>\n",
       "      <th>08.2022</th>\n",
       "      <th>09.2022</th>\n",
       "      <th>10.2022</th>\n",
       "      <th>11.2022</th>\n",
       "      <th>12.2022</th>\n",
       "    </tr>\n",
       "  </thead>\n",
       "  <tbody>\n",
       "    <tr>\n",
       "      <td>0</td>\n",
       "      <td>31</td>\n",
       "      <td>53</td>\n",
       "      <td>65</td>\n",
       "      <td>80</td>\n",
       "      <td>79</td>\n",
       "      <td>84</td>\n",
       "      <td>75</td>\n",
       "      <td>70</td>\n",
       "      <td>77</td>\n",
       "      <td>72</td>\n",
       "      <td>...</td>\n",
       "      <td>83</td>\n",
       "      <td>82</td>\n",
       "      <td>83</td>\n",
       "      <td>83</td>\n",
       "      <td>83</td>\n",
       "      <td>83</td>\n",
       "      <td>77</td>\n",
       "      <td>79</td>\n",
       "      <td>79</td>\n",
       "      <td>81</td>\n",
       "    </tr>\n",
       "    <tr>\n",
       "      <td>1</td>\n",
       "      <td>33</td>\n",
       "      <td>27</td>\n",
       "      <td>20</td>\n",
       "      <td>12</td>\n",
       "      <td>13</td>\n",
       "      <td>10</td>\n",
       "      <td>17</td>\n",
       "      <td>21</td>\n",
       "      <td>15</td>\n",
       "      <td>17</td>\n",
       "      <td>...</td>\n",
       "      <td>15</td>\n",
       "      <td>17</td>\n",
       "      <td>15</td>\n",
       "      <td>16</td>\n",
       "      <td>15</td>\n",
       "      <td>15</td>\n",
       "      <td>21</td>\n",
       "      <td>19</td>\n",
       "      <td>18</td>\n",
       "      <td>17</td>\n",
       "    </tr>\n",
       "    <tr>\n",
       "      <td>2</td>\n",
       "      <td>37</td>\n",
       "      <td>20</td>\n",
       "      <td>15</td>\n",
       "      <td>8</td>\n",
       "      <td>8</td>\n",
       "      <td>7</td>\n",
       "      <td>8</td>\n",
       "      <td>9</td>\n",
       "      <td>8</td>\n",
       "      <td>11</td>\n",
       "      <td>...</td>\n",
       "      <td>2</td>\n",
       "      <td>1</td>\n",
       "      <td>2</td>\n",
       "      <td>1</td>\n",
       "      <td>2</td>\n",
       "      <td>2</td>\n",
       "      <td>2</td>\n",
       "      <td>2</td>\n",
       "      <td>3</td>\n",
       "      <td>2</td>\n",
       "    </tr>\n",
       "  </tbody>\n",
       "</table>\n",
       "<p>3 rows × 279 columns</p>\n",
       "</div>"
      ],
      "text/plain": [
       "   08.1999  09.1999  10.1999  11.1999  12.1999  01.2000  02.2000  03.2000  \\\n",
       "0       31       53       65       80       79       84       75       70   \n",
       "1       33       27       20       12       13       10       17       21   \n",
       "2       37       20       15        8        8        7        8        9   \n",
       "\n",
       "   04.2000  05.2000  ...  03.2022  04.2022  05.2022  06.2022  07.2022  \\\n",
       "0       77       72  ...       83       82       83       83       83   \n",
       "1       15       17  ...       15       17       15       16       15   \n",
       "2        8       11  ...        2        1        2        1        2   \n",
       "\n",
       "   08.2022  09.2022  10.2022  11.2022  12.2022  \n",
       "0       83       77       79       79       81  \n",
       "1       15       21       19       18       17  \n",
       "2        2        2        2        3        2  \n",
       "\n",
       "[3 rows x 279 columns]"
      ]
     },
     "execution_count": 11,
     "metadata": {},
     "output_type": "execute_result"
    }
   ],
   "source": [
    "df = pd.read_html(str(tab0), header = 0)[0]\n",
    "df"
   ]
  },
  {
   "cell_type": "markdown",
   "metadata": {
    "id": "gtS8g-ynJ8pZ"
   },
   "source": [
    "Ура! Одной строчкой кода мы получили красивую таблицу вместо «сырого» фрагмента HTML. Давайте транспонируем полученный датафрейм, чтобы получить более привычный вариант таблицы (и удобный для визуализации, если нас интересует динамика процента одобряющий и неодобряющих):"
   ]
  },
  {
   "cell_type": "code",
   "execution_count": 12,
   "metadata": {
    "id": "sU4UPKl-peUR"
   },
   "outputs": [
    {
     "data": {
      "text/html": [
       "<div>\n",
       "<style scoped>\n",
       "    .dataframe tbody tr th:only-of-type {\n",
       "        vertical-align: middle;\n",
       "    }\n",
       "\n",
       "    .dataframe tbody tr th {\n",
       "        vertical-align: top;\n",
       "    }\n",
       "\n",
       "    .dataframe thead th {\n",
       "        text-align: right;\n",
       "    }\n",
       "</style>\n",
       "<table border=\"1\" class=\"dataframe\">\n",
       "  <thead>\n",
       "    <tr style=\"text-align: right;\">\n",
       "      <th></th>\n",
       "      <th>0</th>\n",
       "      <th>1</th>\n",
       "      <th>2</th>\n",
       "    </tr>\n",
       "  </thead>\n",
       "  <tbody>\n",
       "    <tr>\n",
       "      <td>08.1999</td>\n",
       "      <td>31</td>\n",
       "      <td>33</td>\n",
       "      <td>37</td>\n",
       "    </tr>\n",
       "    <tr>\n",
       "      <td>09.1999</td>\n",
       "      <td>53</td>\n",
       "      <td>27</td>\n",
       "      <td>20</td>\n",
       "    </tr>\n",
       "    <tr>\n",
       "      <td>10.1999</td>\n",
       "      <td>65</td>\n",
       "      <td>20</td>\n",
       "      <td>15</td>\n",
       "    </tr>\n",
       "    <tr>\n",
       "      <td>11.1999</td>\n",
       "      <td>80</td>\n",
       "      <td>12</td>\n",
       "      <td>8</td>\n",
       "    </tr>\n",
       "    <tr>\n",
       "      <td>12.1999</td>\n",
       "      <td>79</td>\n",
       "      <td>13</td>\n",
       "      <td>8</td>\n",
       "    </tr>\n",
       "    <tr>\n",
       "      <td>...</td>\n",
       "      <td>...</td>\n",
       "      <td>...</td>\n",
       "      <td>...</td>\n",
       "    </tr>\n",
       "    <tr>\n",
       "      <td>08.2022</td>\n",
       "      <td>83</td>\n",
       "      <td>15</td>\n",
       "      <td>2</td>\n",
       "    </tr>\n",
       "    <tr>\n",
       "      <td>09.2022</td>\n",
       "      <td>77</td>\n",
       "      <td>21</td>\n",
       "      <td>2</td>\n",
       "    </tr>\n",
       "    <tr>\n",
       "      <td>10.2022</td>\n",
       "      <td>79</td>\n",
       "      <td>19</td>\n",
       "      <td>2</td>\n",
       "    </tr>\n",
       "    <tr>\n",
       "      <td>11.2022</td>\n",
       "      <td>79</td>\n",
       "      <td>18</td>\n",
       "      <td>3</td>\n",
       "    </tr>\n",
       "    <tr>\n",
       "      <td>12.2022</td>\n",
       "      <td>81</td>\n",
       "      <td>17</td>\n",
       "      <td>2</td>\n",
       "    </tr>\n",
       "  </tbody>\n",
       "</table>\n",
       "<p>279 rows × 3 columns</p>\n",
       "</div>"
      ],
      "text/plain": [
       "          0   1   2\n",
       "08.1999  31  33  37\n",
       "09.1999  53  27  20\n",
       "10.1999  65  20  15\n",
       "11.1999  80  12   8\n",
       "12.1999  79  13   8\n",
       "...      ..  ..  ..\n",
       "08.2022  83  15   2\n",
       "09.2022  77  21   2\n",
       "10.2022  79  19   2\n",
       "11.2022  79  18   3\n",
       "12.2022  81  17   2\n",
       "\n",
       "[279 rows x 3 columns]"
      ]
     },
     "execution_count": 12,
     "metadata": {},
     "output_type": "execute_result"
    }
   ],
   "source": [
    "df = df.transpose() \n",
    "df"
   ]
  },
  {
   "cell_type": "markdown",
   "metadata": {
    "id": "7khV7uQLKdNx"
   },
   "source": [
    "Обработаем этот датафрейм:\n",
    "\n",
    "* добавим названия столбцов;\n",
    "* извлечем даты из названией строк (атрибут `index`) и сохраним их в отдельный столбец;\n",
    "* в качестве названий строк добавим набор целых чисел от 0 до 279;\n",
    "* переставим столбцы местами – выбирем их в нужном порядке и перезаписываем `df`;"
   ]
  },
  {
   "cell_type": "code",
   "execution_count": 13,
   "metadata": {
    "colab": {
     "base_uri": "https://localhost:8080/",
     "height": 424
    },
    "id": "EW0HrUhVpjg5",
    "outputId": "3a5defa6-40d8-4d5a-c1c0-b654ccebac33"
   },
   "outputs": [
    {
     "data": {
      "text/html": [
       "<div>\n",
       "<style scoped>\n",
       "    .dataframe tbody tr th:only-of-type {\n",
       "        vertical-align: middle;\n",
       "    }\n",
       "\n",
       "    .dataframe tbody tr th {\n",
       "        vertical-align: top;\n",
       "    }\n",
       "\n",
       "    .dataframe thead th {\n",
       "        text-align: right;\n",
       "    }\n",
       "</style>\n",
       "<table border=\"1\" class=\"dataframe\">\n",
       "  <thead>\n",
       "    <tr style=\"text-align: right;\">\n",
       "      <th></th>\n",
       "      <th>date</th>\n",
       "      <th>yes</th>\n",
       "      <th>no</th>\n",
       "      <th>no answer</th>\n",
       "    </tr>\n",
       "  </thead>\n",
       "  <tbody>\n",
       "    <tr>\n",
       "      <td>0</td>\n",
       "      <td>08.1999</td>\n",
       "      <td>31</td>\n",
       "      <td>33</td>\n",
       "      <td>37</td>\n",
       "    </tr>\n",
       "    <tr>\n",
       "      <td>1</td>\n",
       "      <td>09.1999</td>\n",
       "      <td>53</td>\n",
       "      <td>27</td>\n",
       "      <td>20</td>\n",
       "    </tr>\n",
       "    <tr>\n",
       "      <td>2</td>\n",
       "      <td>10.1999</td>\n",
       "      <td>65</td>\n",
       "      <td>20</td>\n",
       "      <td>15</td>\n",
       "    </tr>\n",
       "    <tr>\n",
       "      <td>3</td>\n",
       "      <td>11.1999</td>\n",
       "      <td>80</td>\n",
       "      <td>12</td>\n",
       "      <td>8</td>\n",
       "    </tr>\n",
       "    <tr>\n",
       "      <td>4</td>\n",
       "      <td>12.1999</td>\n",
       "      <td>79</td>\n",
       "      <td>13</td>\n",
       "      <td>8</td>\n",
       "    </tr>\n",
       "    <tr>\n",
       "      <td>...</td>\n",
       "      <td>...</td>\n",
       "      <td>...</td>\n",
       "      <td>...</td>\n",
       "      <td>...</td>\n",
       "    </tr>\n",
       "    <tr>\n",
       "      <td>274</td>\n",
       "      <td>08.2022</td>\n",
       "      <td>83</td>\n",
       "      <td>15</td>\n",
       "      <td>2</td>\n",
       "    </tr>\n",
       "    <tr>\n",
       "      <td>275</td>\n",
       "      <td>09.2022</td>\n",
       "      <td>77</td>\n",
       "      <td>21</td>\n",
       "      <td>2</td>\n",
       "    </tr>\n",
       "    <tr>\n",
       "      <td>276</td>\n",
       "      <td>10.2022</td>\n",
       "      <td>79</td>\n",
       "      <td>19</td>\n",
       "      <td>2</td>\n",
       "    </tr>\n",
       "    <tr>\n",
       "      <td>277</td>\n",
       "      <td>11.2022</td>\n",
       "      <td>79</td>\n",
       "      <td>18</td>\n",
       "      <td>3</td>\n",
       "    </tr>\n",
       "    <tr>\n",
       "      <td>278</td>\n",
       "      <td>12.2022</td>\n",
       "      <td>81</td>\n",
       "      <td>17</td>\n",
       "      <td>2</td>\n",
       "    </tr>\n",
       "  </tbody>\n",
       "</table>\n",
       "<p>279 rows × 4 columns</p>\n",
       "</div>"
      ],
      "text/plain": [
       "        date  yes  no  no answer\n",
       "0    08.1999   31  33         37\n",
       "1    09.1999   53  27         20\n",
       "2    10.1999   65  20         15\n",
       "3    11.1999   80  12          8\n",
       "4    12.1999   79  13          8\n",
       "..       ...  ...  ..        ...\n",
       "274  08.2022   83  15          2\n",
       "275  09.2022   77  21          2\n",
       "276  10.2022   79  19          2\n",
       "277  11.2022   79  18          3\n",
       "278  12.2022   81  17          2\n",
       "\n",
       "[279 rows x 4 columns]"
      ]
     },
     "execution_count": 13,
     "metadata": {},
     "output_type": "execute_result"
    }
   ],
   "source": [
    "df.columns = [\"yes\", \"no\", \"no answer\"]\n",
    "df[\"date\"] = df.index\n",
    "df.index = range(0, 279) \n",
    "df = df[[\"date\", \"yes\", \"no\", \"no answer\"]]\n",
    "df"
   ]
  },
  {
   "cell_type": "markdown",
   "metadata": {
    "id": "fI4q8fExLaGJ"
   },
   "source": [
    "Проверим типы столбцов:"
   ]
  },
  {
   "cell_type": "code",
   "execution_count": 14,
   "metadata": {
    "colab": {
     "base_uri": "https://localhost:8080/"
    },
    "id": "5uRoBmkbr1-q",
    "outputId": "ec6bab90-ff41-4418-e852-3d957646e1d8"
   },
   "outputs": [
    {
     "name": "stdout",
     "output_type": "stream",
     "text": [
      "<class 'pandas.core.frame.DataFrame'>\n",
      "RangeIndex: 279 entries, 0 to 278\n",
      "Data columns (total 4 columns):\n",
      "date         279 non-null object\n",
      "yes          279 non-null int64\n",
      "no           279 non-null int64\n",
      "no answer    279 non-null int64\n",
      "dtypes: int64(3), object(1)\n",
      "memory usage: 8.8+ KB\n"
     ]
    }
   ],
   "source": [
    "df.info()"
   ]
  },
  {
   "cell_type": "markdown",
   "metadata": {
    "id": "ikR5ugSYLkku"
   },
   "source": [
    "Все отлично, числовые данные сохранены как целые числа, но дату стоит перевести в специальный формат `datetime`, иначе сортировать данные и визуализировать их будет сложно – текст с датами не будет упорядочиваться хронологически. Воспользуемся функцией `to_datetime()` и укажем, в каком формате у нас сохранены даты (про форматы и соответствующие аббревиатуры можно почитать [здесь](https://docs.python.org/3/library/datetime.html#strftime-and-strptime-behavior)):"
   ]
  },
  {
   "cell_type": "code",
   "execution_count": 15,
   "metadata": {
    "id": "k812HffNr_Qx"
   },
   "outputs": [],
   "source": [
    "# format: в каком формате даты в строке\n",
    "# %m - шаблон для месяцев в числовом виде\n",
    "# %Y – шаблон для лет в числовом виде (Y - 4 цифры, y – 2 цифры)\n",
    "\n",
    "df[\"date\"] = pd.to_datetime(df[\"date\"], format = \"%m.%Y\")"
   ]
  },
  {
   "cell_type": "markdown",
   "metadata": {},
   "source": [
    "Тип столбца изменился:"
   ]
  },
  {
   "cell_type": "code",
   "execution_count": 16,
   "metadata": {},
   "outputs": [
    {
     "name": "stdout",
     "output_type": "stream",
     "text": [
      "<class 'pandas.core.frame.DataFrame'>\n",
      "RangeIndex: 279 entries, 0 to 278\n",
      "Data columns (total 4 columns):\n",
      "date         279 non-null datetime64[ns]\n",
      "yes          279 non-null int64\n",
      "no           279 non-null int64\n",
      "no answer    279 non-null int64\n",
      "dtypes: datetime64[ns](1), int64(3)\n",
      "memory usage: 8.8 KB\n"
     ]
    }
   ],
   "source": [
    "df.info()"
   ]
  },
  {
   "cell_type": "markdown",
   "metadata": {},
   "source": [
    "И для определенности к каждой дате (а у нас был только месяц и год) приписалось число – первый день месяца:"
   ]
  },
  {
   "cell_type": "code",
   "execution_count": 17,
   "metadata": {},
   "outputs": [
    {
     "data": {
      "text/html": [
       "<div>\n",
       "<style scoped>\n",
       "    .dataframe tbody tr th:only-of-type {\n",
       "        vertical-align: middle;\n",
       "    }\n",
       "\n",
       "    .dataframe tbody tr th {\n",
       "        vertical-align: top;\n",
       "    }\n",
       "\n",
       "    .dataframe thead th {\n",
       "        text-align: right;\n",
       "    }\n",
       "</style>\n",
       "<table border=\"1\" class=\"dataframe\">\n",
       "  <thead>\n",
       "    <tr style=\"text-align: right;\">\n",
       "      <th></th>\n",
       "      <th>date</th>\n",
       "      <th>yes</th>\n",
       "      <th>no</th>\n",
       "      <th>no answer</th>\n",
       "    </tr>\n",
       "  </thead>\n",
       "  <tbody>\n",
       "    <tr>\n",
       "      <td>0</td>\n",
       "      <td>1999-08-01</td>\n",
       "      <td>31</td>\n",
       "      <td>33</td>\n",
       "      <td>37</td>\n",
       "    </tr>\n",
       "    <tr>\n",
       "      <td>1</td>\n",
       "      <td>1999-09-01</td>\n",
       "      <td>53</td>\n",
       "      <td>27</td>\n",
       "      <td>20</td>\n",
       "    </tr>\n",
       "    <tr>\n",
       "      <td>2</td>\n",
       "      <td>1999-10-01</td>\n",
       "      <td>65</td>\n",
       "      <td>20</td>\n",
       "      <td>15</td>\n",
       "    </tr>\n",
       "    <tr>\n",
       "      <td>3</td>\n",
       "      <td>1999-11-01</td>\n",
       "      <td>80</td>\n",
       "      <td>12</td>\n",
       "      <td>8</td>\n",
       "    </tr>\n",
       "    <tr>\n",
       "      <td>4</td>\n",
       "      <td>1999-12-01</td>\n",
       "      <td>79</td>\n",
       "      <td>13</td>\n",
       "      <td>8</td>\n",
       "    </tr>\n",
       "  </tbody>\n",
       "</table>\n",
       "</div>"
      ],
      "text/plain": [
       "        date  yes  no  no answer\n",
       "0 1999-08-01   31  33         37\n",
       "1 1999-09-01   53  27         20\n",
       "2 1999-10-01   65  20         15\n",
       "3 1999-11-01   80  12          8\n",
       "4 1999-12-01   79  13          8"
      ]
     },
     "execution_count": 17,
     "metadata": {},
     "output_type": "execute_result"
    }
   ],
   "source": [
    "df.head()"
   ]
  },
  {
   "cell_type": "markdown",
   "metadata": {
    "id": "1gtiUDLKMn2l"
   },
   "source": [
    "Проверим, что при визуализации динамики все будет в порядке, хронология не будет нарушена. Построим маленький базовый график с помощью функции `plot()`, без особых настроек, для примера. Импортируем модуль `pyplot`:"
   ]
  },
  {
   "cell_type": "code",
   "execution_count": 18,
   "metadata": {
    "id": "6bWX-roFsUdQ"
   },
   "outputs": [],
   "source": [
    "from matplotlib import pyplot as plt"
   ]
  },
  {
   "cell_type": "markdown",
   "metadata": {
    "id": "wPJeLenUMwYG"
   },
   "source": [
    "Давайте в одной координатной плоскости построим сразу два графика – покажем динамику для процента одобряющих и неодобряющих деятельность Владимира Путина:"
   ]
  },
  {
   "cell_type": "code",
   "execution_count": 19,
   "metadata": {
    "colab": {
     "base_uri": "https://localhost:8080/",
     "height": 283
    },
    "id": "Nc-pcM6ptHg5",
    "outputId": "4e6ae9dc-9295-4174-83d6-6ace24bf06db"
   },
   "outputs": [
    {
     "name": "stderr",
     "output_type": "stream",
     "text": [
      "/opt/anaconda3/lib/python3.7/site-packages/pandas/plotting/_matplotlib/converter.py:103: FutureWarning: Using an implicitly registered datetime converter for a matplotlib plotting method. The converter was registered by pandas on import. Future versions of pandas will require you to explicitly register matplotlib converters.\n",
      "\n",
      "To register the converters:\n",
      "\t>>> from pandas.plotting import register_matplotlib_converters\n",
      "\t>>> register_matplotlib_converters()\n",
      "  warnings.warn(msg, FutureWarning)\n"
     ]
    },
    {
     "data": {
      "text/plain": [
       "<matplotlib.legend.Legend at 0x120c2dc10>"
      ]
     },
     "execution_count": 19,
     "metadata": {},
     "output_type": "execute_result"
    },
    {
     "data": {
      "image/png": "[encoded data removed]",
      "text/plain": [
       "<Figure size 432x288 with 1 Axes>"
      ]
     },
     "metadata": {
      "needs_background": "light"
     },
     "output_type": "display_data"
    }
   ],
   "source": [
    "# label – чтобы назвать каждый график и отразить это в легенде\n",
    "\n",
    "plt.plot(df[\"date\"], df[\"yes\"], label = \"Approve\")\n",
    "plt.plot(df[\"date\"], df[\"no\"], label = \"Don't approve\")\n",
    "plt.legend()"
   ]
  },
  {
   "cell_type": "markdown",
   "metadata": {},
   "source": [
    "Отлично! График готов, похож на аналогичный график на сайте Левада-Центра. Конечно, размер и масштаб у этого графика не очень подходящие, но это всегда можно исправить (см. материалы по визуализации [здесь](http://math-info.hse.ru/s22/d))."
   ]
  }
 ],
 "metadata": {
  "colab": {
   "provenance": []
  },
  "kernelspec": {
   "display_name": "Python 3",
   "language": "python",
   "name": "python3"
  },
  "language_info": {
   "codemirror_mode": {
    "name": "ipython",
    "version": 3
   },
   "file_extension": ".py",
   "mimetype": "text/x-python",
   "name": "python",
   "nbconvert_exporter": "python",
   "pygments_lexer": "ipython3",
   "version": "3.7.4"
  }
 },
 "nbformat": 4,
 "nbformat_minor": 1
}
