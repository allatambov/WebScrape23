{
 "cells": [
  {
   "cell_type": "markdown",
   "metadata": {},
   "source": [
    "# Web-scraping: сбор данных из баз данных и интернет-источников\n",
    "\n",
    "*Алла Тамбовцева, НИУ ВШЭ*\n",
    "\n",
    "## Управление браузером с Selenium: продолжение"
   ]
  },
  {
   "cell_type": "markdown",
   "metadata": {},
   "source": [
    "## Часть 1: пример скроллинга с Selenium "
   ]
  },
  {
   "cell_type": "markdown",
   "metadata": {},
   "source": [
    "Импортируем все необходимые модули и функции:"
   ]
  },
  {
   "cell_type": "code",
   "execution_count": 1,
   "metadata": {},
   "outputs": [],
   "source": [
    "from selenium import webdriver as wd\n",
    "from selenium.webdriver.common.keys import Keys\n",
    "from selenium.webdriver.common.by import By\n",
    "from getpass import getpass\n",
    "from bs4 import BeautifulSoup\n",
    "from time import sleep"
   ]
  },
  {
   "cell_type": "markdown",
   "metadata": {},
   "source": [
    "Сразу запрашиваем и сохраняем свой пароль от ВКонтакте:"
   ]
  },
  {
   "cell_type": "code",
   "execution_count": 2,
   "metadata": {},
   "outputs": [
    {
     "name": "stdout",
     "output_type": "stream",
     "text": [
      "········\n"
     ]
    }
   ],
   "source": [
    "my_password = getpass()"
   ]
  },
  {
   "cell_type": "markdown",
   "metadata": {},
   "source": [
    "Функция для извлечения имен пользователей и ссылок на их аккаунты (с прошлого практикума):"
   ]
  },
  {
   "cell_type": "code",
   "execution_count": 3,
   "metadata": {},
   "outputs": [],
   "source": [
    "def get_person(d):\n",
    "    name = d.text\n",
    "    href = d.find(\"a\")[\"href\"]\n",
    "    full_href = \"https://vk.com\" + href\n",
    "    return name, full_href"
   ]
  },
  {
   "cell_type": "markdown",
   "metadata": {},
   "source": [
    "Запускаем браузер через Selenium:"
   ]
  },
  {
   "cell_type": "code",
   "execution_count": 5,
   "metadata": {},
   "outputs": [
    {
     "name": "stderr",
     "output_type": "stream",
     "text": [
      "<ipython-input-5-10feb1d0acbf>:1: DeprecationWarning: executable_path has been deprecated, please pass in a Service object\n",
      "  br = wd.Chrome(executable_path=r'D:\\Загрузки\\chromedriver_win32 (1)\\chromedriver.exe')\n"
     ]
    }
   ],
   "source": [
    "br = wd.Chrome(executable_path=r'D:\\Загрузки\\chromedriver_win32 (1)\\chromedriver.exe')"
   ]
  },
  {
   "cell_type": "markdown",
   "metadata": {},
   "source": [
    "Находим поле для логина и заполняем:"
   ]
  },
  {
   "cell_type": "code",
   "execution_count": null,
   "metadata": {},
   "outputs": [],
   "source": [
    "br.get(\"https://vk.com/\")\n",
    "br.implicitly_wait(3)"
   ]
  },
  {
   "cell_type": "code",
   "execution_count": 6,
   "metadata": {},
   "outputs": [],
   "source": [
    "login = br.find_element(By.ID, \"index_email\")\n",
    "login.send_keys(\"allatambov@mail.ru\")\n",
    "br.implicitly_wait(3)\n",
    "login.send_keys(Keys.ENTER)"
   ]
  },
  {
   "cell_type": "markdown",
   "metadata": {},
   "source": [
    "Находим поле для пароля и заполняем (к слову, `Keys.ENTER` и `Keys.RETURN` – одно и то же, одна и та жа клавиша для перехода на новую строку):"
   ]
  },
  {
   "cell_type": "code",
   "execution_count": 7,
   "metadata": {},
   "outputs": [],
   "source": [
    "password = br.find_element(By.NAME, \"password\")\n",
    "password.send_keys(my_password)\n",
    "br.implicitly_wait(3)\n",
    "password.send_keys(Keys.RETURN)"
   ]
  },
  {
   "cell_type": "markdown",
   "metadata": {},
   "source": [
    "Переходим на страницу для поиска людей:"
   ]
  },
  {
   "cell_type": "code",
   "execution_count": 8,
   "metadata": {},
   "outputs": [],
   "source": [
    "br.get(\"https://vk.com/friends\")"
   ]
  },
  {
   "cell_type": "markdown",
   "metadata": {},
   "source": [
    "Выставляем все фильтры для поиска сразу (код с прошлого практикума, только в одной ячейке):"
   ]
  },
  {
   "cell_type": "code",
   "execution_count": 9,
   "metadata": {},
   "outputs": [],
   "source": [
    "search = br.find_element(By.LINK_TEXT, \"Поиск друзей\")\n",
    "search.click() \n",
    "br.implicitly_wait(2)\n",
    "\n",
    "pars = br.find_element(By.ID, \"friends_filters_block\")\n",
    "pars.click()\n",
    "br.implicitly_wait(2)\n",
    "\n",
    "city = br.find_element(By.ID, \"cCity\")\n",
    "city_inp = city.find_element(By.TAG_NAME, \"input\")\n",
    "city_inp.send_keys(\"Москва\") \n",
    "br.implicitly_wait(3)\n",
    "city_inp.send_keys(Keys.RETURN)\n",
    "\n",
    "sex = br.find_element(By.ID, \"cSex\")\n",
    "values = sex.find_elements(By.TAG_NAME, \"div\")\n",
    "values[1].click()"
   ]
  },
  {
   "cell_type": "markdown",
   "metadata": {},
   "source": [
    "Извлекаем исходный код страницы и вспоминаем, как у нас извлекалась информация о пользователях в прошлый раз:"
   ]
  },
  {
   "cell_type": "code",
   "execution_count": 10,
   "metadata": {},
   "outputs": [],
   "source": [
    "html = br.page_source\n",
    "soup = BeautifulSoup(html)\n",
    "divs = soup.find_all(\"div\", {\"class\" : \"labeled name\"})\n",
    "L = [get_person(d) for d in divs] "
   ]
  },
  {
   "cell_type": "code",
   "execution_count": 11,
   "metadata": {},
   "outputs": [
    {
     "data": {
      "text/plain": [
       "[('Дмитрий Сорокин', 'https://vk.com/birdnice'),\n",
       " ('Никита Зарипов', 'https://vk.com/letsgowithyou'),\n",
       " ('Мишаня Аникин', 'https://vk.com/muaymikethai'),\n",
       " ('Владислав Рубанов', 'https://vk.com/rubanoww'),\n",
       " ('Кирилл Петров', 'https://vk.com/warpath031'),\n",
       " ('Сергей Проценко', 'https://vk.com/prsevld'),\n",
       " ('Иоанн Довгополый', 'https://vk.com/dereinzigemitdemeigentum'),\n",
       " ('Степан Кyзнeцoв', 'https://vk.com/id104687424'),\n",
       " ('Никита Бубнов', 'https://vk.com/mrnicknoker'),\n",
       " ('Стас Васильев', 'https://vk.com/stas_satori'),\n",
       " ('Артём Черняев-Ермоленко', 'https://vk.com/tatorhe'),\n",
       " ('Егор Гладких', 'https://vk.com/yegomaru'),\n",
       " ('Илья Иншаков', 'https://vk.com/id136161093'),\n",
       " ('Руслан Гончар', 'https://vk.com/ruslhu'),\n",
       " ('Илья Демидов', 'https://vk.com/lyas1k'),\n",
       " ('Даниил Аксёнов', 'https://vk.com/danhse'),\n",
       " ('Артем Терещенков', 'https://vk.com/tereshchka'),\n",
       " ('Михаил Садов', 'https://vk.com/m_sadov'),\n",
       " ('Азиз Тулаганов', 'https://vk.com/aziz_tulaganov'),\n",
       " ('Рустам Бафоев', 'https://vk.com/id331382212'),\n",
       " ('Александр Усов', 'https://vk.com/id6084115'),\n",
       " ('Павел Тюлюков', 'https://vk.com/id122738138'),\n",
       " ('Иван Александров', 'https://vk.com/halarge'),\n",
       " ('Сергей Михайлов', 'https://vk.com/samikhaylov21'),\n",
       " ('Александр Ревва', 'https://vk.com/aleksandrrevva'),\n",
       " ('Blacksigna Music', 'https://vk.com/id671606675'),\n",
       " ('Никита Лол', 'https://vk.com/nikitka_lol'),\n",
       " ('Arik Mokhov', 'https://vk.com/id388613986'),\n",
       " ('Роман Авдеев', 'https://vk.com/romeo_avd'),\n",
       " ('Александр Маврин', 'https://vk.com/mavrin'),\n",
       " ('Паша Осадчий', 'https://vk.com/osssadchiy'),\n",
       " ('Кисловский Артур', 'https://vk.com/inyanprank'),\n",
       " ('Лев Шагинян', 'https://vk.com/lev_shaginyan'),\n",
       " ('Глеб Голубин', 'https://vk.com/pluxurylord'),\n",
       " ('Владислав Медведев', 'https://vk.com/efence'),\n",
       " ('Женя Войнов', 'https://vk.com/id577227314'),\n",
       " ('Андрей Малахов', 'https://vk.com/andrey_malakhov007'),\n",
       " ('Евгений Ершов', 'https://vk.com/ershovnk'),\n",
       " ('Сергей Миронов', 'https://vk.com/mironov_sergey'),\n",
       " ('Алекс Пушкин', 'https://vk.com/id508343233')]"
      ]
     },
     "execution_count": 11,
     "metadata": {},
     "output_type": "execute_result"
    }
   ],
   "source": [
    "L"
   ]
  },
  {
   "cell_type": "markdown",
   "metadata": {},
   "source": [
    "Осталась одна проблема – мы извлекли далеко не все результаты, а только те результаты, которые «видит» браузер, то есть то, что мы как пользователи видим до скроллинга. Библиотека `selenium` умеет скроллить страницы, точнее, активировать запуск кода на JavaScript, который отвечает за скроллинг. В общем виде строка с кодом для скроллинга выглядит так (`Y` – на сколько пикселей нужно проскроллить):\n",
    "\n",
    "    br.execute_script(\"window.scrollTo(0, Y)\") \n",
    "    \n",
    "Если нужно проскроллить до конца страницы, то тогда вместо `Y` нужно вписать значение, которое извлекается из тела документа HTML:\n",
    "\n",
    "     document.body.scrollHeight"
   ]
  },
  {
   "cell_type": "markdown",
   "metadata": {},
   "source": [
    "Например, проскроллим текущую страницу до самого низа:"
   ]
  },
  {
   "cell_type": "code",
   "execution_count": 12,
   "metadata": {},
   "outputs": [],
   "source": [
    "br.execute_script(\"window.scrollTo(0, document.body.scrollHeight);\")"
   ]
  },
  {
   "cell_type": "markdown",
   "metadata": {},
   "source": [
    "Далее, чтобы открыть новые результаты, нам нужно найти кнопку *Показать ещё*. Если посмотрим внимательно на исходный код, найдём id этой кнопки:"
   ]
  },
  {
   "cell_type": "code",
   "execution_count": 13,
   "metadata": {},
   "outputs": [],
   "source": [
    "button_more = br.find_element(By.ID, \"ui_search_load_more\")"
   ]
  },
  {
   "cell_type": "markdown",
   "metadata": {},
   "source": [
    "Кликаем:"
   ]
  },
  {
   "cell_type": "code",
   "execution_count": 14,
   "metadata": {},
   "outputs": [],
   "source": [
    "button_more.click()"
   ]
  },
  {
   "cell_type": "markdown",
   "metadata": {},
   "source": [
    "Теперь нам нужно сделать следующее: выгружать информацию из исходного кода страницы по новым пользователям и скроллить страницу дальше. И повторять эти действия до тех пор, пока результаты не закончатся. Для начала напишем функцию `get_users_info()`, которая принимает на вход объект `br` (окно браузера), считывает исходный код и возвращает список с «чистыми» результатами – список пар *(имя пользователя, ссылка на профиль)*."
   ]
  },
  {
   "cell_type": "markdown",
   "metadata": {},
   "source": [
    "### Задача 1\n",
    "\n",
    "Напишите функцию `get_users_info()` согласно описанию выше."
   ]
  },
  {
   "cell_type": "code",
   "execution_count": 15,
   "metadata": {},
   "outputs": [],
   "source": [
    "def get_users_info(br):\n",
    "    html = br.page_source\n",
    "    soup = BeautifulSoup(html)\n",
    "    divs = soup.find_all(\"div\", {\"class\" : \"labeled name\"})\n",
    "    L = [get_person(d) for d in divs] \n",
    "    return L"
   ]
  },
  {
   "cell_type": "markdown",
   "metadata": {},
   "source": [
    "Теперь напишем код (адаптированный ответ с [StackOverflow](https://stackoverflow.com/questions/20986631/how-can-i-scroll-a-web-page-using-selenium-webdriver-in-python)) для цикла. Какой тип цикла нам нужен? Нам нужен цикл, который умеет повторять операции до тех пор, пока мы не дойдём до последнего результата, то есть до того момента, когда скроллить будет некуда. Воспользуемся конструкцией `while True`, бесконечным вариантом цикла `while`, который будет запускаться до тех пор, пока не дойдёт до кода с оператором `break` (выход из цикла) или не столкнётся с ошибкой. "
   ]
  },
  {
   "cell_type": "code",
   "execution_count": 16,
   "metadata": {},
   "outputs": [
    {
     "ename": "KeyboardInterrupt",
     "evalue": "",
     "output_type": "error",
     "traceback": [
      "\u001b[1;31m---------------------------------------------------------------------------\u001b[0m",
      "\u001b[1;31mKeyboardInterrupt\u001b[0m                         Traceback (most recent call last)",
      "\u001b[1;32m<ipython-input-16-b32bf6624c03>\u001b[0m in \u001b[0;36m<module>\u001b[1;34m\u001b[0m\n\u001b[0;32m      6\u001b[0m \u001b[1;33m\u001b[0m\u001b[0m\n\u001b[0;32m      7\u001b[0m \u001b[1;32mwhile\u001b[0m \u001b[1;32mTrue\u001b[0m\u001b[1;33m:\u001b[0m\u001b[1;33m\u001b[0m\u001b[1;33m\u001b[0m\u001b[0m\n\u001b[1;32m----> 8\u001b[1;33m     \u001b[0mres\u001b[0m \u001b[1;33m=\u001b[0m \u001b[0mget_users_info\u001b[0m\u001b[1;33m(\u001b[0m\u001b[0mbr\u001b[0m\u001b[1;33m)\u001b[0m\u001b[1;33m\u001b[0m\u001b[1;33m\u001b[0m\u001b[0m\n\u001b[0m\u001b[0;32m      9\u001b[0m     \u001b[0mall_results\u001b[0m\u001b[1;33m.\u001b[0m\u001b[0mextend\u001b[0m\u001b[1;33m(\u001b[0m\u001b[0mres\u001b[0m\u001b[1;33m)\u001b[0m\u001b[1;33m\u001b[0m\u001b[1;33m\u001b[0m\u001b[0m\n\u001b[0;32m     10\u001b[0m \u001b[1;33m\u001b[0m\u001b[0m\n",
      "\u001b[1;32m<ipython-input-15-0c77d6f36d85>\u001b[0m in \u001b[0;36mget_users_info\u001b[1;34m(br)\u001b[0m\n\u001b[0;32m      2\u001b[0m     \u001b[0mhtml\u001b[0m \u001b[1;33m=\u001b[0m \u001b[0mbr\u001b[0m\u001b[1;33m.\u001b[0m\u001b[0mpage_source\u001b[0m\u001b[1;33m\u001b[0m\u001b[1;33m\u001b[0m\u001b[0m\n\u001b[0;32m      3\u001b[0m     \u001b[0msoup\u001b[0m \u001b[1;33m=\u001b[0m \u001b[0mBeautifulSoup\u001b[0m\u001b[1;33m(\u001b[0m\u001b[0mhtml\u001b[0m\u001b[1;33m)\u001b[0m\u001b[1;33m\u001b[0m\u001b[1;33m\u001b[0m\u001b[0m\n\u001b[1;32m----> 4\u001b[1;33m     \u001b[0mdivs\u001b[0m \u001b[1;33m=\u001b[0m \u001b[0msoup\u001b[0m\u001b[1;33m.\u001b[0m\u001b[0mfind_all\u001b[0m\u001b[1;33m(\u001b[0m\u001b[1;34m\"div\"\u001b[0m\u001b[1;33m,\u001b[0m \u001b[1;33m{\u001b[0m\u001b[1;34m\"class\"\u001b[0m \u001b[1;33m:\u001b[0m \u001b[1;34m\"labeled name\"\u001b[0m\u001b[1;33m}\u001b[0m\u001b[1;33m)\u001b[0m\u001b[1;33m\u001b[0m\u001b[1;33m\u001b[0m\u001b[0m\n\u001b[0m\u001b[0;32m      5\u001b[0m     \u001b[0mL\u001b[0m \u001b[1;33m=\u001b[0m \u001b[1;33m[\u001b[0m\u001b[0mget_person\u001b[0m\u001b[1;33m(\u001b[0m\u001b[0md\u001b[0m\u001b[1;33m)\u001b[0m \u001b[1;32mfor\u001b[0m \u001b[0md\u001b[0m \u001b[1;32min\u001b[0m \u001b[0mdivs\u001b[0m\u001b[1;33m]\u001b[0m\u001b[1;33m\u001b[0m\u001b[1;33m\u001b[0m\u001b[0m\n\u001b[0;32m      6\u001b[0m     \u001b[1;32mreturn\u001b[0m \u001b[0mL\u001b[0m\u001b[1;33m\u001b[0m\u001b[1;33m\u001b[0m\u001b[0m\n",
      "\u001b[1;32mD:\\Anaconda3\\lib\\site-packages\\bs4\\element.py\u001b[0m in \u001b[0;36mfind_all\u001b[1;34m(self, name, attrs, recursive, text, limit, **kwargs)\u001b[0m\n\u001b[0;32m   1781\u001b[0m         \u001b[1;32mif\u001b[0m \u001b[1;32mnot\u001b[0m \u001b[0mrecursive\u001b[0m\u001b[1;33m:\u001b[0m\u001b[1;33m\u001b[0m\u001b[1;33m\u001b[0m\u001b[0m\n\u001b[0;32m   1782\u001b[0m             \u001b[0mgenerator\u001b[0m \u001b[1;33m=\u001b[0m \u001b[0mself\u001b[0m\u001b[1;33m.\u001b[0m\u001b[0mchildren\u001b[0m\u001b[1;33m\u001b[0m\u001b[1;33m\u001b[0m\u001b[0m\n\u001b[1;32m-> 1783\u001b[1;33m         \u001b[1;32mreturn\u001b[0m \u001b[0mself\u001b[0m\u001b[1;33m.\u001b[0m\u001b[0m_find_all\u001b[0m\u001b[1;33m(\u001b[0m\u001b[0mname\u001b[0m\u001b[1;33m,\u001b[0m \u001b[0mattrs\u001b[0m\u001b[1;33m,\u001b[0m \u001b[0mtext\u001b[0m\u001b[1;33m,\u001b[0m \u001b[0mlimit\u001b[0m\u001b[1;33m,\u001b[0m \u001b[0mgenerator\u001b[0m\u001b[1;33m,\u001b[0m \u001b[1;33m**\u001b[0m\u001b[0mkwargs\u001b[0m\u001b[1;33m)\u001b[0m\u001b[1;33m\u001b[0m\u001b[1;33m\u001b[0m\u001b[0m\n\u001b[0m\u001b[0;32m   1784\u001b[0m     \u001b[0mfindAll\u001b[0m \u001b[1;33m=\u001b[0m \u001b[0mfind_all\u001b[0m       \u001b[1;31m# BS3\u001b[0m\u001b[1;33m\u001b[0m\u001b[1;33m\u001b[0m\u001b[0m\n\u001b[0;32m   1785\u001b[0m     \u001b[0mfindChildren\u001b[0m \u001b[1;33m=\u001b[0m \u001b[0mfind_all\u001b[0m  \u001b[1;31m# BS2\u001b[0m\u001b[1;33m\u001b[0m\u001b[1;33m\u001b[0m\u001b[0m\n",
      "\u001b[1;32mD:\\Anaconda3\\lib\\site-packages\\bs4\\element.py\u001b[0m in \u001b[0;36m_find_all\u001b[1;34m(self, name, attrs, text, limit, generator, **kwargs)\u001b[0m\n\u001b[0;32m    776\u001b[0m                 \u001b[1;32mbreak\u001b[0m\u001b[1;33m\u001b[0m\u001b[1;33m\u001b[0m\u001b[0m\n\u001b[0;32m    777\u001b[0m             \u001b[1;32mif\u001b[0m \u001b[0mi\u001b[0m\u001b[1;33m:\u001b[0m\u001b[1;33m\u001b[0m\u001b[1;33m\u001b[0m\u001b[0m\n\u001b[1;32m--> 778\u001b[1;33m                 \u001b[0mfound\u001b[0m \u001b[1;33m=\u001b[0m \u001b[0mstrainer\u001b[0m\u001b[1;33m.\u001b[0m\u001b[0msearch\u001b[0m\u001b[1;33m(\u001b[0m\u001b[0mi\u001b[0m\u001b[1;33m)\u001b[0m\u001b[1;33m\u001b[0m\u001b[1;33m\u001b[0m\u001b[0m\n\u001b[0m\u001b[0;32m    779\u001b[0m                 \u001b[1;32mif\u001b[0m \u001b[0mfound\u001b[0m\u001b[1;33m:\u001b[0m\u001b[1;33m\u001b[0m\u001b[1;33m\u001b[0m\u001b[0m\n\u001b[0;32m    780\u001b[0m                     \u001b[0mresults\u001b[0m\u001b[1;33m.\u001b[0m\u001b[0mappend\u001b[0m\u001b[1;33m(\u001b[0m\u001b[0mfound\u001b[0m\u001b[1;33m)\u001b[0m\u001b[1;33m\u001b[0m\u001b[1;33m\u001b[0m\u001b[0m\n",
      "\u001b[1;32mD:\\Anaconda3\\lib\\site-packages\\bs4\\element.py\u001b[0m in \u001b[0;36msearch\u001b[1;34m(self, markup)\u001b[0m\n\u001b[0;32m   2049\u001b[0m         \u001b[1;31m# Don't bother with Tags if we're searching for text.\u001b[0m\u001b[1;33m\u001b[0m\u001b[1;33m\u001b[0m\u001b[1;33m\u001b[0m\u001b[0m\n\u001b[0;32m   2050\u001b[0m         \u001b[1;32melif\u001b[0m \u001b[0misinstance\u001b[0m\u001b[1;33m(\u001b[0m\u001b[0mmarkup\u001b[0m\u001b[1;33m,\u001b[0m \u001b[0mTag\u001b[0m\u001b[1;33m)\u001b[0m\u001b[1;33m:\u001b[0m\u001b[1;33m\u001b[0m\u001b[1;33m\u001b[0m\u001b[0m\n\u001b[1;32m-> 2051\u001b[1;33m             \u001b[1;32mif\u001b[0m \u001b[1;32mnot\u001b[0m \u001b[0mself\u001b[0m\u001b[1;33m.\u001b[0m\u001b[0mtext\u001b[0m \u001b[1;32mor\u001b[0m \u001b[0mself\u001b[0m\u001b[1;33m.\u001b[0m\u001b[0mname\u001b[0m \u001b[1;32mor\u001b[0m \u001b[0mself\u001b[0m\u001b[1;33m.\u001b[0m\u001b[0mattrs\u001b[0m\u001b[1;33m:\u001b[0m\u001b[1;33m\u001b[0m\u001b[1;33m\u001b[0m\u001b[0m\n\u001b[0m\u001b[0;32m   2052\u001b[0m                 \u001b[0mfound\u001b[0m \u001b[1;33m=\u001b[0m \u001b[0mself\u001b[0m\u001b[1;33m.\u001b[0m\u001b[0msearch_tag\u001b[0m\u001b[1;33m(\u001b[0m\u001b[0mmarkup\u001b[0m\u001b[1;33m)\u001b[0m\u001b[1;33m\u001b[0m\u001b[1;33m\u001b[0m\u001b[0m\n\u001b[0;32m   2053\u001b[0m         \u001b[1;31m# If it's text, make sure the text matches.\u001b[0m\u001b[1;33m\u001b[0m\u001b[1;33m\u001b[0m\u001b[1;33m\u001b[0m\u001b[0m\n",
      "\u001b[1;31mKeyboardInterrupt\u001b[0m: "
     ]
    }
   ],
   "source": [
    "# результатов много, фильтры очень общие\n",
    "# оставновим цикл сами через Стоп (Kernel – Interrupt)\n",
    "\n",
    "all_results = []\n",
    "last_height = br.execute_script(\"return document.body.scrollHeight\")\n",
    "\n",
    "while True:\n",
    "    res = get_users_info(br)\n",
    "    all_results.extend(res) \n",
    "    \n",
    "    br.execute_script(\"window.scrollTo(0, document.body.scrollHeight);\")\n",
    "    new_height = br.execute_script(\"return document.body.scrollHeight\")\n",
    "    sleep(1)\n",
    "    \n",
    "    if new_height == last_height:\n",
    "        break\n",
    "        \n",
    "    last_height = new_height"
   ]
  },
  {
   "cell_type": "markdown",
   "metadata": {},
   "source": [
    "Пояснения к коду.\n",
    "\n",
    "1. Сохраняем в переменную `last_height` величину, на которую мы можем проскроллить страницу за один раз в данный момент времени, чтобы дойти до конца страницы. \n",
    "\n",
    "2. На каждой итерации цикла `while` мы выгружаем информацию, добавляем её в список `all_results` и скроллим страницу до самого низа. После скроллинга проверяем, на сколько ещё можно проскроллить, сохраняем полученное значение в `new_height`. \n",
    "\n",
    "3. Если скроллить уже некуда, если мы находимся в самом низу «бесконечной» страницы с результатами поиска, то `new_height` совпадает с `last_height`. Значит, нам нужно остановить исполнение кода – выходим из цикла с помощью `break`. \n",
    "\n",
    "4. Если мы ещё не закончили скроллить, обновляем значение `last_height`, заменяя его на `new_height` (теперь уже в нём хранится величина, на которую мы можем проскроллить страницу за один раз в данный момент времени). Продолжаем выполнять выгрузку информации и скроллинг."
   ]
  },
  {
   "cell_type": "markdown",
   "metadata": {},
   "source": [
    "### Задача 2\n",
    "\n",
    "Создайте новый список `results_unique`, который не содержит повторений (набор уникальных пар значений)."
   ]
  },
  {
   "cell_type": "code",
   "execution_count": 19,
   "metadata": {},
   "outputs": [],
   "source": [
    "results_unique = list(set(all_results))"
   ]
  },
  {
   "cell_type": "markdown",
   "metadata": {},
   "source": [
    "### Задача 3\n",
    "\n",
    "Создайте датафрейм на основе списка `results_unique`, присвойте столбцам подходящие названия и выгрузите таблицу в файл Excel."
   ]
  },
  {
   "cell_type": "code",
   "execution_count": 23,
   "metadata": {},
   "outputs": [],
   "source": [
    "import pandas as pd\n",
    "df = pd.DataFrame(results_unique)\n",
    "df.columns = [\"user\", \"link\"]\n",
    "df.to_excel(\"vk-users.xlsx\")"
   ]
  },
  {
   "cell_type": "markdown",
   "metadata": {},
   "source": [
    "## Часть 2: выгрузка информации из ссылок в адресной строке"
   ]
  },
  {
   "cell_type": "markdown",
   "metadata": {},
   "source": [
    "### Задача 1\n",
    "\n",
    "Напишите функцию `get_link()`, которая принимает на вход строку с адресом, заходит на страницу [Google Maps](https://www.google.com/maps), вводит в поле для поиска этот адрес и сохраняет ссылку, которая скрывает в себе координаты, соответствующие этому адресу."
   ]
  },
  {
   "cell_type": "code",
   "execution_count": null,
   "metadata": {},
   "outputs": [],
   "source": [
    "# пока работаем с одним примером\n",
    "\n",
    "br.get(\"https://www.google.com/maps\")"
   ]
  },
  {
   "cell_type": "code",
   "execution_count": 25,
   "metadata": {},
   "outputs": [],
   "source": [
    "# ищем поле для поиска\n",
    "\n",
    "search = br.find_element(By.ID, \"searchboxinput\")\n",
    "search = br.find_element(By.CSS_SELECTOR, \"#searchboxinput\")"
   ]
  },
  {
   "cell_type": "code",
   "execution_count": 29,
   "metadata": {},
   "outputs": [],
   "source": [
    "# вводим адрес – предварительно очищаем поле на всякий случай\n",
    "\n",
    "addr = \"Москва, Мясницкая улица, 20\"\n",
    "search.clear()\n",
    "search.send_keys(addr)\n",
    "\n",
    "# ищем кнопку для поиска\n",
    "button = br.find_element(By.CSS_SELECTOR,\"#searchbox-searchbutton\")\n",
    "button.click() "
   ]
  },
  {
   "cell_type": "code",
   "execution_count": 30,
   "metadata": {},
   "outputs": [
    {
     "data": {
      "text/plain": [
       "'https://www.google.com/maps/place/%D0%9C%D1%8F%D1%81%D0%BD%D0%B8%D1%86%D0%BA%D0%B0%D1%8F+%D1%83%D0%BB.,+20,+%D0%9C%D0%BE%D1%81%D0%BA%D0%B2%D0%B0,+101000/@55.7615846,37.631129,17z/data=!3m1!4b1!4m5!3m4!1s0x46b54a5de2123c87:0x49e0282321a5956a!8m2!3d55.7615816!4d37.633323'"
      ]
     },
     "execution_count": 30,
     "metadata": {},
     "output_type": "execute_result"
    }
   ],
   "source": [
    "# сама страница с результатами не нужна\n",
    "# широта и долгота хранятся в ссылке в адресной строке\n",
    "\n",
    "br.current_url"
   ]
  },
  {
   "cell_type": "code",
   "execution_count": 32,
   "metadata": {},
   "outputs": [],
   "source": [
    "# наконец, все в одной функции\n",
    "\n",
    "def get_link(addr):\n",
    "    search = br.find_element(By.ID, \"searchboxinput\")\n",
    "    search.clear()\n",
    "    search.send_keys(addr)\n",
    "    sleep(3)\n",
    "    button = br.find_element(By.CSS_SELECTOR,\"#searchbox-searchbutton\")\n",
    "    button.click() \n",
    "    sleep(3)\n",
    "    link = br.current_url\n",
    "    return link"
   ]
  },
  {
   "cell_type": "markdown",
   "metadata": {},
   "source": [
    "### Задача 2\n",
    "\n",
    "Примените эту функцию для всех адресов в списке `addresses` и создайте словарь с парами, где ключом является адрес, а значением – ссылка с координатами. Преобразуйте полученный словарь в датафрейм. "
   ]
  },
  {
   "cell_type": "code",
   "execution_count": 33,
   "metadata": {},
   "outputs": [
    {
     "name": "stdout",
     "output_type": "stream",
     "text": [
      "BROADWAY & LEE ST, Cambridge, MA 0\n",
      "100 MAGEE ST, Cambridge, MA 1\n",
      "100 Elm St, Cambridge, MA 2\n",
      "ATHENAEUM ST & Athenaeum St, Cambridge, MA 3\n",
      "HARVARD ST & WINDSOR ST, Cambridge, MA 4\n",
      "Massachusetts Ave & Brookline St, Cambridge, MA 5\n",
      "PEARL ST & Perry St, Cambridge, MA 6\n",
      "Temple St, Cambridge, MA 7\n",
      "100 LAWN ST, Cambridge, MA 8\n",
      "200 BINNEY ST, Cambridge, MA 9\n"
     ]
    }
   ],
   "source": [
    "addresses = [\"BROADWAY & LEE ST, Cambridge, MA\",\n",
    "            \"100 MAGEE ST, Cambridge, MA\",\n",
    "            \"100 Elm St, Cambridge, MA\",\n",
    "            \"ATHENAEUM ST & Athenaeum St, Cambridge, MA\",\n",
    "            \"HARVARD ST & WINDSOR ST, Cambridge, MA\",\n",
    "            \"Massachusetts Ave & Brookline St, Cambridge, MA\",\n",
    "            \"PEARL ST & Perry St, Cambridge, MA\",\n",
    "            \"Temple St, Cambridge, MA\",\n",
    "            \"100 LAWN ST, Cambridge, MA\",\n",
    "            \"200 BINNEY ST, Cambridge, MA\"]\n",
    "\n",
    "info = {}\n",
    "for a in addresses:\n",
    "    info[a] = get_link(a)\n",
    "    print(a, addresses.index(a))"
   ]
  },
  {
   "cell_type": "markdown",
   "metadata": {},
   "source": [
    "### Задача 3\n",
    "\n",
    "Добавьте в полученный датафрейм столбцы с широтой и долготой, соответствующими каждому адресу."
   ]
  },
  {
   "cell_type": "code",
   "execution_count": 38,
   "metadata": {},
   "outputs": [],
   "source": [
    "dat = pd.DataFrame(info.items())"
   ]
  },
  {
   "cell_type": "code",
   "execution_count": 45,
   "metadata": {},
   "outputs": [
    {
     "data": {
      "text/plain": [
       "['https://www.google.com/maps/place/Broadway+',\n",
       " '+Lee+St/',\n",
       " '42.3707009,-71.106863,17z/data=!3m1!4b1!4m5!3m4!1s0x89e3774e15ebc1f7:0xe356728a459fd20e!8m2!3d42.370697!4d-71.104669']"
      ]
     },
     "execution_count": 45,
     "metadata": {},
     "output_type": "execute_result"
    }
   ],
   "source": [
    "# как разбить ссылку и забрать широту и долготу\n",
    "# разбиваем по @, забираем последнюю часть\n",
    "\n",
    "dat[1][0].split(\"@\")"
   ]
  },
  {
   "cell_type": "code",
   "execution_count": 49,
   "metadata": {},
   "outputs": [],
   "source": [
    "# последнюю часть разбиваем по запятой\n",
    "# первый элемент – широта\n",
    "# второй элемент – долгота\n",
    "\n",
    "dat[\"lat\"] = dat[1].apply(lambda x: x.split(\"@\")[-1].split(\",\")[0])\n",
    "dat[\"long\"] = dat[1].apply(lambda x: x.split(\"@\")[-1].split(\",\")[1])"
   ]
  },
  {
   "cell_type": "code",
   "execution_count": 51,
   "metadata": {},
   "outputs": [],
   "source": [
    "# переименовываем столбцы\n",
    "\n",
    "dat.rename(columns = {0: \"address\", 1 : \"link\"}, inplace = True)"
   ]
  },
  {
   "cell_type": "code",
   "execution_count": 52,
   "metadata": {},
   "outputs": [
    {
     "data": {
      "text/html": [
       "<div>\n",
       "<style scoped>\n",
       "    .dataframe tbody tr th:only-of-type {\n",
       "        vertical-align: middle;\n",
       "    }\n",
       "\n",
       "    .dataframe tbody tr th {\n",
       "        vertical-align: top;\n",
       "    }\n",
       "\n",
       "    .dataframe thead th {\n",
       "        text-align: right;\n",
       "    }\n",
       "</style>\n",
       "<table border=\"1\" class=\"dataframe\">\n",
       "  <thead>\n",
       "    <tr style=\"text-align: right;\">\n",
       "      <th></th>\n",
       "      <th>address</th>\n",
       "      <th>link</th>\n",
       "      <th>lat</th>\n",
       "      <th>long</th>\n",
       "    </tr>\n",
       "  </thead>\n",
       "  <tbody>\n",
       "    <tr>\n",
       "      <th>0</th>\n",
       "      <td>BROADWAY &amp; LEE ST, Cambridge, MA</td>\n",
       "      <td>https://www.google.com/maps/place/Broadway+@+L...</td>\n",
       "      <td>42.3707009</td>\n",
       "      <td>-71.106863</td>\n",
       "    </tr>\n",
       "    <tr>\n",
       "      <th>1</th>\n",
       "      <td>100 MAGEE ST, Cambridge, MA</td>\n",
       "      <td>https://www.google.com/maps/place/100+Magee+St...</td>\n",
       "      <td>42.3653226</td>\n",
       "      <td>-71.1137659</td>\n",
       "    </tr>\n",
       "    <tr>\n",
       "      <th>2</th>\n",
       "      <td>100 Elm St, Cambridge, MA</td>\n",
       "      <td>https://www.google.com/maps/place/100+Elm+St,+...</td>\n",
       "      <td>42.3693695</td>\n",
       "      <td>-71.0994694</td>\n",
       "    </tr>\n",
       "    <tr>\n",
       "      <th>3</th>\n",
       "      <td>ATHENAEUM ST &amp; Athenaeum St, Cambridge, MA</td>\n",
       "      <td>https://www.google.com/maps/place/Athenaeum+St...</td>\n",
       "      <td>42.3642168</td>\n",
       "      <td>-71.0834516</td>\n",
       "    </tr>\n",
       "    <tr>\n",
       "      <th>4</th>\n",
       "      <td>HARVARD ST &amp; WINDSOR ST, Cambridge, MA</td>\n",
       "      <td>https://www.google.com/maps/place/Windsor+St+%...</td>\n",
       "      <td>42.366192</td>\n",
       "      <td>-71.0979686</td>\n",
       "    </tr>\n",
       "    <tr>\n",
       "      <th>5</th>\n",
       "      <td>Massachusetts Ave &amp; Brookline St, Cambridge, MA</td>\n",
       "      <td>https://www.google.com/maps/place/Massachusett...</td>\n",
       "      <td>42.3640341</td>\n",
       "      <td>-71.1035858</td>\n",
       "    </tr>\n",
       "    <tr>\n",
       "      <th>6</th>\n",
       "      <td>PEARL ST &amp; Perry St, Cambridge, MA</td>\n",
       "      <td>https://www.google.com/maps/place/Perry+St+%26...</td>\n",
       "      <td>42.3616089</td>\n",
       "      <td>-71.1081985</td>\n",
       "    </tr>\n",
       "    <tr>\n",
       "      <th>7</th>\n",
       "      <td>Temple St, Cambridge, MA</td>\n",
       "      <td>https://www.google.com/maps/place/Temple+St,+C...</td>\n",
       "      <td>42.3663827</td>\n",
       "      <td>-71.1064264</td>\n",
       "    </tr>\n",
       "    <tr>\n",
       "      <th>8</th>\n",
       "      <td>100 LAWN ST, Cambridge, MA</td>\n",
       "      <td>https://www.google.com/maps/place/100+Lawn+St,...</td>\n",
       "      <td>42.37813</td>\n",
       "      <td>-71.1562314</td>\n",
       "    </tr>\n",
       "    <tr>\n",
       "      <th>9</th>\n",
       "      <td>200 BINNEY ST, Cambridge, MA</td>\n",
       "      <td>https://www.google.com/maps/place/200+Binney+S...</td>\n",
       "      <td>42.3656417</td>\n",
       "      <td>-71.0864745</td>\n",
       "    </tr>\n",
       "  </tbody>\n",
       "</table>\n",
       "</div>"
      ],
      "text/plain": [
       "                                           address  \\\n",
       "0                 BROADWAY & LEE ST, Cambridge, MA   \n",
       "1                      100 MAGEE ST, Cambridge, MA   \n",
       "2                        100 Elm St, Cambridge, MA   \n",
       "3       ATHENAEUM ST & Athenaeum St, Cambridge, MA   \n",
       "4           HARVARD ST & WINDSOR ST, Cambridge, MA   \n",
       "5  Massachusetts Ave & Brookline St, Cambridge, MA   \n",
       "6               PEARL ST & Perry St, Cambridge, MA   \n",
       "7                         Temple St, Cambridge, MA   \n",
       "8                       100 LAWN ST, Cambridge, MA   \n",
       "9                     200 BINNEY ST, Cambridge, MA   \n",
       "\n",
       "                                                link         lat         long  \n",
       "0  https://www.google.com/maps/place/Broadway+@+L...  42.3707009   -71.106863  \n",
       "1  https://www.google.com/maps/place/100+Magee+St...  42.3653226  -71.1137659  \n",
       "2  https://www.google.com/maps/place/100+Elm+St,+...  42.3693695  -71.0994694  \n",
       "3  https://www.google.com/maps/place/Athenaeum+St...  42.3642168  -71.0834516  \n",
       "4  https://www.google.com/maps/place/Windsor+St+%...   42.366192  -71.0979686  \n",
       "5  https://www.google.com/maps/place/Massachusett...  42.3640341  -71.1035858  \n",
       "6  https://www.google.com/maps/place/Perry+St+%26...  42.3616089  -71.1081985  \n",
       "7  https://www.google.com/maps/place/Temple+St,+C...  42.3663827  -71.1064264  \n",
       "8  https://www.google.com/maps/place/100+Lawn+St,...    42.37813  -71.1562314  \n",
       "9  https://www.google.com/maps/place/200+Binney+S...  42.3656417  -71.0864745  "
      ]
     },
     "execution_count": 52,
     "metadata": {},
     "output_type": "execute_result"
    }
   ],
   "source": [
    "dat"
   ]
  }
 ],
 "metadata": {
  "kernelspec": {
   "display_name": "Python 3",
   "language": "python",
   "name": "python3"
  },
  "language_info": {
   "codemirror_mode": {
    "name": "ipython",
    "version": 3
   },
   "file_extension": ".py",
   "mimetype": "text/x-python",
   "name": "python",
   "nbconvert_exporter": "python",
   "pygments_lexer": "ipython3",
   "version": "3.7.4"
  }
 },
 "nbformat": 4,
 "nbformat_minor": 2
}
