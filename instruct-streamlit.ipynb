{
 "cells": [
  {
   "cell_type": "markdown",
   "metadata": {},
   "source": [
    "# Web-scraping: сбор данных из баз данных и интернет-источников\n",
    "\n",
    "*Алла Тамбовцева, НИУ ВШЭ*\n",
    "\n",
    "## Порядок создания приложения с помощью `streamlit` "
   ]
  },
  {
   "cell_type": "markdown",
   "metadata": {},
   "source": [
    "### Шаг 1: установка библиотеки\n",
    "\n",
    "Устанавливаем библиотеку `streamlit`:"
   ]
  },
  {
   "cell_type": "code",
   "execution_count": null,
   "metadata": {},
   "outputs": [],
   "source": [
    "!pip install streamlit"
   ]
  },
  {
   "cell_type": "markdown",
   "metadata": {},
   "source": [
    "Если при установке возникает ошибка, два пути:\n",
    "    \n",
    "* прочитать в сообщении об ошибке, из-за установки каких зависимостей (других библиотек для успешной работы `streamlit`) возникают проблемы и попробовать установить их отдельно;\n",
    "\n",
    "* поставить более раннюю версию `streamlit` (например, версия 0.62), которая требует установки меньшего числа вспомогательных библиотек.\n",
    "\n",
    "Ради экономии времени мы пойдем по второму пути. Это не очень классно, потому что так мы теряем многие интересные возможности новых версий, но для простых приложений этого будет достаточно:"
   ]
  },
  {
   "cell_type": "code",
   "execution_count": null,
   "metadata": {},
   "outputs": [],
   "source": [
    "!pip install streamlit==0.62"
   ]
  },
  {
   "cell_type": "markdown",
   "metadata": {},
   "source": [
    "### Шаг 2: создание исполняемого файла с кодом для приложения\n",
    "\n",
    "Возвращаемся на главную страницу *Home Page* в *Jupyter Notebook*, создаем новый текстовый файл (*New – Text file*), переименовываем его в `myapp.py`, вписываем в него следующие строки и сохраняем изменения:"
   ]
  },
  {
   "cell_type": "code",
   "execution_count": null,
   "metadata": {},
   "outputs": [],
   "source": [
    "import streamlit as st\n",
    "st.title(\"Now we will generate wordclouds for Shakespeare's plays!\")"
   ]
  },
  {
   "cell_type": "markdown",
   "metadata": {},
   "source": [
    "Этот код импортирует библиотеку и добавит на страницу с приложением заголовок с введенным текстом."
   ]
  },
  {
   "cell_type": "markdown",
   "metadata": {},
   "source": [
    "**Важно:** проверьте, что вы создали текстовый файл (не ipynb-файл) и что в конце названия этого файла стоит расширение `.py`. \n",
    "\n",
    "Что такой исполняемый файл? Файл с программой на Python, которую интерпретатор этого языка может считать и выполнить. Ранее мы сохраняли код внутри ячейки Jupyter Notebook, теперь мы можем код из этой ячейки «вынести» в отдельный файл безо всяких излишеств. \n",
    "\n",
    "Почему ipynb-файл не подходит? Файл с расширением `.ipynb` предназначен для хранения красивого размеченного текста и кода в виде ячеек с возможностью последующего запуска кода из этих ячеек в Jupyter или аналогичной среде, не для обработки и исполнения кода на «чистом» Python. Формально ipynb-файл – текстовый файл, который внутри выглядит как сложная JSON-строка. \n",
    "\n",
    "Для сравнения. Внутри созданного нами файла `myapp.py` только две строки кода, больше ничего. А если создать аналогичный ipynb-файл с одной ячейкой с теми же строками кода, изнутри он будет выглядеть так:"
   ]
  },
  {
   "cell_type": "markdown",
   "metadata": {},
   "source": [
    "```{\n",
    " \"cells\": [\n",
    "  {\n",
    "   \"cell_type\": \"code\",\n",
    "   \"execution_count\": null,\n",
    "   \"metadata\": {},\n",
    "   \"outputs\": [],\n",
    "   \"source\": [\n",
    "    \"import streamlit as st\\n\",\n",
    "    \"st.title(\\\"Now we will generate wordclouds for Shakespeare's plays!\\\")\"\n",
    "   ]\n",
    "  }\n",
    " ],\n",
    " \"metadata\": {\n",
    "  \"kernelspec\": {\n",
    "   \"display_name\": \"Python 3\",\n",
    "   \"language\": \"python\",\n",
    "   \"name\": \"python3\"\n",
    "  },\n",
    "  \"language_info\": {\n",
    "   \"codemirror_mode\": {\n",
    "    \"name\": \"ipython\",\n",
    "    \"version\": 3\n",
    "   },\n",
    "   \"file_extension\": \".py\",\n",
    "   \"mimetype\": \"text/x-python\",\n",
    "   \"name\": \"python\",\n",
    "   \"nbconvert_exporter\": \"python\",\n",
    "   \"pygments_lexer\": \"ipython3\",\n",
    "   \"version\": \"3.7.4\"\n",
    "  }\n",
    " },\n",
    " \"nbformat\": 4,\n",
    " \"nbformat_minor\": 2\n",
    "}\n",
    "```"
   ]
  },
  {
   "cell_type": "markdown",
   "metadata": {},
   "source": [
    "### Шаг 3: запуск исполняемого файла с приложением\n",
    "\n",
    "Исполняемые файлы запускаются из командной строки (терминала). \n",
    "\n",
    "* На Windows: заходим в *Пуск* в папку *Anaconda*, находим *Anaconda Command Prompt*, запускаем.\n",
    "* На Mac: находим в *Launchpad* или через поиск *Терминал* (обычно в папке *Другие*), запускаем.\n",
    "\n",
    "**Важно:** это должно быть новое окно командной строки, не то окно, которое открывается при запуске Jupyter Notebook. Если выполнять последующие действия в окне терминала, где выдаются сообщение о процессах Jupyter Notebook, ничего не сработает, плюс, Jupyter перестанет исполнять команды и сохранять изменения в файлах (мы «перебьем» своим вмешательством соединение Jupyter с ядром Python).\n",
    "\n",
    "После запуска командной строки в окне вводим строку и нажимаем *Enter*:\n",
    "\n",
    "    streamlit run myapp.py\n",
    "    \n",
    "При первом запуске обычно запрашивается e-mail, его можно пропустить, просто нажав *Enter*. Если все нормально, в командной строке будет указана ссылка на страницу с приложением на компьютере (например, `http://localhost:8501`), плюс, скорее всего, эта страница откроется в новой вкладке браузера. Пока это просто страница с заголовком.\n",
    "    \n",
    "Если выводится ошибка вида `File does not exist`, а файл `myapp.py` точно создан, проверьте, в какой папке он сохранен. Три пути решения:\n",
    "\n",
    "* смотрим, из какой папки запускается командная строка (путь перед `>` или долларом в строке, где мы вводили команду с `run`), перемещаем/копируем файл `myapp.py` туда; туда же потом надо будет сохранить файлы с данными для работы;\n",
    "\n",
    "* находим файл `myapp.py` на компьютере, забираем из свойств файла полный путь к нему и запускаем приложение, указав этот путь в кавычках (тогда потом придется полностью прописывать пути ко всем файлам с данными):\n",
    "\n",
    "        streamlit run \"C://Users/student/Documents/myapp.py\" \n",
    "    \n",
    "* узнаем, какая папка является рабочей, переходим к ней в командной строке и потом снова запускаем строку с `run`, например:\n",
    "\n",
    "        cd \"C://Users/student/Documents\"\n",
    "        streamlit run myapp.py\n",
    "        \n",
    "Здесь `cd` – команда для того, чтобы сделать папку рабочей (от *current directory*). Это довольно удобное решение, потому что тогда мы сможем спокойно хранить все необходимые файлы в этой папке и не перемещать их туда, куда «удобнее» командной строке.\n",
    "\n",
    "Рабочая папка – папка, где находится файл `myapp.py`. Раз мы создаем его через Jupyter, если рядом с этим файлом есть ipynb-файл, в нем можно запустить код для получения пути к этой папке:\n",
    "\n",
    "    import os\n",
    "    os.getcwd()\n"
   ]
  },
  {
   "cell_type": "markdown",
   "metadata": {},
   "source": [
    "### Шаг 4:  редактируем приложение\n",
    "\n",
    "Открываем файл `myapp.py` и делаем приложение более осмысленным. Наше приложение будет предлагать пользователю выбрать одно из произведений У.Шекспира и цвет для фона облака слов по этому произведению, а затем строить облако слов прямо на странице приложения. \n",
    "\n",
    "Для начала создадим словарь `files` с названиями файлов и более красивыми названиями произведений У.Шекспира и заберем значения в словаре (`values`) – они будут использоваться в качестве опций в выпадающем меню для выбора произведения."
   ]
  },
  {
   "cell_type": "code",
   "execution_count": null,
   "metadata": {},
   "outputs": [],
   "source": [
    "files = {\"hamlet.txt\" : \"Hamlet\",\n",
    "         'macbeth.txt': \"Macbeth\", \n",
    "         'midsummer.txt' : \"Romeo and Juliet\", \n",
    "         \"romeo-juliet.txt\" : \"A Midsummer Night's Dream\"}\n",
    "plays = list(files.values())"
   ]
  },
  {
   "cell_type": "markdown",
   "metadata": {},
   "source": [
    "Добавим меню разного вида:\n",
    "\n",
    "* `selectbox()`: выпадающее меню;\n",
    "* `radio()`: радио-кнопки с выбором одного ответа;\n",
    "* `button()`: кнопка для построения облака слов."
   ]
  },
  {
   "cell_type": "code",
   "execution_count": null,
   "metadata": {},
   "outputs": [],
   "source": [
    "box = st.selectbox('Choose a play', plays)\n",
    "color = st.radio('Choose backgroud color', ['white', 'black'])\n",
    "button = st.button(\"Get the cloud!\")"
   ]
  },
  {
   "cell_type": "markdown",
   "metadata": {},
   "source": [
    "Итого: в файле `myapp.py` должны быть следующие строки:"
   ]
  },
  {
   "cell_type": "code",
   "execution_count": null,
   "metadata": {},
   "outputs": [],
   "source": [
    "import streamlit as st\n",
    "\n",
    "files = {\"hamlet.txt\" : \"Hamlet\",\n",
    "         'macbeth.txt': \"Macbeth\", \n",
    "         'midsummer.txt' : \"A Midsummer Night's Dream\", \n",
    "         \"romeo-juliet.txt\" : \"Romeo and Juliet\"}\n",
    "plays = list(files.values())\n",
    "\n",
    "st.title(\"Now we will generate wordclouds for Shakespeare's plays!\")\n",
    "box = st.selectbox('Choose a play', plays)\n",
    "color = st.radio('Choose backgroud color', ['white', 'black'])\n",
    "button = st.button(\"Get the cloud!\")"
   ]
  },
  {
   "cell_type": "markdown",
   "metadata": {},
   "source": [
    "Перезагружаем страницу с приложением (обновляем страницу в браузере) и смотрим на изменения. Теперь на странице должны быть два меню с выбором опций и кнопка (и, конечно, заголовок). \n",
    "\n",
    "Для построения облака слов ранее был написан код, который загружает тексты из txt-файлов и отрисовывает графики с помощью библиотек `wordcloud` и `matplotlib`. Чтобы посмотреть, как он работает:\n",
    "\n",
    "* скачайте txt-файлы с текстами У.Шекспира со страницы курса;\n",
    "* скопируйте код с файла `myapp.py` в свой исполняемый файл и сохраните изменения;\n",
    "* обновите страницу с приложением. \n",
    "\n",
    "Все должно работать, если необходимые библиотеки (здесь только `wordcloud` из не идущего вместе с Anaconda по умолчанию) установлены."
   ]
  },
  {
   "cell_type": "markdown",
   "metadata": {},
   "source": [
    "### Пояснения к некоторым фрагментам кода"
   ]
  },
  {
   "cell_type": "markdown",
   "metadata": {},
   "source": [
    "Импорт необходимых библиотек и функций:"
   ]
  },
  {
   "cell_type": "code",
   "execution_count": null,
   "metadata": {},
   "outputs": [],
   "source": [
    "from string import punctuation\n",
    "from wordcloud import WordCloud, STOPWORDS\n",
    "from matplotlib import pyplot as plt"
   ]
  },
  {
   "cell_type": "markdown",
   "metadata": {},
   "source": [
    "Функция для считывания строк из файла по названию файла:\n",
    "    \n",
    "* открываем файл через `open()`, считываем строки в список `lines`;\n",
    "* удаляем лишние отступы (переходы на новую строку `\\n`) в каждой строке;\n",
    "* фильтруем список строк – убираем пустые через `filter()` и превращаем результат в список через `list()`;\n",
    "* склеиваем строки в один большой текст."
   ]
  },
  {
   "cell_type": "code",
   "execution_count": null,
   "metadata": {},
   "outputs": [],
   "source": [
    "def read_clean_text(filename):\n",
    "    file = open(filename)\n",
    "    lines = file.readlines()\n",
    "    clean = [line.strip() for line in lines]\n",
    "    final = list(filter(lambda x: x != '', clean))\n",
    "    text = \"\\n\".join(final)\n",
    "    return text"
   ]
  },
  {
   "cell_type": "markdown",
   "metadata": {},
   "source": [
    "Применяем эту функцию ко всем файлам в `files` и создаем новый словарь `texts`, где ключи – названия произведений, значения – их тексты единой строкой."
   ]
  },
  {
   "cell_type": "code",
   "execution_count": null,
   "metadata": {},
   "outputs": [],
   "source": [
    "texts = {}\n",
    "for file, name in files.items():\n",
    "    texts[name] = read_clean_text(file)"
   ]
  },
  {
   "cell_type": "markdown",
   "metadata": {},
   "source": [
    "Функция для предварительной обработки текста (минимальная обработка, для примера):\n",
    "\n",
    "* делаем все буквы строчными;\n",
    "* убираем знаки пунктуации – заменяем их на пробелы;\n",
    "* разбиваем все на слова по пробелу или нескольким пробелам;\n",
    "* склеиваем слова в новый единый текст для облака слов.\n",
    "\n",
    "В эту функцию можно добавить код для приведения слов к начальной форме и вообще для более грамотного разбиения на слова (чтобы сокращения обрабатывались правильно). Как вариант – библиотека `nltk` для обработки текста."
   ]
  },
  {
   "cell_type": "code",
   "execution_count": null,
   "metadata": {},
   "outputs": [],
   "source": [
    "def get_cleaned_words(text):\n",
    "    text = text.lower()\n",
    "    for p in punctuation:\n",
    "        text = text.replace(p, \" \")\n",
    "    words = text.split()\n",
    "    words_str = \" \".join(words)\n",
    "    return words_str"
   ]
  },
  {
   "cell_type": "markdown",
   "metadata": {},
   "source": [
    "Применяем эту функцию ко всем файлам в `texts` и создаем новый словарь `words`, где ключи – названия произведений, значения – слова через пробел единой строкой."
   ]
  },
  {
   "cell_type": "code",
   "execution_count": null,
   "metadata": {},
   "outputs": [],
   "source": [
    "words = {}\n",
    "for name, text in texts.items():\n",
    "    words[name] = get_cleaned_words(text)"
   ]
  },
  {
   "cell_type": "markdown",
   "metadata": {},
   "source": [
    "Функция для построения облака слов:\n",
    "    \n",
    "* аргументы – название текста `choice` и цвет фона `color`;\n",
    "* улучшаем настройки рисунка – размер и разрешение `dpi`;\n",
    "* строим облако слов, учитываем стоп-слова;\n",
    "* сохраняем рисунок в png-файл."
   ]
  },
  {
   "cell_type": "code",
   "execution_count": null,
   "metadata": {},
   "outputs": [],
   "source": [
    "def show_cloud(choice, color):\n",
    "    fig, ax = plt.subplots(figsize = (8, 4.5), dpi = 200) \n",
    "    wcloud = WordCloud(stopwords = STOPWORDS, \n",
    "                       background_color = color,\n",
    "                       max_words=50).generate(words[choice])\n",
    "    plt.imshow(wcloud, interpolation=\"bilinear\")\n",
    "    plt.axis(\"off\")\n",
    "    fig.savefig(\"cloud.png\")"
   ]
  },
  {
   "cell_type": "markdown",
   "metadata": {},
   "source": [
    "Описываем, что должно происходить, если кнопка `button` нажата (пользователь кликнул на нее):"
   ]
  },
  {
   "cell_type": "code",
   "execution_count": null,
   "metadata": {},
   "outputs": [],
   "source": [
    "# если кликнул – запускаем функцию для облака слов\n",
    "# выводим на страницу изображение с этим облаком\n",
    "# use_column_width=True – чтобы ширина картинки подстраивалась под меню\n",
    "# если еще не кликнул – выводим на страницу текст\n",
    "\n",
    "if button:\n",
    "    show_cloud(box, color)\n",
    "    st.image('cloud.png', use_column_width=True)\n",
    "else:\n",
    "    st.write(\"Just wait\")"
   ]
  }
 ],
 "metadata": {
  "kernelspec": {
   "display_name": "Python 3",
   "language": "python",
   "name": "python3"
  },
  "language_info": {
   "codemirror_mode": {
    "name": "ipython",
    "version": 3
   },
   "file_extension": ".py",
   "mimetype": "text/x-python",
   "name": "python",
   "nbconvert_exporter": "python",
   "pygments_lexer": "ipython3",
   "version": "3.7.4"
  }
 },
 "nbformat": 4,
 "nbformat_minor": 2
}
