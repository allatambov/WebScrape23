{
 "cells": [
  {
   "cell_type": "markdown",
   "metadata": {},
   "source": [
    "# Web-scraping: сбор данных из баз данных и интернет-источников\n",
    "\n",
    "*Алла Тамбовцева*\n",
    "\n",
    "## Практикум 1. Введение в парсинг с BeautifulSoup: поиск по тэгам"
   ]
  },
  {
   "cell_type": "markdown",
   "metadata": {},
   "source": [
    "Импортируем необходимые библиотеки. Нам понадобится модуль `requests` для отправки запросов, для «подключения» к странице и получения её содержимого в виде строки, и функция `BeautifulSoup` из библиотеки `bs4` для удобного поиска по полученной строке:"
   ]
  },
  {
   "cell_type": "code",
   "execution_count": 1,
   "metadata": {},
   "outputs": [],
   "source": [
    "import requests"
   ]
  },
  {
   "cell_type": "code",
   "execution_count": 2,
   "metadata": {},
   "outputs": [],
   "source": [
    "from bs4 import BeautifulSoup"
   ]
  },
  {
   "cell_type": "markdown",
   "metadata": {},
   "source": [
    "Подключаемся к странице сайта с материалами [math-info.hse.ru](http://math-info.hse.ru):"
   ]
  },
  {
   "cell_type": "code",
   "execution_count": 3,
   "metadata": {},
   "outputs": [],
   "source": [
    "page = requests.get(\"http://math-info.hse.ru/2022-23\")"
   ]
  },
  {
   "cell_type": "code",
   "execution_count": 4,
   "metadata": {},
   "outputs": [
    {
     "data": {
      "text/plain": [
       "<Response [404]>"
      ]
     },
     "execution_count": 4,
     "metadata": {},
     "output_type": "execute_result"
    }
   ],
   "source": [
    "page"
   ]
  },
  {
   "cell_type": "markdown",
   "metadata": {},
   "source": [
    "Объект, который мы сохранили в `page`, имеет особый тип *request*, он же запрос. Из него можно извлечь исходный код страницы в виде обычного текста (тип *string*). Однако в нашем случае мы этого сделать не сможем, потому что в ответ на запрос мы получили результат с кодом 404. Известная ошибка, которая возникает тогда, когда ссылка ведёт вникуда. Исправляемся – добавляем слэш в конце ссылки, в данном случае это важно:"
   ]
  },
  {
   "cell_type": "code",
   "execution_count": 5,
   "metadata": {},
   "outputs": [
    {
     "data": {
      "text/plain": [
       "<Response [200]>"
      ]
     },
     "execution_count": 5,
     "metadata": {},
     "output_type": "execute_result"
    }
   ],
   "source": [
    "page = requests.get(\"http://math-info.hse.ru/2022-23/\")\n",
    "page"
   ]
  },
  {
   "cell_type": "markdown",
   "metadata": {},
   "source": [
    "Теперь код 200, это означает, что запрос был благополучно отправлен и на него был получен ответ. Извлечём из полученного ответа код HTML в виде обычной строки:"
   ]
  },
  {
   "cell_type": "code",
   "execution_count": null,
   "metadata": {},
   "outputs": [],
   "source": [
    "# page.text"
   ]
  },
  {
   "cell_type": "markdown",
   "metadata": {},
   "source": [
    "Выполнять поиск по такой строке с тэгами не очень удобно (даже если вы знакомы с регулярными выражениями), поэтому преобразуем строку в объект типа `BeautifulSoup`. Такой объект внешне несильно отличается от обычной строки, однако внутри по структуре похож на словарь, и это сходство значительно упрощает поиск по тэгам и атрибутам. "
   ]
  },
  {
   "cell_type": "code",
   "execution_count": 6,
   "metadata": {},
   "outputs": [],
   "source": [
    "soup = BeautifulSoup(page.text)"
   ]
  },
  {
   "cell_type": "code",
   "execution_count": null,
   "metadata": {},
   "outputs": [],
   "source": [
    "# внешне то же самое, что и ранее\n",
    "# soup"
   ]
  },
  {
   "cell_type": "markdown",
   "metadata": {},
   "source": [
    "На объектах `BeautifulSoup` определены методы `.find()` и `.find_all()`. Оба метода возвращают фрагменты кода HTML, которые соответствуют критериям поиска, различие заключается в том, что метод `.find()` предназначен для поиска одного совпадения (если критериям поиска соответствует несколько элементов на странице, то берётся только первый), а метод `.find_all()` – для поиска всех совпадений. В первом случае результат возвращается в виде одного элемента типа `BeautifulSoup`, а во втором – в виде списка таких элементов. Давайте попробуем что-то поискать!\n",
    "\n",
    "Найдём сначала заголовок первого уровня – он здесь точно один (тэг `<h1>`):"
   ]
  },
  {
   "cell_type": "code",
   "execution_count": 7,
   "metadata": {},
   "outputs": [
    {
     "data": {
      "text/plain": [
       "<h1 class=\"firstHeading\" id=\"firstHeading\" lang=\"ru\">Заглавная страница</h1>"
      ]
     },
     "execution_count": 7,
     "metadata": {},
     "output_type": "execute_result"
    }
   ],
   "source": [
    "soup.find(\"h1\")"
   ]
  },
  {
   "cell_type": "markdown",
   "metadata": {},
   "source": [
    "Результат – фрагмент кода HTML со всеми тэгами. Как получить «чистый» текст? Запросить текст с помощью атрибута `.text`:"
   ]
  },
  {
   "cell_type": "code",
   "execution_count": 8,
   "metadata": {},
   "outputs": [
    {
     "data": {
      "text/plain": [
       "'Заглавная страница'"
      ]
     },
     "execution_count": 8,
     "metadata": {},
     "output_type": "execute_result"
    }
   ],
   "source": [
    "soup.find(\"h1\").text"
   ]
  },
  {
   "cell_type": "markdown",
   "metadata": {},
   "source": [
    "Теперь найдём все заголовки второго уровня:"
   ]
  },
  {
   "cell_type": "code",
   "execution_count": 9,
   "metadata": {},
   "outputs": [
    {
     "data": {
      "text/plain": [
       "[<h2>Содержание</h2>,\n",
       " <h2><span id=\"Школа_лингвистики\"></span><span class=\"mw-headline\" id=\".D0.A8.D0.BA.D0.BE.D0.BB.D0.B0_.D0.BB.D0.B8.D0.BD.D0.B3.D0.B2.D0.B8.D1.81.D1.82.D0.B8.D0.BA.D0.B8\">Школа лингвистики</span></h2>,\n",
       " <h2><span id=\"ОП_Политология\"></span><span class=\"mw-headline\" id=\".D0.9E.D0.9F_.D0.9F.D0.BE.D0.BB.D0.B8.D1.82.D0.BE.D0.BB.D0.BE.D0.B3.D0.B8.D1.8F\">ОП Политология</span></h2>,\n",
       " <h2><span id=\"ОП_Вычислительные_социальные_науки\"></span><span class=\"mw-headline\" id=\".D0.9E.D0.9F_.D0.92.D1.8B.D1.87.D0.B8.D1.81.D0.BB.D0.B8.D1.82.D0.B5.D0.BB.D1.8C.D0.BD.D1.8B.D0.B5_.D1.81.D0.BE.D1.86.D0.B8.D0.B0.D0.BB.D1.8C.D0.BD.D1.8B.D0.B5_.D0.BD.D0.B0.D1.83.D0.BA.D0.B8\">ОП Вычислительные социальные науки</span></h2>,\n",
       " <h2><span id=\"ОП_Социология\"></span><span class=\"mw-headline\" id=\".D0.9E.D0.9F_.D0.A1.D0.BE.D1.86.D0.B8.D0.BE.D0.BB.D0.BE.D0.B3.D0.B8.D1.8F\">ОП Социология</span></h2>,\n",
       " <h2><span id=\"ОП_Психология\"></span><span class=\"mw-headline\" id=\".D0.9E.D0.9F_.D0.9F.D1.81.D0.B8.D1.85.D0.BE.D0.BB.D0.BE.D0.B3.D0.B8.D1.8F\">ОП Психология</span></h2>,\n",
       " <h2><span id=\"Факультет_креативных_индустрий\"></span><span class=\"mw-headline\" id=\".D0.A4.D0.B0.D0.BA.D1.83.D0.BB.D1.8C.D1.82.D0.B5.D1.82_.D0.BA.D1.80.D0.B5.D0.B0.D1.82.D0.B8.D0.B2.D0.BD.D1.8B.D1.85_.D0.B8.D0.BD.D0.B4.D1.83.D1.81.D1.82.D1.80.D0.B8.D0.B9\">Факультет креативных индустрий</span></h2>,\n",
       " <h2><span id=\"БП_Клеточная_и_молекулярная_биотехнология\"></span><span class=\"mw-headline\" id=\".D0.91.D0.9F_.D0.9A.D0.BB.D0.B5.D1.82.D0.BE.D1.87.D0.BD.D0.B0.D1.8F_.D0.B8_.D0.BC.D0.BE.D0.BB.D0.B5.D0.BA.D1.83.D0.BB.D1.8F.D1.80.D0.BD.D0.B0.D1.8F_.D0.B1.D0.B8.D0.BE.D1.82.D0.B5.D1.85.D0.BD.D0.BE.D0.BB.D0.BE.D0.B3.D0.B8.D1.8F\">БП Клеточная и молекулярная биотехнология</span></h2>,\n",
       " <h2>Навигация</h2>]"
      ]
     },
     "execution_count": 9,
     "metadata": {},
     "output_type": "execute_result"
    }
   ],
   "source": [
    "soup.find_all(\"h2\")"
   ]
  },
  {
   "cell_type": "markdown",
   "metadata": {},
   "source": [
    "Сохраним полученный с названием `h2` и поработаем с ним (и не только)!"
   ]
  },
  {
   "cell_type": "code",
   "execution_count": 10,
   "metadata": {},
   "outputs": [],
   "source": [
    "h2 = soup.find_all(\"h2\")"
   ]
  },
  {
   "cell_type": "markdown",
   "metadata": {},
   "source": [
    "### Задача 1"
   ]
  },
  {
   "cell_type": "markdown",
   "metadata": {},
   "source": [
    "Сохраните в новый список `hh` только названия образовательных программ или факультетов/школ, то есть все элементы списка `h2`, кроме первого и последнего."
   ]
  },
  {
   "cell_type": "code",
   "execution_count": 11,
   "metadata": {},
   "outputs": [
    {
     "data": {
      "text/plain": [
       "[<h2><span id=\"Школа_лингвистики\"></span><span class=\"mw-headline\" id=\".D0.A8.D0.BA.D0.BE.D0.BB.D0.B0_.D0.BB.D0.B8.D0.BD.D0.B3.D0.B2.D0.B8.D1.81.D1.82.D0.B8.D0.BA.D0.B8\">Школа лингвистики</span></h2>,\n",
       " <h2><span id=\"ОП_Политология\"></span><span class=\"mw-headline\" id=\".D0.9E.D0.9F_.D0.9F.D0.BE.D0.BB.D0.B8.D1.82.D0.BE.D0.BB.D0.BE.D0.B3.D0.B8.D1.8F\">ОП Политология</span></h2>,\n",
       " <h2><span id=\"ОП_Вычислительные_социальные_науки\"></span><span class=\"mw-headline\" id=\".D0.9E.D0.9F_.D0.92.D1.8B.D1.87.D0.B8.D1.81.D0.BB.D0.B8.D1.82.D0.B5.D0.BB.D1.8C.D0.BD.D1.8B.D0.B5_.D1.81.D0.BE.D1.86.D0.B8.D0.B0.D0.BB.D1.8C.D0.BD.D1.8B.D0.B5_.D0.BD.D0.B0.D1.83.D0.BA.D0.B8\">ОП Вычислительные социальные науки</span></h2>,\n",
       " <h2><span id=\"ОП_Социология\"></span><span class=\"mw-headline\" id=\".D0.9E.D0.9F_.D0.A1.D0.BE.D1.86.D0.B8.D0.BE.D0.BB.D0.BE.D0.B3.D0.B8.D1.8F\">ОП Социология</span></h2>,\n",
       " <h2><span id=\"ОП_Психология\"></span><span class=\"mw-headline\" id=\".D0.9E.D0.9F_.D0.9F.D1.81.D0.B8.D1.85.D0.BE.D0.BB.D0.BE.D0.B3.D0.B8.D1.8F\">ОП Психология</span></h2>,\n",
       " <h2><span id=\"Факультет_креативных_индустрий\"></span><span class=\"mw-headline\" id=\".D0.A4.D0.B0.D0.BA.D1.83.D0.BB.D1.8C.D1.82.D0.B5.D1.82_.D0.BA.D1.80.D0.B5.D0.B0.D1.82.D0.B8.D0.B2.D0.BD.D1.8B.D1.85_.D0.B8.D0.BD.D0.B4.D1.83.D1.81.D1.82.D1.80.D0.B8.D0.B9\">Факультет креативных индустрий</span></h2>,\n",
       " <h2><span id=\"БП_Клеточная_и_молекулярная_биотехнология\"></span><span class=\"mw-headline\" id=\".D0.91.D0.9F_.D0.9A.D0.BB.D0.B5.D1.82.D0.BE.D1.87.D0.BD.D0.B0.D1.8F_.D0.B8_.D0.BC.D0.BE.D0.BB.D0.B5.D0.BA.D1.83.D0.BB.D1.8F.D1.80.D0.BD.D0.B0.D1.8F_.D0.B1.D0.B8.D0.BE.D1.82.D0.B5.D1.85.D0.BD.D0.BE.D0.BB.D0.BE.D0.B3.D0.B8.D1.8F\">БП Клеточная и молекулярная биотехнология</span></h2>]"
      ]
     },
     "execution_count": 11,
     "metadata": {},
     "output_type": "execute_result"
    }
   ],
   "source": [
    "hh = h2[1:-1]\n",
    "hh"
   ]
  },
  {
   "cell_type": "markdown",
   "metadata": {},
   "source": [
    "### Задача 2"
   ]
  },
  {
   "cell_type": "markdown",
   "metadata": {},
   "source": [
    "Извлеките из каждого элемента списка `hh` текст и сохраните полученные названия программ/факультетов/школ в список `headers`."
   ]
  },
  {
   "cell_type": "code",
   "execution_count": 12,
   "metadata": {},
   "outputs": [
    {
     "data": {
      "text/plain": [
       "['Школа лингвистики',\n",
       " 'ОП Политология',\n",
       " 'ОП Вычислительные социальные науки',\n",
       " 'ОП Социология',\n",
       " 'ОП Психология',\n",
       " 'Факультет креативных индустрий',\n",
       " 'БП Клеточная и молекулярная биотехнология']"
      ]
     },
     "execution_count": 12,
     "metadata": {},
     "output_type": "execute_result"
    }
   ],
   "source": [
    "# с циклом\n",
    "headers = []\n",
    "for h in hh:\n",
    "    headers.append(h.text)\n",
    "headers"
   ]
  },
  {
   "cell_type": "code",
   "execution_count": 13,
   "metadata": {},
   "outputs": [
    {
     "data": {
      "text/plain": [
       "['Школа лингвистики',\n",
       " 'ОП Политология',\n",
       " 'ОП Вычислительные социальные науки',\n",
       " 'ОП Социология',\n",
       " 'ОП Психология',\n",
       " 'Факультет креативных индустрий',\n",
       " 'БП Клеточная и молекулярная биотехнология']"
      ]
     },
     "execution_count": 13,
     "metadata": {},
     "output_type": "execute_result"
    }
   ],
   "source": [
    "# со списковым включением\n",
    "headers = [i.text for i in hh]\n",
    "headers"
   ]
  },
  {
   "cell_type": "markdown",
   "metadata": {},
   "source": [
    "### Задача 3"
   ]
  },
  {
   "cell_type": "markdown",
   "metadata": {},
   "source": [
    "Найдите на странице список курсов ОП «Политология» (их просто больше всего) и сохраните его в переменную `polit`. "
   ]
  },
  {
   "cell_type": "code",
   "execution_count": 14,
   "metadata": {},
   "outputs": [],
   "source": [
    "# находим все ненумерованные списки и берем третий\n",
    "polit = soup.find_all(\"ul\")[2]"
   ]
  },
  {
   "cell_type": "markdown",
   "metadata": {},
   "source": [
    "### Задача 4"
   ]
  },
  {
   "cell_type": "markdown",
   "metadata": {},
   "source": [
    "Используя `polit`, получите список названий курсов и назовите его `names`."
   ]
  },
  {
   "cell_type": "code",
   "execution_count": 16,
   "metadata": {},
   "outputs": [
    {
     "data": {
      "text/plain": [
       "['Высшая математика (1 курс)',\n",
       " 'Введение в теорию вероятностей и математическую статистику (1 курс)',\n",
       " 'Основы программирования в Python (1 курс)',\n",
       " 'Введение в регрессионный анализ (2 курс)',\n",
       " 'Основы анализа данных в Python (3 курс)',\n",
       " 'Программирование для всех (основы работы с Python) (1 курс магистратуры)',\n",
       " 'Программирование для всех: продолжение (кружок, разные курсы)',\n",
       " 'Теория игр (3 курс)',\n",
       " 'Математические модели политэкономии (3 курс)']"
      ]
     },
     "execution_count": 16,
     "metadata": {},
     "output_type": "execute_result"
    }
   ],
   "source": [
    "# элементы списка с тэгами\n",
    "courses = polit.find_all(\"li\") \n",
    "\n",
    "# извлекаем текст из каждого элемента\n",
    "names = [a.text for a in courses]\n",
    "names"
   ]
  },
  {
   "cell_type": "markdown",
   "metadata": {},
   "source": [
    "### Задача 5"
   ]
  },
  {
   "cell_type": "markdown",
   "metadata": {},
   "source": [
    "Извлеките из каждого элемента `names` названия предметов «в чистом» виде, без указаний на то, на каком курсе они читаются, и сохраните результаты в новый список `names_clean`. \n",
    "\n",
    "Подсказка: метод `.split()` для строк."
   ]
  },
  {
   "cell_type": "code",
   "execution_count": 17,
   "metadata": {},
   "outputs": [
    {
     "data": {
      "text/plain": [
       "'Высшая математика'"
      ]
     },
     "execution_count": 17,
     "metadata": {},
     "output_type": "execute_result"
    }
   ],
   "source": [
    "# на примере одного элемента: разбиваем строку \n",
    "# по ( и из списка выбираем первый элемент (до скобки)\n",
    "\n",
    "names[0].split(\" (\")[0]"
   ]
  },
  {
   "cell_type": "code",
   "execution_count": 18,
   "metadata": {},
   "outputs": [
    {
     "data": {
      "text/plain": [
       "['Высшая математика',\n",
       " 'Введение в теорию вероятностей и математическую статистику',\n",
       " 'Основы программирования в Python',\n",
       " 'Введение в регрессионный анализ',\n",
       " 'Основы анализа данных в Python',\n",
       " 'Программирование для всех',\n",
       " 'Программирование для всех: продолжение',\n",
       " 'Теория игр',\n",
       " 'Математические модели политэкономии']"
      ]
     },
     "execution_count": 18,
     "metadata": {},
     "output_type": "execute_result"
    }
   ],
   "source": [
    "# теперь для всех\n",
    "names_clean = [n.split(\" (\")[0] for n in names] \n",
    "names_clean"
   ]
  },
  {
   "cell_type": "markdown",
   "metadata": {},
   "source": [
    "### Задача 6"
   ]
  },
  {
   "cell_type": "markdown",
   "metadata": {},
   "source": [
    "Дан перечень id для курсов, созданный с помощью функции `range()`:"
   ]
  },
  {
   "cell_type": "code",
   "execution_count": 20,
   "metadata": {},
   "outputs": [],
   "source": [
    "ids = range(1, 10)"
   ]
  },
  {
   "cell_type": "markdown",
   "metadata": {},
   "source": [
    "Используя `ids` и список `names_clean`, создайте словарь `info`, где ключами являются id, а значениями – названия курсов."
   ]
  },
  {
   "cell_type": "code",
   "execution_count": 21,
   "metadata": {},
   "outputs": [
    {
     "data": {
      "text/plain": [
       "[1, 2, 3, 4, 5, 6, 7, 8, 9]"
      ]
     },
     "execution_count": 21,
     "metadata": {},
     "output_type": "execute_result"
    }
   ],
   "source": [
    "# смотрим, что внутри\n",
    "list(ids)"
   ]
  },
  {
   "cell_type": "code",
   "execution_count": 22,
   "metadata": {},
   "outputs": [
    {
     "data": {
      "text/plain": [
       "[(0, 1), (1, 2), (2, 3), (3, 4), (4, 5), (5, 6), (6, 7), (7, 8), (8, 9)]"
      ]
     },
     "execution_count": 22,
     "metadata": {},
     "output_type": "execute_result"
    }
   ],
   "source": [
    "# получаем пары индекс элемента - сам элемент\n",
    "list(enumerate(ids))"
   ]
  },
  {
   "cell_type": "code",
   "execution_count": 23,
   "metadata": {},
   "outputs": [
    {
     "data": {
      "text/plain": [
       "{1: 'Высшая математика',\n",
       " 2: 'Введение в теорию вероятностей и математическую статистику',\n",
       " 3: 'Основы программирования в Python',\n",
       " 4: 'Введение в регрессионный анализ',\n",
       " 5: 'Основы анализа данных в Python',\n",
       " 6: 'Программирование для всех',\n",
       " 7: 'Программирование для всех: продолжение',\n",
       " 8: 'Теория игр',\n",
       " 9: 'Математические модели политэкономии'}"
      ]
     },
     "execution_count": 23,
     "metadata": {},
     "output_type": "execute_result"
    }
   ],
   "source": [
    "# решение 1 (длинное): создаем пустой словарь и заполняем в цикле\n",
    "# извлекаем из списка ids и names_clean элементы с одинаковым индексом i\n",
    "# элемент из первого делаем ключом, элемент из второго – значением\n",
    "\n",
    "info = {}\n",
    "for i, value in enumerate(ids):\n",
    "    k = ids[i]\n",
    "    v = names_clean[i]\n",
    "    info[k] = v\n",
    "info"
   ]
  },
  {
   "cell_type": "code",
   "execution_count": 24,
   "metadata": {},
   "outputs": [
    {
     "data": {
      "text/plain": [
       "{1: 'Высшая математика',\n",
       " 2: 'Введение в теорию вероятностей и математическую статистику',\n",
       " 3: 'Основы программирования в Python',\n",
       " 4: 'Введение в регрессионный анализ',\n",
       " 5: 'Основы анализа данных в Python',\n",
       " 6: 'Программирование для всех',\n",
       " 7: 'Программирование для всех: продолжение',\n",
       " 8: 'Теория игр',\n",
       " 9: 'Математические модели политэкономии'}"
      ]
     },
     "execution_count": 24,
     "metadata": {},
     "output_type": "execute_result"
    }
   ],
   "source": [
    "# решение 2 (короткое): склеиваем элементы списков попарно \n",
    "# и превращаем список пар в словарь\n",
    "\n",
    "info = dict(zip(ids, names_clean))\n",
    "info"
   ]
  },
  {
   "cell_type": "code",
   "execution_count": 25,
   "metadata": {},
   "outputs": [
    {
     "data": {
      "text/plain": [
       "[(1, 'Высшая математика'),\n",
       " (2, 'Введение в теорию вероятностей и математическую статистику'),\n",
       " (3, 'Основы программирования в Python'),\n",
       " (4, 'Введение в регрессионный анализ'),\n",
       " (5, 'Основы анализа данных в Python'),\n",
       " (6, 'Программирование для всех'),\n",
       " (7, 'Программирование для всех: продолжение'),\n",
       " (8, 'Теория игр'),\n",
       " (9, 'Математические модели политэкономии')]"
      ]
     },
     "execution_count": 25,
     "metadata": {},
     "output_type": "execute_result"
    }
   ],
   "source": [
    "# что делает zip()\n",
    "\n",
    "list(zip(ids, names_clean))"
   ]
  }
 ],
 "metadata": {
  "kernelspec": {
   "display_name": "Python 3",
   "language": "python",
   "name": "python3"
  },
  "language_info": {
   "codemirror_mode": {
    "name": "ipython",
    "version": 3
   },
   "file_extension": ".py",
   "mimetype": "text/x-python",
   "name": "python",
   "nbconvert_exporter": "python",
   "pygments_lexer": "ipython3",
   "version": "3.7.4"
  }
 },
 "nbformat": 4,
 "nbformat_minor": 2
}
