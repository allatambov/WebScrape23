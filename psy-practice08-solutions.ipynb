{
 "cells": [
  {
   "cell_type": "markdown",
   "metadata": {},
   "source": [
    "# Web-scraping: сбор данных из баз данных и интернет-источников\n",
    "*Алла Тамбовцева, НИУ ВШЭ*\n",
    "\n",
    "## Управление браузером с Selenium: знакомство с XPATH и скачивание файлов"
   ]
  },
  {
   "cell_type": "markdown",
   "metadata": {},
   "source": [
    "### Знакомство с XPATH\n",
    "\n",
    "**XML** (от *eXtended MarkUp Language*) – язык разметки, только в отличие от HTML не позволяет регулировать внешний вид страницы, а просто хранит данные в виде строки с удобными тэгами.\n",
    "\n",
    "На XML-файл можно смотреть как на хранилище, откуда по запросу динамически подгружаются данные для подстановки в HTML-файл. Смысл: когда нам нужно постоянно обновлять информацию на веб-странице (каталоги товаров в магазине, данные о погоде, курсе валют), не нужно каждый раз переписывать HTML-файл, достаточно изменить XML-файл, а из него уже информация «подтянется» на страницу с помощью запроса, написанного на JavaScript.\n",
    "\n",
    "**XPATH** (от *XML Path Language*) – язык запросов в XML-файлу, который можно использовать и для HTML тоже.\n",
    "\n",
    "Примеры запросов (честно взяты [отсюда](https://www.w3schools.com/xml/xpath_intro.asp), очень полезный тьюториал по XPATH, у них же есть классные [материалы](https://www.w3schools.com/xml/) по XML):\n",
    "\n",
    "* `//title[@lang]`: все элементы с тэгом `<title>`, имеющие атрибут `lang`;\n",
    "* `//title[@lang='en']` : все элементы с тэгом `<title>`, имеющие атрибут `lang`, равный `'en'`;\n",
    "* `//title[@*]`: все элементы с тэгом `<title>`, имеющие хоть какие-нибудь атрибуты.\n",
    "\n",
    "### Пример скачивания PDF с Selenium\n",
    "\n",
    "Как обычно открываем браузер с помощью Selenium:"
   ]
  },
  {
   "cell_type": "code",
   "execution_count": 1,
   "metadata": {},
   "outputs": [],
   "source": [
    "from selenium import webdriver as wd\n",
    "from selenium.webdriver.common.keys import Keys\n",
    "from selenium.webdriver.common.by import By"
   ]
  },
  {
   "cell_type": "code",
   "execution_count": 2,
   "metadata": {},
   "outputs": [
    {
     "name": "stderr",
     "output_type": "stream",
     "text": [
      "/opt/anaconda3/lib/python3.7/site-packages/ipykernel_launcher.py:2: DeprecationWarning: executable_path has been deprecated, please pass in a Service object\n",
      "  \n"
     ]
    }
   ],
   "source": [
    "# br = wd.Chrome(r'D:\\Загрузки\\chromedriver_win32 (2)\\chromedriver.exe')\n",
    "br = wd.Chrome(\"/Users/allat/Documents/chromedriver\")"
   ]
  },
  {
   "cell_type": "markdown",
   "metadata": {},
   "source": [
    "Переходим на сайт для поиска нот (*why not?*):"
   ]
  },
  {
   "cell_type": "code",
   "execution_count": 3,
   "metadata": {},
   "outputs": [],
   "source": [
    "br.get(\"https://ponotam.ru/\")"
   ]
  },
  {
   "cell_type": "markdown",
   "metadata": {},
   "source": [
    "Давайте для практики будем искать все необходимые элементы (поля для поиска, ссылки, кнопки) через XPATH.\n",
    "Сначала нам нужно найти поле для поиска. Давайте найдем его и отправим туда значение *Happy New Year*."
   ]
  },
  {
   "cell_type": "code",
   "execution_count": 4,
   "metadata": {},
   "outputs": [],
   "source": [
    "search = br.find_element(By.XPATH, \"//input[@id='edit-search-block-form--2']\")\n",
    "search.send_keys(\"Happy New Year\") "
   ]
  },
  {
   "cell_type": "markdown",
   "metadata": {},
   "source": [
    "Теперь попробуем найти кнопку для активации поиска (обратите внимание на тэг `<label>`):"
   ]
  },
  {
   "cell_type": "code",
   "execution_count": 5,
   "metadata": {},
   "outputs": [
    {
     "ename": "ElementClickInterceptedException",
     "evalue": "Message: element click intercepted: Element <label class=\"element-invisible\" for=\"edit-search-block-form--2\">...</label> is not clickable at point (133, 100). Other element would receive the click: <div class=\"container-inline\">...</div>\n  (Session info: chrome=110.0.5481.177)\nStacktrace:\n0   chromedriver                        0x00000001088e7138 chromedriver + 4923704\n1   chromedriver                        0x000000010885f9d3 chromedriver + 4368851\n2   chromedriver                        0x00000001084a8787 chromedriver + 472967\n3   chromedriver                        0x00000001084f5eaf chromedriver + 790191\n4   chromedriver                        0x00000001084f32b9 chromedriver + 778937\n5   chromedriver                        0x00000001084efec4 chromedriver + 765636\n6   chromedriver                        0x00000001084ee9db chromedriver + 760283\n7   chromedriver                        0x00000001084df303 chromedriver + 697091\n8   chromedriver                        0x0000000108515fb2 chromedriver + 921522\n9   chromedriver                        0x00000001084de971 chromedriver + 694641\n10  chromedriver                        0x00000001085161de chromedriver + 922078\n11  chromedriver                        0x0000000108530c0f chromedriver + 1031183\n12  chromedriver                        0x0000000108515d23 chromedriver + 920867\n13  chromedriver                        0x00000001084dca4b chromedriver + 686667\n14  chromedriver                        0x00000001084de044 chromedriver + 692292\n15  chromedriver                        0x00000001088b28fe chromedriver + 4708606\n16  chromedriver                        0x00000001088b7e22 chromedriver + 4730402\n17  chromedriver                        0x00000001088c06bf chromedriver + 4765375\n18  chromedriver                        0x00000001088b8e80 chromedriver + 4734592\n19  chromedriver                        0x0000000108889975 chromedriver + 4540789\n20  chromedriver                        0x00000001088dae78 chromedriver + 4873848\n21  chromedriver                        0x00000001088daff5 chromedriver + 4874229\n22  chromedriver                        0x00000001088ef6de chromedriver + 4957918\n23  libsystem_pthread.dylib             0x00007fff70045661 _pthread_body + 340\n24  libsystem_pthread.dylib             0x00007fff7004550d _pthread_body + 0\n25  libsystem_pthread.dylib             0x00007fff70044bf9 thread_start + 13\n",
     "output_type": "error",
     "traceback": [
      "\u001b[0;31m---------------------------------------------------------------------------\u001b[0m",
      "\u001b[0;31mElementClickInterceptedException\u001b[0m          Traceback (most recent call last)",
      "\u001b[0;32m<ipython-input-5-53af26b6694b>\u001b[0m in \u001b[0;36m<module>\u001b[0;34m\u001b[0m\n\u001b[1;32m      1\u001b[0m \u001b[0mbutton\u001b[0m \u001b[0;34m=\u001b[0m \u001b[0mbr\u001b[0m\u001b[0;34m.\u001b[0m\u001b[0mfind_element\u001b[0m\u001b[0;34m(\u001b[0m\u001b[0mBy\u001b[0m\u001b[0;34m.\u001b[0m\u001b[0mXPATH\u001b[0m\u001b[0;34m,\u001b[0m \u001b[0;34m\"//label[@for='edit-search-block-form--2']\"\u001b[0m\u001b[0;34m)\u001b[0m\u001b[0;34m\u001b[0m\u001b[0;34m\u001b[0m\u001b[0m\n\u001b[0;32m----> 2\u001b[0;31m \u001b[0mbutton\u001b[0m\u001b[0;34m.\u001b[0m\u001b[0mclick\u001b[0m\u001b[0;34m(\u001b[0m\u001b[0;34m)\u001b[0m\u001b[0;34m\u001b[0m\u001b[0;34m\u001b[0m\u001b[0m\n\u001b[0m",
      "\u001b[0;32m/opt/anaconda3/lib/python3.7/site-packages/selenium/webdriver/remote/webelement.py\u001b[0m in \u001b[0;36mclick\u001b[0;34m(self)\u001b[0m\n\u001b[1;32m     91\u001b[0m     \u001b[0;32mdef\u001b[0m \u001b[0mclick\u001b[0m\u001b[0;34m(\u001b[0m\u001b[0mself\u001b[0m\u001b[0;34m)\u001b[0m \u001b[0;34m->\u001b[0m \u001b[0;32mNone\u001b[0m\u001b[0;34m:\u001b[0m\u001b[0;34m\u001b[0m\u001b[0;34m\u001b[0m\u001b[0m\n\u001b[1;32m     92\u001b[0m         \u001b[0;34m\"\"\"Clicks the element.\"\"\"\u001b[0m\u001b[0;34m\u001b[0m\u001b[0;34m\u001b[0m\u001b[0m\n\u001b[0;32m---> 93\u001b[0;31m         \u001b[0mself\u001b[0m\u001b[0;34m.\u001b[0m\u001b[0m_execute\u001b[0m\u001b[0;34m(\u001b[0m\u001b[0mCommand\u001b[0m\u001b[0;34m.\u001b[0m\u001b[0mCLICK_ELEMENT\u001b[0m\u001b[0;34m)\u001b[0m\u001b[0;34m\u001b[0m\u001b[0;34m\u001b[0m\u001b[0m\n\u001b[0m\u001b[1;32m     94\u001b[0m \u001b[0;34m\u001b[0m\u001b[0m\n\u001b[1;32m     95\u001b[0m     \u001b[0;32mdef\u001b[0m \u001b[0msubmit\u001b[0m\u001b[0;34m(\u001b[0m\u001b[0mself\u001b[0m\u001b[0;34m)\u001b[0m\u001b[0;34m:\u001b[0m\u001b[0;34m\u001b[0m\u001b[0;34m\u001b[0m\u001b[0m\n",
      "\u001b[0;32m/opt/anaconda3/lib/python3.7/site-packages/selenium/webdriver/remote/webelement.py\u001b[0m in \u001b[0;36m_execute\u001b[0;34m(self, command, params)\u001b[0m\n\u001b[1;32m    401\u001b[0m             \u001b[0mparams\u001b[0m \u001b[0;34m=\u001b[0m \u001b[0;34m{\u001b[0m\u001b[0;34m}\u001b[0m\u001b[0;34m\u001b[0m\u001b[0;34m\u001b[0m\u001b[0m\n\u001b[1;32m    402\u001b[0m         \u001b[0mparams\u001b[0m\u001b[0;34m[\u001b[0m\u001b[0;34m\"id\"\u001b[0m\u001b[0;34m]\u001b[0m \u001b[0;34m=\u001b[0m \u001b[0mself\u001b[0m\u001b[0;34m.\u001b[0m\u001b[0m_id\u001b[0m\u001b[0;34m\u001b[0m\u001b[0;34m\u001b[0m\u001b[0m\n\u001b[0;32m--> 403\u001b[0;31m         \u001b[0;32mreturn\u001b[0m \u001b[0mself\u001b[0m\u001b[0;34m.\u001b[0m\u001b[0m_parent\u001b[0m\u001b[0;34m.\u001b[0m\u001b[0mexecute\u001b[0m\u001b[0;34m(\u001b[0m\u001b[0mcommand\u001b[0m\u001b[0;34m,\u001b[0m \u001b[0mparams\u001b[0m\u001b[0;34m)\u001b[0m\u001b[0;34m\u001b[0m\u001b[0;34m\u001b[0m\u001b[0m\n\u001b[0m\u001b[1;32m    404\u001b[0m \u001b[0;34m\u001b[0m\u001b[0m\n\u001b[1;32m    405\u001b[0m     \u001b[0;32mdef\u001b[0m \u001b[0mfind_element\u001b[0m\u001b[0;34m(\u001b[0m\u001b[0mself\u001b[0m\u001b[0;34m,\u001b[0m \u001b[0mby\u001b[0m\u001b[0;34m=\u001b[0m\u001b[0mBy\u001b[0m\u001b[0;34m.\u001b[0m\u001b[0mID\u001b[0m\u001b[0;34m,\u001b[0m \u001b[0mvalue\u001b[0m\u001b[0;34m=\u001b[0m\u001b[0;32mNone\u001b[0m\u001b[0;34m)\u001b[0m \u001b[0;34m->\u001b[0m \u001b[0mWebElement\u001b[0m\u001b[0;34m:\u001b[0m\u001b[0;34m\u001b[0m\u001b[0;34m\u001b[0m\u001b[0m\n",
      "\u001b[0;32m/opt/anaconda3/lib/python3.7/site-packages/selenium/webdriver/remote/webdriver.py\u001b[0m in \u001b[0;36mexecute\u001b[0;34m(self, driver_command, params)\u001b[0m\n\u001b[1;32m    438\u001b[0m         \u001b[0mresponse\u001b[0m \u001b[0;34m=\u001b[0m \u001b[0mself\u001b[0m\u001b[0;34m.\u001b[0m\u001b[0mcommand_executor\u001b[0m\u001b[0;34m.\u001b[0m\u001b[0mexecute\u001b[0m\u001b[0;34m(\u001b[0m\u001b[0mdriver_command\u001b[0m\u001b[0;34m,\u001b[0m \u001b[0mparams\u001b[0m\u001b[0;34m)\u001b[0m\u001b[0;34m\u001b[0m\u001b[0;34m\u001b[0m\u001b[0m\n\u001b[1;32m    439\u001b[0m         \u001b[0;32mif\u001b[0m \u001b[0mresponse\u001b[0m\u001b[0;34m:\u001b[0m\u001b[0;34m\u001b[0m\u001b[0;34m\u001b[0m\u001b[0m\n\u001b[0;32m--> 440\u001b[0;31m             \u001b[0mself\u001b[0m\u001b[0;34m.\u001b[0m\u001b[0merror_handler\u001b[0m\u001b[0;34m.\u001b[0m\u001b[0mcheck_response\u001b[0m\u001b[0;34m(\u001b[0m\u001b[0mresponse\u001b[0m\u001b[0;34m)\u001b[0m\u001b[0;34m\u001b[0m\u001b[0;34m\u001b[0m\u001b[0m\n\u001b[0m\u001b[1;32m    441\u001b[0m             \u001b[0mresponse\u001b[0m\u001b[0;34m[\u001b[0m\u001b[0;34m\"value\"\u001b[0m\u001b[0;34m]\u001b[0m \u001b[0;34m=\u001b[0m \u001b[0mself\u001b[0m\u001b[0;34m.\u001b[0m\u001b[0m_unwrap_value\u001b[0m\u001b[0;34m(\u001b[0m\u001b[0mresponse\u001b[0m\u001b[0;34m.\u001b[0m\u001b[0mget\u001b[0m\u001b[0;34m(\u001b[0m\u001b[0;34m\"value\"\u001b[0m\u001b[0;34m,\u001b[0m \u001b[0;32mNone\u001b[0m\u001b[0;34m)\u001b[0m\u001b[0;34m)\u001b[0m\u001b[0;34m\u001b[0m\u001b[0;34m\u001b[0m\u001b[0m\n\u001b[1;32m    442\u001b[0m             \u001b[0;32mreturn\u001b[0m \u001b[0mresponse\u001b[0m\u001b[0;34m\u001b[0m\u001b[0;34m\u001b[0m\u001b[0m\n",
      "\u001b[0;32m/opt/anaconda3/lib/python3.7/site-packages/selenium/webdriver/remote/errorhandler.py\u001b[0m in \u001b[0;36mcheck_response\u001b[0;34m(self, response)\u001b[0m\n\u001b[1;32m    243\u001b[0m                 \u001b[0malert_text\u001b[0m \u001b[0;34m=\u001b[0m \u001b[0mvalue\u001b[0m\u001b[0;34m[\u001b[0m\u001b[0;34m\"alert\"\u001b[0m\u001b[0;34m]\u001b[0m\u001b[0;34m.\u001b[0m\u001b[0mget\u001b[0m\u001b[0;34m(\u001b[0m\u001b[0;34m\"text\"\u001b[0m\u001b[0;34m)\u001b[0m\u001b[0;34m\u001b[0m\u001b[0;34m\u001b[0m\u001b[0m\n\u001b[1;32m    244\u001b[0m             \u001b[0;32mraise\u001b[0m \u001b[0mexception_class\u001b[0m\u001b[0;34m(\u001b[0m\u001b[0mmessage\u001b[0m\u001b[0;34m,\u001b[0m \u001b[0mscreen\u001b[0m\u001b[0;34m,\u001b[0m \u001b[0mstacktrace\u001b[0m\u001b[0;34m,\u001b[0m \u001b[0malert_text\u001b[0m\u001b[0;34m)\u001b[0m  \u001b[0;31m# type: ignore[call-arg]  # mypy is not smart enough here\u001b[0m\u001b[0;34m\u001b[0m\u001b[0;34m\u001b[0m\u001b[0m\n\u001b[0;32m--> 245\u001b[0;31m         \u001b[0;32mraise\u001b[0m \u001b[0mexception_class\u001b[0m\u001b[0;34m(\u001b[0m\u001b[0mmessage\u001b[0m\u001b[0;34m,\u001b[0m \u001b[0mscreen\u001b[0m\u001b[0;34m,\u001b[0m \u001b[0mstacktrace\u001b[0m\u001b[0;34m)\u001b[0m\u001b[0;34m\u001b[0m\u001b[0;34m\u001b[0m\u001b[0m\n\u001b[0m",
      "\u001b[0;31mElementClickInterceptedException\u001b[0m: Message: element click intercepted: Element <label class=\"element-invisible\" for=\"edit-search-block-form--2\">...</label> is not clickable at point (133, 100). Other element would receive the click: <div class=\"container-inline\">...</div>\n  (Session info: chrome=110.0.5481.177)\nStacktrace:\n0   chromedriver                        0x00000001088e7138 chromedriver + 4923704\n1   chromedriver                        0x000000010885f9d3 chromedriver + 4368851\n2   chromedriver                        0x00000001084a8787 chromedriver + 472967\n3   chromedriver                        0x00000001084f5eaf chromedriver + 790191\n4   chromedriver                        0x00000001084f32b9 chromedriver + 778937\n5   chromedriver                        0x00000001084efec4 chromedriver + 765636\n6   chromedriver                        0x00000001084ee9db chromedriver + 760283\n7   chromedriver                        0x00000001084df303 chromedriver + 697091\n8   chromedriver                        0x0000000108515fb2 chromedriver + 921522\n9   chromedriver                        0x00000001084de971 chromedriver + 694641\n10  chromedriver                        0x00000001085161de chromedriver + 922078\n11  chromedriver                        0x0000000108530c0f chromedriver + 1031183\n12  chromedriver                        0x0000000108515d23 chromedriver + 920867\n13  chromedriver                        0x00000001084dca4b chromedriver + 686667\n14  chromedriver                        0x00000001084de044 chromedriver + 692292\n15  chromedriver                        0x00000001088b28fe chromedriver + 4708606\n16  chromedriver                        0x00000001088b7e22 chromedriver + 4730402\n17  chromedriver                        0x00000001088c06bf chromedriver + 4765375\n18  chromedriver                        0x00000001088b8e80 chromedriver + 4734592\n19  chromedriver                        0x0000000108889975 chromedriver + 4540789\n20  chromedriver                        0x00000001088dae78 chromedriver + 4873848\n21  chromedriver                        0x00000001088daff5 chromedriver + 4874229\n22  chromedriver                        0x00000001088ef6de chromedriver + 4957918\n23  libsystem_pthread.dylib             0x00007fff70045661 _pthread_body + 340\n24  libsystem_pthread.dylib             0x00007fff7004550d _pthread_body + 0\n25  libsystem_pthread.dylib             0x00007fff70044bf9 thread_start + 13\n"
     ]
    }
   ],
   "source": [
    "button = br.find_element(By.XPATH, \"//label[@for='edit-search-block-form--2']\")\n",
    "button.click()"
   ]
  },
  {
   "cell_type": "markdown",
   "metadata": {},
   "source": [
    "Проблема: объект, который мы нашли (рядом с ним было слово *Поиск*), на самом деле – не кнопка и вообще не кликабельный! Попробуем последовать совету Python и кликнуть на объект, про который он пишет:"
   ]
  },
  {
   "cell_type": "code",
   "execution_count": 6,
   "metadata": {},
   "outputs": [],
   "source": [
    "button = br.find_element(By.XPATH, \"//div[@class='container-inline']\")\n",
    "button.click()"
   ]
  },
  {
   "cell_type": "markdown",
   "metadata": {},
   "source": [
    "На что-то кликнули, но это опять не кнопка, ничего не произошло. Хочешь сделайть хорошо – сделай сам :) Давайте просто найдём эту кнопку по ID и кликнем на нее!"
   ]
  },
  {
   "cell_type": "code",
   "execution_count": 7,
   "metadata": {},
   "outputs": [],
   "source": [
    "button = br.find_element(By.ID, \"edit-submit\")\n",
    "button.click() "
   ]
  },
  {
   "cell_type": "markdown",
   "metadata": {},
   "source": [
    "Перешли на страницу с результатами, давайте заберем ссылку на единственный результат по частичному тексту ссылки и кликнем на нее."
   ]
  },
  {
   "cell_type": "code",
   "execution_count": 8,
   "metadata": {},
   "outputs": [],
   "source": [
    "link = br.find_element(By.PARTIAL_LINK_TEXT, \"Happy\")\n",
    "link.click() "
   ]
  },
  {
   "cell_type": "markdown",
   "metadata": {},
   "source": [
    "Ура! Чтобы скачать pdf-файл с нотами, нужно кликнуть на соответствующую иконку. Давайте найдем ее через XPATH и кликнем."
   ]
  },
  {
   "cell_type": "code",
   "execution_count": 9,
   "metadata": {},
   "outputs": [],
   "source": [
    "pdf = br.find_element(By.XPATH, \"//img[@alt='Скачать PDF']\")\n",
    "pdf.click() "
   ]
  },
  {
   "cell_type": "markdown",
   "metadata": {},
   "source": [
    "Идеально! В браузере открылся pdf-файл, но как его автоматически скачать, неясно. Давайте откроем браузер с дополнительными опциями, чтобы PDF скачивался сразу, а не просто открывался в браузере."
   ]
  },
  {
   "cell_type": "code",
   "execution_count": 10,
   "metadata": {},
   "outputs": [],
   "source": [
    "options = wd.ChromeOptions()"
   ]
  },
  {
   "cell_type": "code",
   "execution_count": 11,
   "metadata": {},
   "outputs": [],
   "source": [
    "# словарь \n",
    "# default_directory: папка для загрузок, если возникают проблемы, можно убрать\n",
    "# prompt_for_download: автоматическое скачивание без всплывающих вопросов\n",
    "# plugins.always_open_pdf_externally: скачивание без открытия в браузере\n",
    "\n",
    "options.add_experimental_option('prefs', {\n",
    "\"download.default_directory\": \"/Users/allat/Downloads\", \n",
    "\"download.prompt_for_download\": False, \n",
    "\"download.directory_upgrade\": True,\n",
    "\"plugins.always_open_pdf_externally\": True\n",
    "})"
   ]
  },
  {
   "cell_type": "markdown",
   "metadata": {},
   "source": [
    "Открываем браузер с дополнением `options`:"
   ]
  },
  {
   "cell_type": "code",
   "execution_count": 12,
   "metadata": {},
   "outputs": [
    {
     "name": "stderr",
     "output_type": "stream",
     "text": [
      "/opt/anaconda3/lib/python3.7/site-packages/ipykernel_launcher.py:2: DeprecationWarning: executable_path has been deprecated, please pass in a Service object\n",
      "  \n"
     ]
    }
   ],
   "source": [
    "br = wd.Chrome(\"/Users/allat/Documents/chromedriver\",\n",
    "               options=options)"
   ]
  },
  {
   "cell_type": "markdown",
   "metadata": {},
   "source": [
    "Осталось повторить все проделанные операции по скачиванию!"
   ]
  },
  {
   "cell_type": "code",
   "execution_count": 13,
   "metadata": {},
   "outputs": [],
   "source": [
    "br.get(\"https://ponotam.ru/\")\n",
    "br.implicitly_wait(2)\n",
    "\n",
    "search = br.find_element(By.XPATH, \"//input[@id='edit-search-block-form--2']\")\n",
    "search.send_keys(\"Happy New Year\") \n",
    "br.implicitly_wait(2)\n",
    "\n",
    "button = br.find_element(By.ID, \"edit-submit\")\n",
    "button.click() \n",
    "\n",
    "link = br.find_element(By.PARTIAL_LINK_TEXT, \"Happy\")\n",
    "link.click() \n",
    "\n",
    "pdf = br.find_element(By.XPATH, \"//img[@alt='Скачать PDF']\")\n",
    "pdf.click()"
   ]
  },
  {
   "cell_type": "markdown",
   "metadata": {},
   "source": [
    "Если мы захотим скачать zip-архив, схема будет той же самой. Или даже еще проще: так как файл ZIP не открывается для предварительного просмотра в браузере, опции можно не настраивать. В нашем случае получаем тот же код, только со строкой *Скачать ZIP* в конце:"
   ]
  },
  {
   "cell_type": "code",
   "execution_count": 14,
   "metadata": {},
   "outputs": [
    {
     "name": "stderr",
     "output_type": "stream",
     "text": [
      "/opt/anaconda3/lib/python3.7/site-packages/ipykernel_launcher.py:1: DeprecationWarning: executable_path has been deprecated, please pass in a Service object\n",
      "  \"\"\"Entry point for launching an IPython kernel.\n"
     ]
    }
   ],
   "source": [
    "br = wd.Chrome(\"/Users/allat/Documents/chromedriver\")\n",
    "\n",
    "br.get(\"https://ponotam.ru/\")\n",
    "br.implicitly_wait(2)\n",
    "\n",
    "search = br.find_element(By.XPATH, \"//input[@id='edit-search-block-form--2']\")\n",
    "search.send_keys(\"Happy New Year\") \n",
    "br.implicitly_wait(2)\n",
    "\n",
    "button = br.find_element(By.ID, \"edit-submit\")\n",
    "button.click() \n",
    "\n",
    "link = br.find_element(By.PARTIAL_LINK_TEXT, \"Happy\")\n",
    "link.click() \n",
    "\n",
    "pdf = br.find_element(By.XPATH, \"//img[@alt='Скачать ZIP']\")\n",
    "pdf.click()"
   ]
  },
  {
   "cell_type": "markdown",
   "metadata": {},
   "source": [
    "### Дополнение: пример скачивания нескольких файлов DOC"
   ]
  },
  {
   "cell_type": "markdown",
   "metadata": {},
   "source": [
    "Давайте зайдем на страницу сайта Вышки, на которой хранятся бланки заявлений для приема на работу и скачаем все бланки в формате `.doc`. В данном случае задача не очень сложная:  если посмотреть на исходный код страницы, можно заметить, что для скачивания файлов необходимо просто кликнуть на ссылку, которая заканчивается расширением `.doc`. Поэтому пока не будем использовать Selenium, а вытащим из исходного кода страницы подходящие ссылки:"
   ]
  },
  {
   "cell_type": "code",
   "execution_count": 17,
   "metadata": {},
   "outputs": [],
   "source": [
    "import requests\n",
    "from bs4 import BeautifulSoup"
   ]
  },
  {
   "cell_type": "code",
   "execution_count": 18,
   "metadata": {},
   "outputs": [],
   "source": [
    "page = requests.get(\"https://hr.hse.ru/blanki\")\n",
    "soup = BeautifulSoup(page.text)"
   ]
  },
  {
   "cell_type": "code",
   "execution_count": 19,
   "metadata": {},
   "outputs": [],
   "source": [
    "# находим все элементы с тэгом <a>\n",
    "# так как не во всех тэгах <a> есть ссылки (атрибут href),\n",
    "# пишем try-except, чтобы код не ломался при столкновениями с такими случаями\n",
    "# в итоге забираем только те ссылки, которые заканчиваются на .doc\n",
    "\n",
    "L = soup.find_all(\"a\")\n",
    "docs = []\n",
    "for a in L:\n",
    "    try:\n",
    "        if a.get(\"href\").endswith(\".doc\"):\n",
    "            docs.append(a.get(\"href\"))\n",
    "    except:\n",
    "        pass"
   ]
  },
  {
   "cell_type": "code",
   "execution_count": 20,
   "metadata": {},
   "outputs": [],
   "source": [
    "# не все ссылки на doc полные \n",
    "# для экономии времени отфильтруем только полные\n",
    "# относительные ссылки при желании можно будет дополнить потом\n",
    "\n",
    "docs_full = []\n",
    "for doc in docs:\n",
    "    if doc.startswith(\"http\"):\n",
    "        docs_full.append(doc)"
   ]
  },
  {
   "cell_type": "markdown",
   "metadata": {},
   "source": [
    "Теперь осталось только прокликать все ссылки из списка с помощью Selenium, по умолчанию документы сохранятся в папку с загрузками. На всякий случай добавим задержку в 5 секунд после каждого скачивания:"
   ]
  },
  {
   "cell_type": "code",
   "execution_count": 21,
   "metadata": {},
   "outputs": [],
   "source": [
    "from time import sleep"
   ]
  },
  {
   "cell_type": "code",
   "execution_count": 22,
   "metadata": {},
   "outputs": [
    {
     "name": "stderr",
     "output_type": "stream",
     "text": [
      "/opt/anaconda3/lib/python3.7/site-packages/ipykernel_launcher.py:1: DeprecationWarning: executable_path has been deprecated, please pass in a Service object\n",
      "  \"\"\"Entry point for launching an IPython kernel.\n"
     ]
    }
   ],
   "source": [
    "br = wd.Chrome(\"/Users/allat/Documents/chromedriver\")"
   ]
  },
  {
   "cell_type": "code",
   "execution_count": 23,
   "metadata": {},
   "outputs": [],
   "source": [
    "for i in docs_full:\n",
    "    br.get(i)\n",
    "    sleep(5)"
   ]
  }
 ],
 "metadata": {
  "kernelspec": {
   "display_name": "Python 3",
   "language": "python",
   "name": "python3"
  },
  "language_info": {
   "codemirror_mode": {
    "name": "ipython",
    "version": 3
   },
   "file_extension": ".py",
   "mimetype": "text/x-python",
   "name": "python",
   "nbconvert_exporter": "python",
   "pygments_lexer": "ipython3",
   "version": "3.7.4"
  }
 },
 "nbformat": 4,
 "nbformat_minor": 2
}
