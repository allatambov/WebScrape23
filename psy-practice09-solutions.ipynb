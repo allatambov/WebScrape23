{
 "cells": [
  {
   "cell_type": "markdown",
   "metadata": {},
   "source": [
    "# Web-scraping: сбор данных из баз данных и интернет-источников\n",
    "\n",
    "*Алла Тамбовцева, НИУ ВШЭ*\n",
    "\n",
    "## Более продвинутый парсинг с BeautifulSoup"
   ]
  },
  {
   "cell_type": "markdown",
   "metadata": {},
   "source": [
    "Импортируем необходимые модули и библиотеки:"
   ]
  },
  {
   "cell_type": "code",
   "execution_count": 1,
   "metadata": {},
   "outputs": [],
   "source": [
    "import requests\n",
    "import re\n",
    "import pandas as pd\n",
    "from bs4 import BeautifulSoup"
   ]
  },
  {
   "cell_type": "markdown",
   "metadata": {},
   "source": [
    "### Часть 1: чуть-чуть про кодировки"
   ]
  },
  {
   "cell_type": "markdown",
   "metadata": {},
   "source": [
    "Подключаемся к странице древнего [сайта-архива](https://filmiki.arjlover.net/filmiki/) с детскими (преимущественно, советскими) фильмами:"
   ]
  },
  {
   "cell_type": "code",
   "execution_count": 2,
   "metadata": {},
   "outputs": [],
   "source": [
    "page01 = requests.get(\"https://filmiki.arjlover.net/filmiki/\")\n",
    "soup01 = BeautifulSoup(page01.text)"
   ]
  },
  {
   "cell_type": "markdown",
   "metadata": {},
   "source": [
    "Давайте найдём на этой странице таблицу, в которой сохранены названия фильмов и ссылки для скачивания."
   ]
  },
  {
   "cell_type": "code",
   "execution_count": 3,
   "metadata": {},
   "outputs": [],
   "source": [
    "t = soup01.find_all(\"table\")[3]"
   ]
  },
  {
   "cell_type": "markdown",
   "metadata": {},
   "source": [
    "Преобразуем фрагмент кода с тэгом `<table>` сначала в строку, а затем – в датафрейм с помощью `pandas`:"
   ]
  },
  {
   "cell_type": "code",
   "execution_count": 5,
   "metadata": {},
   "outputs": [
    {
     "data": {
      "text/html": [
       "<div>\n",
       "<style scoped>\n",
       "    .dataframe tbody tr th:only-of-type {\n",
       "        vertical-align: middle;\n",
       "    }\n",
       "\n",
       "    .dataframe tbody tr th {\n",
       "        vertical-align: top;\n",
       "    }\n",
       "\n",
       "    .dataframe thead th {\n",
       "        text-align: right;\n",
       "    }\n",
       "</style>\n",
       "<table border=\"1\" class=\"dataframe\">\n",
       "  <thead>\n",
       "    <tr style=\"text-align: right;\">\n",
       "      <th></th>\n",
       "      <th>N</th>\n",
       "      <th>Íàçâàíèå</th>\n",
       "      <th>Ðàçìåð</th>\n",
       "      <th>Êàðòèíêà</th>\n",
       "      <th>Äëèò-òü</th>\n",
       "      <th>Ñêà÷àòü</th>\n",
       "    </tr>\n",
       "  </thead>\n",
       "  <tbody>\n",
       "    <tr>\n",
       "      <th>0</th>\n",
       "      <td>1.0</td>\n",
       "      <td>31 èþíÿ (1/2)</td>\n",
       "      <td>1206.986.752</td>\n",
       "      <td>720x528</td>\n",
       "      <td>01:04:29</td>\n",
       "      <td>http ed2k torrent</td>\n",
       "    </tr>\n",
       "    <tr>\n",
       "      <th>1</th>\n",
       "      <td>2.0</td>\n",
       "      <td>31 èþíÿ (2/2)</td>\n",
       "      <td>1288.005.632</td>\n",
       "      <td>720x528</td>\n",
       "      <td>01:05:57</td>\n",
       "      <td>http ed2k torrent</td>\n",
       "    </tr>\n",
       "    <tr>\n",
       "      <th>2</th>\n",
       "      <td>3.0</td>\n",
       "      <td>4:0 â ïîëüçó Òàíå÷êè</td>\n",
       "      <td>734.666.752</td>\n",
       "      <td>576x336</td>\n",
       "      <td>01:23:49</td>\n",
       "      <td>http ed2k torrent</td>\n",
       "    </tr>\n",
       "    <tr>\n",
       "      <th>3</th>\n",
       "      <td>4.0</td>\n",
       "      <td>Àâòîìîáèëü, ñêðèïêà è ñîáàêà Êëÿêñà</td>\n",
       "      <td>1465.978.880</td>\n",
       "      <td>720x368</td>\n",
       "      <td>01:36:00</td>\n",
       "      <td>http ed2k torrent</td>\n",
       "    </tr>\n",
       "    <tr>\n",
       "      <th>4</th>\n",
       "      <td>5.0</td>\n",
       "      <td>À åñëè ýòî ëþáîâü?</td>\n",
       "      <td>1446.512.640</td>\n",
       "      <td>640x480</td>\n",
       "      <td>01:36:06</td>\n",
       "      <td>http ed2k torrent</td>\n",
       "    </tr>\n",
       "  </tbody>\n",
       "</table>\n",
       "</div>"
      ],
      "text/plain": [
       "     N                             Íàçâàíèå        Ðàçìåð Êàðòèíêà   Äëèò-òü  \\\n",
       "0  1.0                        31 èþíÿ (1/2)  1206.986.752  720x528  01:04:29   \n",
       "1  2.0                        31 èþíÿ (2/2)  1288.005.632  720x528  01:05:57   \n",
       "2  3.0                 4:0 â ïîëüçó Òàíå÷êè   734.666.752  576x336  01:23:49   \n",
       "3  4.0  Àâòîìîáèëü, ñêðèïêà è ñîáàêà Êëÿêñà  1465.978.880  720x368  01:36:00   \n",
       "4  5.0                   À åñëè ýòî ëþáîâü?  1446.512.640  640x480  01:36:06   \n",
       "\n",
       "             Ñêà÷àòü  \n",
       "0  http ed2k torrent  \n",
       "1  http ed2k torrent  \n",
       "2  http ed2k torrent  \n",
       "3  http ed2k torrent  \n",
       "4  http ed2k torrent  "
      ]
     },
     "execution_count": 5,
     "metadata": {},
     "output_type": "execute_result"
    }
   ],
   "source": [
    "df = pd.read_html(str(t))[0]\n",
    "df.head()"
   ]
  },
  {
   "cell_type": "markdown",
   "metadata": {},
   "source": [
    "Проблема: текст в таблице не совсем корректно считывается, вместо букв крокозябры. Эта проблема связана с тем, что кодировка, которую функция `.get()` выбрала здесь по умолчанию, не соответствует той, которая нам нужна. Посмотрим на неё:"
   ]
  },
  {
   "cell_type": "code",
   "execution_count": 6,
   "metadata": {},
   "outputs": [
    {
     "data": {
      "text/plain": [
       "'ISO-8859-1'"
      ]
     },
     "execution_count": 6,
     "metadata": {},
     "output_type": "execute_result"
    }
   ],
   "source": [
    "page01.encoding"
   ]
  },
  {
   "cell_type": "markdown",
   "metadata": {},
   "source": [
    "Изменим её:"
   ]
  },
  {
   "cell_type": "code",
   "execution_count": 7,
   "metadata": {},
   "outputs": [],
   "source": [
    "page01.encoding='windows-1251'"
   ]
  },
  {
   "cell_type": "markdown",
   "metadata": {},
   "source": [
    "Попробуем повторить те же действия:"
   ]
  },
  {
   "cell_type": "code",
   "execution_count": 8,
   "metadata": {},
   "outputs": [],
   "source": [
    "soup01 = BeautifulSoup(page01.text)\n",
    "table = soup01.find_all(\"table\")[3]"
   ]
  },
  {
   "cell_type": "markdown",
   "metadata": {},
   "source": [
    "Выглядит получше! Давайте еще раз вспомним, как превращать код HTML в датафрейм `pandas`:"
   ]
  },
  {
   "cell_type": "code",
   "execution_count": 9,
   "metadata": {},
   "outputs": [
    {
     "data": {
      "text/html": [
       "<div>\n",
       "<style scoped>\n",
       "    .dataframe tbody tr th:only-of-type {\n",
       "        vertical-align: middle;\n",
       "    }\n",
       "\n",
       "    .dataframe tbody tr th {\n",
       "        vertical-align: top;\n",
       "    }\n",
       "\n",
       "    .dataframe thead th {\n",
       "        text-align: right;\n",
       "    }\n",
       "</style>\n",
       "<table border=\"1\" class=\"dataframe\">\n",
       "  <thead>\n",
       "    <tr style=\"text-align: right;\">\n",
       "      <th></th>\n",
       "      <th>N</th>\n",
       "      <th>Название</th>\n",
       "      <th>Размер</th>\n",
       "      <th>Картинка</th>\n",
       "      <th>Длит-ть</th>\n",
       "      <th>Скачать</th>\n",
       "    </tr>\n",
       "  </thead>\n",
       "  <tbody>\n",
       "    <tr>\n",
       "      <th>0</th>\n",
       "      <td>1.0</td>\n",
       "      <td>31 июня (1/2)</td>\n",
       "      <td>1206.986.752</td>\n",
       "      <td>720x528</td>\n",
       "      <td>01:04:29</td>\n",
       "      <td>http ed2k torrent</td>\n",
       "    </tr>\n",
       "    <tr>\n",
       "      <th>1</th>\n",
       "      <td>2.0</td>\n",
       "      <td>31 июня (2/2)</td>\n",
       "      <td>1288.005.632</td>\n",
       "      <td>720x528</td>\n",
       "      <td>01:05:57</td>\n",
       "      <td>http ed2k torrent</td>\n",
       "    </tr>\n",
       "    <tr>\n",
       "      <th>2</th>\n",
       "      <td>3.0</td>\n",
       "      <td>4:0 в пользу Танечки</td>\n",
       "      <td>734.666.752</td>\n",
       "      <td>576x336</td>\n",
       "      <td>01:23:49</td>\n",
       "      <td>http ed2k torrent</td>\n",
       "    </tr>\n",
       "    <tr>\n",
       "      <th>3</th>\n",
       "      <td>4.0</td>\n",
       "      <td>Автомобиль, скрипка и собака Клякса</td>\n",
       "      <td>1465.978.880</td>\n",
       "      <td>720x368</td>\n",
       "      <td>01:36:00</td>\n",
       "      <td>http ed2k torrent</td>\n",
       "    </tr>\n",
       "    <tr>\n",
       "      <th>4</th>\n",
       "      <td>5.0</td>\n",
       "      <td>А если это любовь?</td>\n",
       "      <td>1446.512.640</td>\n",
       "      <td>640x480</td>\n",
       "      <td>01:36:06</td>\n",
       "      <td>http ed2k torrent</td>\n",
       "    </tr>\n",
       "  </tbody>\n",
       "</table>\n",
       "</div>"
      ],
      "text/plain": [
       "     N                             Название        Размер Картинка   Длит-ть  \\\n",
       "0  1.0                        31 июня (1/2)  1206.986.752  720x528  01:04:29   \n",
       "1  2.0                        31 июня (2/2)  1288.005.632  720x528  01:05:57   \n",
       "2  3.0                 4:0 в пользу Танечки   734.666.752  576x336  01:23:49   \n",
       "3  4.0  Автомобиль, скрипка и собака Клякса  1465.978.880  720x368  01:36:00   \n",
       "4  5.0                   А если это любовь?  1446.512.640  640x480  01:36:06   \n",
       "\n",
       "             Скачать  \n",
       "0  http ed2k torrent  \n",
       "1  http ed2k torrent  \n",
       "2  http ed2k torrent  \n",
       "3  http ed2k torrent  \n",
       "4  http ed2k torrent  "
      ]
     },
     "execution_count": 9,
     "metadata": {},
     "output_type": "execute_result"
    }
   ],
   "source": [
    "df = pd.read_html(str(table))[0]\n",
    "df.head()"
   ]
  },
  {
   "cell_type": "markdown",
   "metadata": {},
   "source": [
    "Минутка священного рандома – вдруг пригодится:"
   ]
  },
  {
   "cell_type": "code",
   "execution_count": 10,
   "metadata": {},
   "outputs": [
    {
     "data": {
      "text/plain": [
       "['Два капитана (6/6)', 'Тигры на льду', 'Валькины паруса']"
      ]
     },
     "execution_count": 10,
     "metadata": {},
     "output_type": "execute_result"
    }
   ],
   "source": [
    "import random \n",
    "\n",
    "# преобразуем столбец с названием в список\n",
    "# случайным образом дергаем 3 фильма из списка\n",
    "\n",
    "L = list(df[\"Название\"])\n",
    "random.sample(L, 3)"
   ]
  },
  {
   "cell_type": "markdown",
   "metadata": {},
   "source": [
    "### Часть 2: дополнительные опции в BeautifulSoup или обходим капчи"
   ]
  },
  {
   "cell_type": "markdown",
   "metadata": {},
   "source": [
    "Итак, мы все-таки ограбим Кинопоиск! Попробуем сначала действовать как обычно:"
   ]
  },
  {
   "cell_type": "code",
   "execution_count": 11,
   "metadata": {},
   "outputs": [],
   "source": [
    "url = \"https://www.kinopoisk.ru/film/44587/\"\n",
    "page02 = requests.get(url)"
   ]
  },
  {
   "cell_type": "markdown",
   "metadata": {},
   "source": [
    "Результат нас вряд ли устроит:"
   ]
  },
  {
   "cell_type": "code",
   "execution_count": 12,
   "metadata": {},
   "outputs": [
    {
     "data": {
      "text/plain": [
       "'<body></body><script nonce=\\'e3622099e83b24985464de939ba28f52\\'>var it = {\"host\":\"https:\\\\u002F\\\\u002Fsso.kinopoisk.ru\\\\u002Finstall?uuid=89c132cf-4b90-476f-b8a1-a1fd87835024\",\"retpath\":\"https:\\\\u002F\\\\u002Fwww.kinopoisk.ru\\\\u002F\\\\u002Fapi\\\\u002Fprofile-pending\\\\u002F?retpath=https%3A%2F%2Fwww.kinopoisk.ru%2Ffilm%2F44587%2F\"};(function() { var form = document.createElement(\\'form\\'); var element1 = document.createElement(\\'input\\'); var element2 = document.createElement(\\'input\\'); element1.name = \\'retpath\\'; element1.type = \\'hidden\\'; element1.value = it.retpath; form.appendChild(element1); element2.name = \\'container\\'; element2.type = \\'hidden\\'; element2.value = \\'1682598050.10135558.WxmdRs4mjWbZqxTm.U_3iLc8hApAzgwPVaSGczVbg4-Miomka5YpEVyv-JDe6P0IUMZOhPPYc1NXd6GH2vN-NgqmXY7oI-_cOIrpKWOu1vvhYYaqz-0CATc5nCX_ohly0KOwJH8VNYdBFg1_W72YAp5KMg00RO4XfXDUq2C-8FnBqvP0qQ_dKP6bI02-CwdGasxsqE_Kid_i7glaHrv10mzzO17trMjcajq3ZZjHzYP8atjZiTlaOKj42YD6W7lJuv3eEsdlmWpZILG2gVWG6bS93k-ALhu9NszsvFtgC2Unz7o9hq7bR1uw24VqqeH8jg100djDGNgFqfGS9ieDgZV6IWXux1alPy1mYKPXfgaQ1pFsu3UkM8F95-5OmSpKzrgPePGGwZBPnZFkiSJBDsMILmn8hkBI4AOdDJn-rHNQJl3nFInnWkwDdKZnKfYO4SiCPnu3dnH25HqgDAuqkMxzm9_ppo7L0C4wCkg2ePJnHeTIni6-XgRhf-qjC3cMoojEaRtFcod5cYiA9yFLoaGWA0RTkKB_Ugds4aeFZ4kTgJNOONdmq_6MMMYqrWsqvYzrpAR5LMVLJbgdei2UzljPadGbsroZ2OvtR9ccZGz3BtfIO543w0sCAvQsTT30csmtMuTh-ZsQqhwIJ9tQmVjjNUDqunOYxljTanGmig2aTEelS9WuVxBHu2Nnx6vomDZ1lEzKCoPtgbcAYTPfwCZivRo6rDihhDBO05fk7zUqWlFeVEvcaCJanI9T7vszKsna8V8jv_q68Qw_vVV0cP7QYNV1gw2pOC7V2H9h06P1q0IpnztBTHfCb2vsseuZCUophtUiTOZdLIJrqeMw3cPnhq9Cr2N1iuWGoto0FDNs3MxVo7dup5LSY9m6j3u-9Ph3XyKsMggnFQK0FjrZPA0RL0AiFa45ZAJ-yLnsy2AHgQSBiIRwsJuI76ZclMrD-jLn3mSYPXoBm0PskYCCOpxi47LUxh_lKTBLRRVoPItsEY4KhK6U6edrzry5CPywxboN1UAhbYro.SHIRGipHdEF1palwKr_14A\\'; form.appendChild(element2); form.method = \\'POST\\'; form.action = it.host; document.body.appendChild(form); form.submit();})();</script>'"
      ]
     },
     "execution_count": 12,
     "metadata": {},
     "output_type": "execute_result"
    }
   ],
   "source": [
    "page02.text"
   ]
  },
  {
   "cell_type": "markdown",
   "metadata": {},
   "source": [
    "Посмотрим на страницу, которая открывается при попытке сгрузить информацию через `get()`, оно того стоит (если у вас вылезала капча, она делала это на прекрасном фоне с белым шумом):"
   ]
  },
  {
   "cell_type": "code",
   "execution_count": 13,
   "metadata": {},
   "outputs": [],
   "source": [
    "# создаем новый файл HTML, w – от write, режим записи\n",
    "# декодируем, чтобы был текст на кириллице\n",
    "# вписываем содержимое в файл\n",
    "# закрываем файл для сохранения изменений\n",
    "\n",
    "check = open('check.html', 'w')\n",
    "check.write(page02.text)\n",
    "check.close()"
   ]
  },
  {
   "cell_type": "markdown",
   "metadata": {},
   "source": [
    "Теперь можно посмотреть на записанный HTML-файл *check.html*, он создан и лежит рядом с текущим ipynb-файлом."
   ]
  },
  {
   "cell_type": "markdown",
   "metadata": {},
   "source": [
    "Зайдем в инструменты разработчика и найдем опцию, которая добавляется при обработке запроса к странице, когда мы открываем ее в «ручном» режиме (кликаем правой клаишей в Chrome, *Просмотреть код – Network*, далее кликаем куда-нибудь на странице, находим в окне действие *click*, открываем его и смотрим на опции во вкладке *Headers*, часть *Request headers*):"
   ]
  },
  {
   "cell_type": "code",
   "execution_count": 14,
   "metadata": {},
   "outputs": [],
   "source": [
    "headers = {'user-agent':\n",
    "           'Mozilla/5.0 (Macintosh; Intel Mac OS X 10_15_7) AppleWebKit/537.36 (KHTML, like Gecko) Chrome/112.0.0.0 Safari/537.36'}"
   ]
  },
  {
   "cell_type": "markdown",
   "metadata": {},
   "source": [
    "Учтем эту опцию при загрузке страницы:"
   ]
  },
  {
   "cell_type": "code",
   "execution_count": 15,
   "metadata": {},
   "outputs": [],
   "source": [
    "page02 = requests.get(\"https://www.kinopoisk.ru/film/44587/\", headers = headers)\n",
    "soup02 = BeautifulSoup(page02.text)"
   ]
  },
  {
   "cell_type": "markdown",
   "metadata": {},
   "source": [
    "Ура! Исходный код страницы получен, можно его парсить."
   ]
  },
  {
   "cell_type": "markdown",
   "metadata": {},
   "source": [
    "Если не сработало, можно попробовать учесть больше опций (скопируйте свои значения из браузера), не только аргумент `user-agent`:"
   ]
  },
  {
   "cell_type": "code",
   "execution_count": 17,
   "metadata": {},
   "outputs": [],
   "source": [
    "headers = {\n",
    "    'user-agent':\n",
    "           'Mozilla/5.0 (Macintosh; Intel Mac OS X 10_15_7) AppleWebKit/537.36 (KHTML, like Gecko) Chrome/112.0.0.0 Safari/537.36',\n",
    "    'cookie' : 'yandexuid=6716840761632947288; yuidss=6716840761632947288; amcuid=2904602101652300459; _ym_uid=1653329391355567937; yandex_gid=213; ymex=1701382659.yrts.1669846659#1978614381.yrtsi.1663254381; skid=2461002541672938768; gdpr=0; yp=1701118684.pgp.1_27826359#1671432954.szm.2:1440x900:1440x821#1670914554.ln_tp.true#1988317406.udn.cDphbGxhdGFtYm92QGdtYWlsLmNvbQ%3D%3D#1988317406.multib.1; yandex_login=tambovtseva.alla; yashr=1892815801674070179; i=hgr6qaPOwyPfnuD2Q3HfuzFAv5TvCO6u3wt8zM6iE68DhYDLUNZ3J7VqfUb9ThaQtNkys0EXFJs1fzeykMCxRKdsAFQ=; _ym_d=1678659743; is_gdpr=0; is_gdpr_b=CI7aQhDQsgEoAg==; Session_id=3:1682441688.5.0.1672957308794:yMdmvFh034wAQKWQaCECKg:1.1.2:1|1739464787.98.2.1:330222651.2:98|3:10268939.244094.ogkzRe39ULIB05hE_sb-K5jAfXE; sessionid2=3:1682441688.5.0.1672957308794:yMdmvFh034wAQKWQaCECKg:1.1.2:1|1739464787.98.2.1:330222651.2:98|3:10268939.244094.fakesign0000000000000000000; ys=udn.cDp0YW1ib3Z0c2V2YS5hbGxh#c_chck.1623918946; bh=EkEiQ2hyb21pdW0iO3Y9IjExMiIsICJHb29nbGUgQ2hyb21lIjt2PSIxMTIiLCAiTm90OkEtQnJhbmQiO3Y9Ijk5IhoFIng4NiIiECIxMTIuMC41NjE1LjEzNyIqAj8wOgcibWFjT1MiQgkiMTAuMTMuNiJKBCI2NCJSXCJDaHJvbWl1bSI7dj0iMTEyLjAuNTYxNS4xMzciLCJHb29nbGUgQ2hyb21lIjt2PSIxMTIuMC41NjE1LjEzNyIsIk5vdDpBLUJyYW5kIjt2PSI5OS4wLjAuMCIi',\n",
    "}\n",
    "\n",
    "page02 = requests.get(\"https://www.kinopoisk.ru/film/44587/\", headers = headers)\n",
    "soup02 = BeautifulSoup(page02.text)"
   ]
  },
  {
   "cell_type": "markdown",
   "metadata": {},
   "source": [
    "**NB.** Решение не самое стабильное, зависит от сети и настроек браузера, иногда бывает наоборот: безо всяких опций Кинопоиск отдает исходный с обычным `requests.get()` без дополнительных параметров, а с дополнительными `headers` все ломается. В общем, Selenium – наш друг :) Но для сайтов пороще часто без Selenium можно обойтись, выставив таким образом параметры запроса."
   ]
  },
  {
   "cell_type": "markdown",
   "metadata": {},
   "source": [
    "### Часть 3: продолжаем поиски"
   ]
  },
  {
   "cell_type": "markdown",
   "metadata": {},
   "source": [
    "Попытаемся найти описание фильма, которое начинается со слов *Художник-безумец*:"
   ]
  },
  {
   "cell_type": "code",
   "execution_count": 26,
   "metadata": {},
   "outputs": [
    {
     "data": {
      "text/plain": [
       "<meta content=\"Художник-безумец принимает Марию за погибшую натурщицу. Авангардный советский хоррор с музыкой Сергея Курехина. Смотрите онлайн на Кинопоиске.\" data-tid=\"57f72b5\" name=\"description\"/>"
      ]
     },
     "execution_count": 26,
     "metadata": {},
     "output_type": "execute_result"
    }
   ],
   "source": [
    "soup02.find(\"meta\", {\"name\" : \"description\"})"
   ]
  },
  {
   "cell_type": "markdown",
   "metadata": {},
   "source": [
    "Или воспользуемся регулярными выражениями:"
   ]
  },
  {
   "cell_type": "code",
   "execution_count": 27,
   "metadata": {},
   "outputs": [
    {
     "name": "stdout",
     "output_type": "stream",
     "text": [
      "Художник-безумец принимает Марию за погибшую натурщицу. Авангардный советский хоррор с музыкой Сергея Курехина\n"
     ]
    }
   ],
   "source": [
    "description = re.findall('\"shortDescription\":\"(.+?)\",', text)[0]\n",
    "print(description)"
   ]
  },
  {
   "cell_type": "markdown",
   "metadata": {},
   "source": [
    "Теперь найдем раздел, который содержит большую часть информации о фильме (заголовок *О фильме*) и сохраним фрагмент кода в переменную `tab`:"
   ]
  },
  {
   "cell_type": "code",
   "execution_count": 28,
   "metadata": {},
   "outputs": [],
   "source": [
    "tab = soup02.find(\"div\", {\"data-test-id\" : \"encyclopedic-table\"})"
   ]
  },
  {
   "cell_type": "markdown",
   "metadata": {},
   "source": [
    "Найдем все элементы внутри, извлечем из них текст и создадим словарь с информацией о фильме:"
   ]
  },
  {
   "cell_type": "code",
   "execution_count": 29,
   "metadata": {},
   "outputs": [
    {
     "data": {
      "text/plain": [
       "{'Год производства': '1988',\n",
       " 'Страна': 'СССР',\n",
       " 'Жанр': 'ужасы, фэнтези, драма, детективслова',\n",
       " 'Слоган': '—',\n",
       " 'Режиссер': 'Олег Тепцов',\n",
       " 'Сценарий': 'Юрий Арабов, Александр Грин',\n",
       " 'Директор фильма': 'Олег Тепцов, Вениамин Кутиков',\n",
       " 'Оператор': 'Анатолий Лапшов',\n",
       " 'Композитор': 'Сергей Курехин',\n",
       " 'Художник': 'Наталья Васильева, Лариса Конникова',\n",
       " 'Монтаж': 'Ирина Гороховская',\n",
       " 'Зрители': '3.3 млн , ...',\n",
       " 'Премьера в мире': '18 мая 1990, ...',\n",
       " 'Возраст': '16+',\n",
       " 'Время': '109 мин. / 01:49'}"
      ]
     },
     "execution_count": 29,
     "metadata": {},
     "output_type": "execute_result"
    }
   ],
   "source": [
    "children = list(tab.children)\n",
    "info = [list(child.strings) for child in children]\n",
    "\n",
    "info_dict = {}\n",
    "for part in info:\n",
    "    key = part[0]\n",
    "    value = \"\".join(part[1:])\n",
    "    info_dict[key] = value\n",
    "    \n",
    "info_dict"
   ]
  },
  {
   "cell_type": "markdown",
   "metadata": {},
   "source": [
    "Найдем ссылку, которая ведет нас к подробной информации о рейтинге фильма, и сохраним ее в переменную `link`:"
   ]
  },
  {
   "cell_type": "code",
   "execution_count": 30,
   "metadata": {},
   "outputs": [],
   "source": [
    "link = soup02.find(\"a\", {\"class\" : \"film-rating-value styles_rootLink__mm0kW\"}).get(\"href\")"
   ]
  },
  {
   "cell_type": "markdown",
   "metadata": {},
   "source": [
    "Сделаем ссылку полной, перейдем по ней:"
   ]
  },
  {
   "cell_type": "code",
   "execution_count": 31,
   "metadata": {},
   "outputs": [
    {
     "name": "stdout",
     "output_type": "stream",
     "text": [
      "https://www.kinopoisk.ru/film/44587/votes/\n"
     ]
    }
   ],
   "source": [
    "link_full = \"https://www.kinopoisk.ru\" + link\n",
    "print(link_full)"
   ]
  },
  {
   "cell_type": "markdown",
   "metadata": {},
   "source": [
    "Начинаем все сначала:"
   ]
  },
  {
   "cell_type": "code",
   "execution_count": 33,
   "metadata": {},
   "outputs": [],
   "source": [
    "page03 = requests.get(link_full, headers = headers)\n",
    "soup03 = BeautifulSoup(page03.text)"
   ]
  },
  {
   "cell_type": "markdown",
   "metadata": {},
   "source": [
    "Найдем и сохраним рейтинг фильма и количество оценок:"
   ]
  },
  {
   "cell_type": "code",
   "execution_count": 34,
   "metadata": {},
   "outputs": [],
   "source": [
    "rating = soup03.find(\"span\", {\"class\" : \"rating_ball\"}).text.replace(\"*\", \"\").strip()\n",
    "count = soup03.find(\"span\", {\"class\" : \"ratingCount\"}).text.replace(\"**\", \"\").strip()"
   ]
  },
  {
   "cell_type": "markdown",
   "metadata": {},
   "source": [
    "### Часть 4: забираем данные из json-файла и воспроизводим графики"
   ]
  },
  {
   "cell_type": "markdown",
   "metadata": {},
   "source": [
    "А теперь - самое интересное! Заберем данные, которые используются для построения графиков на этой странице, чтобы самим строить графики не хуже (а то и лучше). Остановимся пока на тех данных, которые легли в основу круговой диаграммы.\n",
    "\n",
    "Данные хранятся в json-файле, ссылка на который доступна внутри кода JavaScript в исходном коде страницы. Для универсальности и надежности превратим `soup03` в обычную строку и вновь воспользуемся регулярными выражениями, как раньше:"
   ]
  },
  {
   "cell_type": "code",
   "execution_count": 35,
   "metadata": {},
   "outputs": [
    {
     "data": {
      "text/plain": [
       "[\" 'https://kinopoisk-fvs.s3.yandex.net/films/44587/value-stats.json'\",\n",
       " \" '/charts/votes/44587/last_votes.json'\"]"
      ]
     },
     "execution_count": 35,
     "metadata": {},
     "output_type": "execute_result"
    }
   ],
   "source": [
    "text03 = str(soup03)\n",
    "re.findall(\"dataURI:(.+),\", text03)"
   ]
  },
  {
   "cell_type": "code",
   "execution_count": 36,
   "metadata": {},
   "outputs": [
    {
     "name": "stdout",
     "output_type": "stream",
     "text": [
      "https://kinopoisk-fvs.s3.yandex.net/films/44587/value-stats.json\n"
     ]
    }
   ],
   "source": [
    "json_link = re.findall(\"dataURI:(.+),\", text03)[0].replace(\"'\", \"\").strip()\n",
    "print(json_link)"
   ]
  },
  {
   "cell_type": "markdown",
   "metadata": {},
   "source": [
    "Переходим на страницу с этим json-файлом и забираем данные:"
   ]
  },
  {
   "cell_type": "code",
   "execution_count": 37,
   "metadata": {},
   "outputs": [],
   "source": [
    "page04 = requests.get(json_link) # тут уже без капчи, кстати"
   ]
  },
  {
   "cell_type": "code",
   "execution_count": 38,
   "metadata": {},
   "outputs": [
    {
     "data": {
      "text/plain": [
       "[{'value': 242, 'title': '1', 'out': None},\n",
       " {'value': 140, 'title': '2', 'out': None},\n",
       " {'value': 212, 'title': '3', 'out': None},\n",
       " {'value': 305, 'title': '4', 'out': None},\n",
       " {'value': 733, 'title': '5', 'out': None},\n",
       " {'value': 1258, 'title': '6', 'out': None},\n",
       " {'value': 2201, 'title': '7', 'out': 'true'},\n",
       " {'value': 2135, 'title': '8', 'out': None},\n",
       " {'value': 1136, 'title': '9', 'out': None},\n",
       " {'value': 1633, 'title': '10', 'out': None}]"
      ]
     },
     "execution_count": 38,
     "metadata": {},
     "output_type": "execute_result"
    }
   ],
   "source": [
    "page04.json()"
   ]
  },
  {
   "cell_type": "code",
   "execution_count": 40,
   "metadata": {},
   "outputs": [],
   "source": [
    "data = page04.json()"
   ]
  },
  {
   "cell_type": "markdown",
   "metadata": {},
   "source": [
    "Заберем значения оценок (`values`) и соответствующие им частоты (`freqs`):"
   ]
  },
  {
   "cell_type": "code",
   "execution_count": 41,
   "metadata": {},
   "outputs": [],
   "source": [
    "freqs = [d[\"value\"] for d in data]\n",
    "values = [d[\"title\"] for d in data]"
   ]
  },
  {
   "cell_type": "markdown",
   "metadata": {},
   "source": [
    "Импортируем модуль для построения графиков:"
   ]
  },
  {
   "cell_type": "code",
   "execution_count": 42,
   "metadata": {},
   "outputs": [],
   "source": [
    "from matplotlib import pyplot as plt"
   ]
  },
  {
   "cell_type": "markdown",
   "metadata": {},
   "source": [
    "Вместо круговой диаграммы строим столбиковую диаграмму:"
   ]
  },
  {
   "cell_type": "code",
   "execution_count": 43,
   "metadata": {},
   "outputs": [
    {
     "data": {
      "text/plain": [
       "<BarContainer object of 10 artists>"
      ]
     },
     "execution_count": 43,
     "metadata": {},
     "output_type": "execute_result"
    },
    {
     "data": {
      "image/png": "[encoded data removed]",
      "text/plain": [
       "<Figure size 432x288 with 1 Axes>"
      ]
     },
     "metadata": {
      "needs_background": "light"
     },
     "output_type": "display_data"
    }
   ],
   "source": [
    "plt.bar(values, freqs)"
   ]
  },
  {
   "cell_type": "markdown",
   "metadata": {},
   "source": [
    "Добавляем свои цвета для столбцов – сохраняем их в виде списка `colors`:"
   ]
  },
  {
   "cell_type": "code",
   "execution_count": 44,
   "metadata": {},
   "outputs": [
    {
     "data": {
      "text/plain": [
       "['red',\n",
       " 'red',\n",
       " 'red',\n",
       " 'orange',\n",
       " 'orange',\n",
       " 'yellow',\n",
       " 'yellow',\n",
       " 'green',\n",
       " 'green',\n",
       " 'green']"
      ]
     },
     "execution_count": 44,
     "metadata": {},
     "output_type": "execute_result"
    }
   ],
   "source": [
    "colors = [\"red\"] * 3 + [\"orange\"] * 2 + [\"yellow\"] * 2 + [\"green\"] * 3\n",
    "colors"
   ]
  },
  {
   "cell_type": "markdown",
   "metadata": {},
   "source": [
    "Обновляем график (да, цвета пока дикие):"
   ]
  },
  {
   "cell_type": "code",
   "execution_count": 45,
   "metadata": {},
   "outputs": [
    {
     "data": {
      "text/plain": [
       "<BarContainer object of 10 artists>"
      ]
     },
     "execution_count": 45,
     "metadata": {},
     "output_type": "execute_result"
    },
    {
     "data": {
      "image/png": "[encoded data removed]",
      "text/plain": [
       "<Figure size 432x288 with 1 Axes>"
      ]
     },
     "metadata": {
      "needs_background": "light"
     },
     "output_type": "display_data"
    }
   ],
   "source": [
    "plt.bar(values, freqs, color = colors)"
   ]
  }
 ],
 "metadata": {
  "kernelspec": {
   "display_name": "Python 3",
   "language": "python",
   "name": "python3"
  },
  "language_info": {
   "codemirror_mode": {
    "name": "ipython",
    "version": 3
   },
   "file_extension": ".py",
   "mimetype": "text/x-python",
   "name": "python",
   "nbconvert_exporter": "python",
   "pygments_lexer": "ipython3",
   "version": "3.7.4"
  }
 },
 "nbformat": 4,
 "nbformat_minor": 2
}
