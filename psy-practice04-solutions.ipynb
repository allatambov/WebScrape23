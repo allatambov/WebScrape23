{
 "cells": [
  {
   "cell_type": "markdown",
   "metadata": {},
   "source": [
    "# Web-scraping: сбор данных из баз данных и интернет-источников\n",
    "\n",
    "*Алла Тамбовцева, НИУ ВШЭ*\n",
    "\n",
    "## Практикум 4. Работа с API ВКонтакте: собираем посты со стены, комментарии к постам и информацию пользователях"
   ]
  },
  {
   "cell_type": "markdown",
   "metadata": {},
   "source": [
    "## Подготовка к работе"
   ]
  },
  {
   "cell_type": "markdown",
   "metadata": {},
   "source": [
    "Загружаем модули и библиотеки, необходимые для работы:"
   ]
  },
  {
   "cell_type": "code",
   "execution_count": 1,
   "metadata": {},
   "outputs": [],
   "source": [
    "import requests\n",
    "import time\n",
    "import pandas as pd"
   ]
  },
  {
   "cell_type": "markdown",
   "metadata": {},
   "source": [
    "Для начала давайте посмотрим на документацию API и посмотрим, как к нему формировать запросы: https://dev.vk.com/api/api-requests.\n",
    "По [инструкции](https://allatambov.github.io/pypolit/vk-auth.pdf) мы можем получить доступ к API, создадим приложение и скопируем его ID, чтобы получить ссылку для токена доступа:"
   ]
  },
  {
   "cell_type": "code",
   "execution_count": null,
   "metadata": {},
   "outputs": [],
   "source": [
    "# если нет Управление в меню во ВКонтакте\n",
    "# https://vk.com/apps?act=manage"
   ]
  },
  {
   "cell_type": "code",
   "execution_count": 2,
   "metadata": {},
   "outputs": [
    {
     "name": "stdout",
     "output_type": "stream",
     "text": [
      "Enter your client id: 51539694\n",
      "https://oauth.vk.com/authorize?client_id=51539694&display=page&redirect_uri=http://oauth.vk.com/blank.html&scope=all&response_type=token\n"
     ]
    }
   ],
   "source": [
    "app_id = input(\"Enter your client id: \")\n",
    "url = f\"https://oauth.vk.com/authorize?client_id={app_id}&display=page&redirect_uri=http://oauth.vk.com/blank.html&scope=all&response_type=token\"\n",
    "print(url)"
   ]
  },
  {
   "cell_type": "markdown",
   "metadata": {},
   "source": [
    "Переходим по ссылке выше и копируем ссылку (полностью!) из адресной строки:"
   ]
  },
  {
   "cell_type": "code",
   "execution_count": 3,
   "metadata": {},
   "outputs": [
    {
     "name": "stdout",
     "output_type": "stream",
     "text": [
      "https://oauth.vk.com/blank.html#access_token=vk1.a.1quwjHh3NkHYm-xSN7yQGLuTKk57U4wnPZy_Q6bfPtghRGPySfkEjlTvm2ZIcbAhJjiAt6QYu2_LtZCIOliKqW0GP5enwhEIYnuu3VoeJhJO1Zq65dtxIbuB6-lEyNBz3uD07ITMtpeqEH0CWOtvu1-xjdk7LHwFnFjmjrZXAjS8dGLquKzHCpqg6K_cnjFx&expires_in=86400&user_id=20473269\n"
     ]
    }
   ],
   "source": [
    "full_link = input()"
   ]
  },
  {
   "cell_type": "markdown",
   "metadata": {},
   "source": [
    "Разбиваем полученную ссылку (сначала по `access_token=`, потом часть после `=` по `&`) и забираем токен в чистом виде:"
   ]
  },
  {
   "cell_type": "code",
   "execution_count": 4,
   "metadata": {},
   "outputs": [],
   "source": [
    "token = full_link.split(\"access_token=\")[1].split(\"&\")[0]"
   ]
  },
  {
   "cell_type": "code",
   "execution_count": 5,
   "metadata": {},
   "outputs": [
    {
     "data": {
      "text/plain": [
       "'vk1.a.1quwjHh3NkHYm-xSN7yQGLuTKk57U4wnPZy_Q6bfPtghRGPySfkEjlTvm2ZIcbAhJjiAt6QYu2_LtZCIOliKqW0GP5enwhEIYnuu3VoeJhJO1Zq65dtxIbuB6-lEyNBz3uD07ITMtpeqEH0CWOtvu1-xjdk7LHwFnFjmjrZXAjS8dGLquKzHCpqg6K_cnjFx'"
      ]
     },
     "execution_count": 5,
     "metadata": {},
     "output_type": "execute_result"
    }
   ],
   "source": [
    "token"
   ]
  },
  {
   "cell_type": "markdown",
   "metadata": {},
   "source": [
    "Ура! Теперь токен доступа у нас есть, всё готово к работе!"
   ]
  },
  {
   "cell_type": "markdown",
   "metadata": {},
   "source": [
    "## Часть 1: выгружаем посты со стены сообщества"
   ]
  },
  {
   "cell_type": "markdown",
   "metadata": {},
   "source": [
    "На этом практическом занятии мы будем выгружать посты из сообщества [скалодрома Rock Zona](https://vk.com/rzclimbing). Сохраним в переменные версию API, ссылку для метода работы со стеной сообщества и название сообщества:"
   ]
  },
  {
   "cell_type": "code",
   "execution_count": 6,
   "metadata": {},
   "outputs": [],
   "source": [
    "v = \"5.131\"\n",
    "main_wall = \"https://api.vk.com/method/wall.get\"\n",
    "domain = \"rzclimbing\""
   ]
  },
  {
   "cell_type": "markdown",
   "metadata": {},
   "source": [
    "Функция `get()` из библиотеки `requests` умеет подставлять в запрос необходимые параметры и объединять их с помощью `?` и `&`. Сохраним необходимые параметры в виде словаря:"
   ]
  },
  {
   "cell_type": "code",
   "execution_count": 7,
   "metadata": {},
   "outputs": [],
   "source": [
    "params_wall = {\"access_token\" : token, \n",
    "              \"domain\" : domain, \n",
    "              \"count\" : 100,\n",
    "              \"v\" : v}"
   ]
  },
  {
   "cell_type": "markdown",
   "metadata": {},
   "source": [
    "А теперь сформируем запрос и выгрузим результаты в формате JSON – в Python данные в таком формате будут представлены в виде словаря:"
   ]
  },
  {
   "cell_type": "code",
   "execution_count": 8,
   "metadata": {},
   "outputs": [],
   "source": [
    "req_wall = requests.get(main_wall, params = params_wall)"
   ]
  },
  {
   "cell_type": "code",
   "execution_count": 9,
   "metadata": {},
   "outputs": [
    {
     "data": {
      "text/plain": [
       "'https://api.vk.com/method/wall.get?access_token=vk1.a.1quwjHh3NkHYm-xSN7yQGLuTKk57U4wnPZy_Q6bfPtghRGPySfkEjlTvm2ZIcbAhJjiAt6QYu2_LtZCIOliKqW0GP5enwhEIYnuu3VoeJhJO1Zq65dtxIbuB6-lEyNBz3uD07ITMtpeqEH0CWOtvu1-xjdk7LHwFnFjmjrZXAjS8dGLquKzHCpqg6K_cnjFx&domain=rzclimbing&count=100&v=5.131'"
      ]
     },
     "execution_count": 9,
     "metadata": {},
     "output_type": "execute_result"
    }
   ],
   "source": [
    "req_wall.url"
   ]
  },
  {
   "cell_type": "code",
   "execution_count": 1,
   "metadata": {},
   "outputs": [],
   "source": [
    "json_wall = req_wall.json()\n",
    "json_wall"
   ]
  },
  {
   "cell_type": "markdown",
   "metadata": {},
   "source": [
    "Извлечём из этого большого словаря элемент, который отвечает за общее число постов на стене:"
   ]
  },
  {
   "cell_type": "code",
   "execution_count": 11,
   "metadata": {},
   "outputs": [
    {
     "name": "stdout",
     "output_type": "stream",
     "text": [
      "1461\n"
     ]
    }
   ],
   "source": [
    "nposts = json_wall['response']['count']\n",
    "print(nposts)"
   ]
  },
  {
   "cell_type": "markdown",
   "metadata": {},
   "source": [
    "Теперь извлечём элемент, который хранит результаты – список из маленьких словарей с информацией о постах (1 словарь = 1 пост):"
   ]
  },
  {
   "cell_type": "code",
   "execution_count": 12,
   "metadata": {},
   "outputs": [],
   "source": [
    "items_wall = json_wall['response']['items']"
   ]
  },
  {
   "cell_type": "markdown",
   "metadata": {},
   "source": [
    "Посмотрим на один элемент такого списка:"
   ]
  },
  {
   "cell_type": "code",
   "execution_count": 13,
   "metadata": {},
   "outputs": [
    {
     "data": {
      "text/plain": [
       "{'id': 3873,\n",
       " 'from_id': -38936316,\n",
       " 'owner_id': -38936316,\n",
       " 'date': 1675172057,\n",
       " 'marked_as_ads': 0,\n",
       " 'donut': {'is_donut': False},\n",
       " 'comments': {'can_post': 1, 'count': 0, 'groups_can_post': True},\n",
       " 'short_text_rate': 0.8,\n",
       " 'carousel_offset': 0,\n",
       " 'attachments': [{'type': 'photo',\n",
       "   'photo': {'album_id': -7,\n",
       "    'date': 1675172057,\n",
       "    'id': 457243960,\n",
       "    'owner_id': -38936316,\n",
       "    'access_key': 'fe567bb2cf93da8b08',\n",
       "    'sizes': [{'height': 75,\n",
       "      'type': 's',\n",
       "      'width': 75,\n",
       "      'url': 'https://sun9-west.userapi.com/sun9-7/s/v1/ig2/dZd0_OuTD8d5hRpm8eAEGlkLrno7S9HQCgtBlg_rsJbteemkKN6cqUH03506YTW6DpePzVWfkaTOqiD13b32uWtS.jpg?size=75x75&quality=95&type=album'},\n",
       "     {'height': 130,\n",
       "      'type': 'm',\n",
       "      'width': 130,\n",
       "      'url': 'https://sun9-west.userapi.com/sun9-7/s/v1/ig2/pQBLen7JQUSkBM3AocvxHi2c4lS9G3Q_oLupcpMr0VIY2KlodCgFlErapTiTq0Ff4Omyehespj1LpbqRAxECKUms.jpg?size=130x130&quality=95&type=album'},\n",
       "     {'height': 604,\n",
       "      'type': 'x',\n",
       "      'width': 604,\n",
       "      'url': 'https://sun9-west.userapi.com/sun9-7/s/v1/ig2/ZBNmJlb-DBt-dpXo7Iex_UZ5cZ14Do8YuV05bDsmy-TTN7OhAzAUBtLvQiqksE2ecSIyWXuZ4xSZdxIOiCVswvUl.jpg?size=604x604&quality=95&type=album'},\n",
       "     {'height': 807,\n",
       "      'type': 'y',\n",
       "      'width': 807,\n",
       "      'url': 'https://sun9-west.userapi.com/sun9-7/s/v1/ig2/2BGybYXyvb-o5ip3O4AGP6fyUzFPrtgAi4eC9PWo8-9Dbgc_I5-lfbOnqAMbo8ny-MBGIW0vh9y8hRqbJ5IBcvIi.jpg?size=807x807&quality=95&type=album'},\n",
       "     {'height': 1080,\n",
       "      'type': 'z',\n",
       "      'width': 1080,\n",
       "      'url': 'https://sun9-west.userapi.com/sun9-7/s/v1/ig2/Swi29tUg-RxgmkfP4QybZKuKDim4TAfyU_6vvjZPLghumfQxFHIuwtgLdZ8TMD40tD-Qn730Dh_jPWKZ4rMQEa5S.jpg?size=1080x1080&quality=95&type=album'},\n",
       "     {'height': 130,\n",
       "      'type': 'o',\n",
       "      'width': 130,\n",
       "      'url': 'https://sun9-west.userapi.com/sun9-7/s/v1/ig2/pQBLen7JQUSkBM3AocvxHi2c4lS9G3Q_oLupcpMr0VIY2KlodCgFlErapTiTq0Ff4Omyehespj1LpbqRAxECKUms.jpg?size=130x130&quality=95&type=album'},\n",
       "     {'height': 200,\n",
       "      'type': 'p',\n",
       "      'width': 200,\n",
       "      'url': 'https://sun9-west.userapi.com/sun9-7/s/v1/ig2/-x10XfsfUILQrDw_mO24ay80UGvpaLGzdh_1rqZoxnx6jX16smC-1o3HsLv6cgj4TFXeYbECZZI_FhQIKSnIpE0-.jpg?size=200x200&quality=95&type=album'},\n",
       "     {'height': 320,\n",
       "      'type': 'q',\n",
       "      'width': 320,\n",
       "      'url': 'https://sun9-west.userapi.com/sun9-7/s/v1/ig2/rclPd9OB9MIxVrdqogFP9fmffGs92ceMui-kArcoWAgTx1HnhSTrAAdd-QbyCUGhpamrqvWs9jMwx4koUgq4wrwM.jpg?size=320x320&quality=95&type=album'},\n",
       "     {'height': 510,\n",
       "      'type': 'r',\n",
       "      'width': 510,\n",
       "      'url': 'https://sun9-west.userapi.com/sun9-7/s/v1/ig2/wd4lHiS7BJ5ym8vV42O1KFGEFFoF2UdhnYcwvL9sI_H3i9rFgtetNdll_d-Aa84XpRaY7V8nPBUq7Sgpa0aGRgkF.jpg?size=510x510&quality=95&type=album'}],\n",
       "    'text': '',\n",
       "    'user_id': 100,\n",
       "    'has_tags': False}},\n",
       "  {'type': 'photo',\n",
       "   'photo': {'album_id': -7,\n",
       "    'date': 1675172057,\n",
       "    'id': 457243961,\n",
       "    'owner_id': -38936316,\n",
       "    'access_key': '3865f204682ee0ea18',\n",
       "    'sizes': [{'height': 56,\n",
       "      'type': 's',\n",
       "      'width': 75,\n",
       "      'url': 'https://sun9-west.userapi.com/sun9-10/s/v1/ig2/UiwtOpDXmV9KrKxhmLuzkOp9qBHJhrE7VxT3uLdKyWGhVKygGH19tMv_ngT8BY7ulSNJd2WKlC6d5zk87jHgex_q.jpg?size=75x56&quality=95&type=album'},\n",
       "     {'height': 97,\n",
       "      'type': 'm',\n",
       "      'width': 130,\n",
       "      'url': 'https://sun9-west.userapi.com/sun9-10/s/v1/ig2/HcDoyNOVXc-r6sLwTgoOLU681n4o8R2GbCf8pTwZtTRDHapK1pkan2fryLU9BXxzn7QpoG6fDqwtH-XTbzGE47y-.jpg?size=130x97&quality=95&type=album'},\n",
       "     {'height': 453,\n",
       "      'type': 'x',\n",
       "      'width': 604,\n",
       "      'url': 'https://sun9-west.userapi.com/sun9-10/s/v1/ig2/l0XERrjCAooFwnNBMe4bUiZvzhvlzpKPF3DdxNSbd2-KukFpP_ch8vszcu7EofL_V8RhslCRJQN2a72BWPUbPyr8.jpg?size=604x453&quality=95&type=album'},\n",
       "     {'height': 605,\n",
       "      'type': 'y',\n",
       "      'width': 807,\n",
       "      'url': 'https://sun9-west.userapi.com/sun9-10/s/v1/ig2/Myux-XVMwhZPXtvfhqX_KeFTjDM1FRjoBrBVoxTK7gFIkGGh6T75_Wc-P85r-d6YhrUUgQkwd4hB1WvKRPPcCKa8.jpg?size=807x605&quality=95&type=album'},\n",
       "     {'height': 960,\n",
       "      'type': 'z',\n",
       "      'width': 1280,\n",
       "      'url': 'https://sun9-west.userapi.com/sun9-10/s/v1/ig2/gLgkS1aa-rOt4pO6GMHfSsQ5IeN3x4KzMJpVeY7HaeON9_jA0JpyMuwx82nKvD2ejtoNmxBekgysbucS27-SX7AH.jpg?size=1280x960&quality=95&type=album'},\n",
       "     {'height': 97,\n",
       "      'type': 'o',\n",
       "      'width': 130,\n",
       "      'url': 'https://sun9-west.userapi.com/sun9-10/s/v1/ig2/HcDoyNOVXc-r6sLwTgoOLU681n4o8R2GbCf8pTwZtTRDHapK1pkan2fryLU9BXxzn7QpoG6fDqwtH-XTbzGE47y-.jpg?size=130x97&quality=95&type=album'},\n",
       "     {'height': 150,\n",
       "      'type': 'p',\n",
       "      'width': 200,\n",
       "      'url': 'https://sun9-west.userapi.com/sun9-10/s/v1/ig2/MGfoHIRCBkxn6JJfQ6WPuEmatbctU2764BW-u32mzxqiIXH4sDtHfAHOkDqwQ8OaSRDThEs2_67JkYbqHVjvN__C.jpg?size=200x150&quality=95&type=album'},\n",
       "     {'height': 240,\n",
       "      'type': 'q',\n",
       "      'width': 320,\n",
       "      'url': 'https://sun9-west.userapi.com/sun9-10/s/v1/ig2/P9o7UqOLx4l4KN7VF5Mabd9BKZJNqVxIoWUBeQ7Y9IMVpB9RdquOW5Opv3-yaAHh2U2fXd4CX_0fRER_bQRyBDId.jpg?size=320x240&quality=95&type=album'},\n",
       "     {'height': 382,\n",
       "      'type': 'r',\n",
       "      'width': 510,\n",
       "      'url': 'https://sun9-west.userapi.com/sun9-10/s/v1/ig2/VNrEkpN58Dp_pyvDHDlCrlF1kmFcSqhFtfs1C2ws5tWnmT9FXNH5HKn-Xh8kd7KrVgJOGouOuYu2Ddt6urhnCy6k.jpg?size=510x382&quality=95&type=album'}],\n",
       "    'text': '',\n",
       "    'user_id': 100,\n",
       "    'has_tags': False}},\n",
       "  {'type': 'photo',\n",
       "   'photo': {'album_id': -7,\n",
       "    'date': 1675172057,\n",
       "    'id': 457243962,\n",
       "    'owner_id': -38936316,\n",
       "    'access_key': 'b5b41f5cce38188035',\n",
       "    'sizes': [{'height': 56,\n",
       "      'type': 's',\n",
       "      'width': 75,\n",
       "      'url': 'https://sun9-north.userapi.com/sun9-84/s/v1/ig2/SEPzI4KHb8oSoaQazcsk-hSX-l4jWd78hqfCZ8kp8y64HZ7yuhw0PR2MfjebDwM_6fAcqjkEQVWN_bKDIv2DmLmB.jpg?size=75x56&quality=95&type=album'},\n",
       "     {'height': 97,\n",
       "      'type': 'm',\n",
       "      'width': 130,\n",
       "      'url': 'https://sun9-north.userapi.com/sun9-84/s/v1/ig2/NKzzixwzdKw4vZWx8zoW-2ujYCvT6nxb2X0TbKJ-kh4b8opYg_IfBoXtKwXSjKlXt37K9VWFl5eeZrdew7wpGZeD.jpg?size=130x97&quality=95&type=album'},\n",
       "     {'height': 453,\n",
       "      'type': 'x',\n",
       "      'width': 604,\n",
       "      'url': 'https://sun9-north.userapi.com/sun9-84/s/v1/ig2/rSPNiHxz6Dop96oQdHYfZKSffZLyDGdOSvayba478Kg4G9tIXHA9ksB04f2p5fhrJEygVhkQlXH19AH53gFMtudv.jpg?size=604x453&quality=95&type=album'},\n",
       "     {'height': 605,\n",
       "      'type': 'y',\n",
       "      'width': 807,\n",
       "      'url': 'https://sun9-north.userapi.com/sun9-84/s/v1/ig2/D-Ul8DX5chKKTLbLL1PBYkR34a5MdrMfQmPOueLaaxZDd7eN9efSOHRc_N_nQ0-TfzqEfUCicl_DbD6gZzTQnGF_.jpg?size=807x605&quality=95&type=album'},\n",
       "     {'height': 960,\n",
       "      'type': 'z',\n",
       "      'width': 1280,\n",
       "      'url': 'https://sun9-north.userapi.com/sun9-84/s/v1/ig2/s2LY59rlKGEHMwhNsDhwcrda8WLXPqlqs4mj-4-gSkZpTtyfsCYR71FOsz8Sy-32l75MT5IOOuC4Go78ka00D8Qr.jpg?size=1280x960&quality=95&type=album'},\n",
       "     {'height': 97,\n",
       "      'type': 'o',\n",
       "      'width': 130,\n",
       "      'url': 'https://sun9-north.userapi.com/sun9-84/s/v1/ig2/NKzzixwzdKw4vZWx8zoW-2ujYCvT6nxb2X0TbKJ-kh4b8opYg_IfBoXtKwXSjKlXt37K9VWFl5eeZrdew7wpGZeD.jpg?size=130x97&quality=95&type=album'},\n",
       "     {'height': 150,\n",
       "      'type': 'p',\n",
       "      'width': 200,\n",
       "      'url': 'https://sun9-north.userapi.com/sun9-84/s/v1/ig2/svM3Ou_yMrAcXMJzykHCw3dNFE4q_JJ7S_RPMl9rBV1N2YGCgisk0hYLT7FhlwmtrhUV9_dauNGUXsFjkKILGhFA.jpg?size=200x150&quality=95&type=album'},\n",
       "     {'height': 240,\n",
       "      'type': 'q',\n",
       "      'width': 320,\n",
       "      'url': 'https://sun9-north.userapi.com/sun9-84/s/v1/ig2/zphnSOCPSbAt9tinWGqzPOzejV6aMrAwn9nm8uyPzK8FLCr4G9eDVPVbMCBaFLo76E4p82GZBgtPAuzibGnzxhZo.jpg?size=320x240&quality=95&type=album'},\n",
       "     {'height': 382,\n",
       "      'type': 'r',\n",
       "      'width': 510,\n",
       "      'url': 'https://sun9-north.userapi.com/sun9-84/s/v1/ig2/lNl-MJlnUm9r3N6-JDd_XN1R32-7zDCf6xUwNVbUludMbksad2cA0fk6LkNVkGDVW0Q6ERysq7j3oeKBez3LzlOb.jpg?size=510x382&quality=95&type=album'}],\n",
       "    'text': '',\n",
       "    'user_id': 100,\n",
       "    'has_tags': False}},\n",
       "  {'type': 'photo',\n",
       "   'photo': {'album_id': -7,\n",
       "    'date': 1675172057,\n",
       "    'id': 457243963,\n",
       "    'owner_id': -38936316,\n",
       "    'access_key': 'b58d2c054a3287e953',\n",
       "    'sizes': [{'height': 56,\n",
       "      'type': 's',\n",
       "      'width': 75,\n",
       "      'url': 'https://sun9-north.userapi.com/sun9-81/s/v1/ig2/mCGgmNHJldk3VXno8hAx8GCf4qVHQPn4FJXdwhdKrfRuUGvCe9PN-MnMiqZS2tWYvtsfhovxdBs_QG5tP5e5asq4.jpg?size=75x56&quality=95&type=album'},\n",
       "     {'height': 97,\n",
       "      'type': 'm',\n",
       "      'width': 130,\n",
       "      'url': 'https://sun9-north.userapi.com/sun9-81/s/v1/ig2/05pDXWu8eC6pGI67rYrx_NjI7g3-1k8ks5ABN16deRPeVrdhyW50ehherFM92ZRgl58YhiQT5fVGImPbNbGrgZEJ.jpg?size=130x97&quality=95&type=album'},\n",
       "     {'height': 453,\n",
       "      'type': 'x',\n",
       "      'width': 604,\n",
       "      'url': 'https://sun9-north.userapi.com/sun9-81/s/v1/ig2/eLmN-ivBPC-aKB6GmxQjMlSCGxuWJGbTVHJ_fvvwMozWCR3dfot4XCu-J8LAFdwRao6fBbUIUGnAYHrOFwrGY25k.jpg?size=604x453&quality=95&type=album'},\n",
       "     {'height': 605,\n",
       "      'type': 'y',\n",
       "      'width': 807,\n",
       "      'url': 'https://sun9-north.userapi.com/sun9-81/s/v1/ig2/_ZGKb21M83Q7nSOutgAqZkqiWqMFBQLk1ZTFxiRBti6Uvj0f4QhHwV1LkylqdL-eqXH_Xv3elHFIgHqkK_qgra6I.jpg?size=807x605&quality=95&type=album'},\n",
       "     {'height': 960,\n",
       "      'type': 'z',\n",
       "      'width': 1280,\n",
       "      'url': 'https://sun9-north.userapi.com/sun9-81/s/v1/ig2/uImf-xeI5gZTsPy3AKaq7Axdq14EV-izdD34VwKeRqozkKhPxx9yZjR9UFKm79Os1StesTQNowEZ0WNOZYHYOUhZ.jpg?size=1280x960&quality=95&type=album'},\n",
       "     {'height': 97,\n",
       "      'type': 'o',\n",
       "      'width': 130,\n",
       "      'url': 'https://sun9-north.userapi.com/sun9-81/s/v1/ig2/05pDXWu8eC6pGI67rYrx_NjI7g3-1k8ks5ABN16deRPeVrdhyW50ehherFM92ZRgl58YhiQT5fVGImPbNbGrgZEJ.jpg?size=130x97&quality=95&type=album'},\n",
       "     {'height': 150,\n",
       "      'type': 'p',\n",
       "      'width': 200,\n",
       "      'url': 'https://sun9-north.userapi.com/sun9-81/s/v1/ig2/2HeC_t4ml78lZy5B2P1Q5CHDLLbdIgjHzY8pNSTtk7H5IVXB-gyeobBLB_b6c6ZoXKLp2ETUnyc6P-5mlH_hX9SL.jpg?size=200x150&quality=95&type=album'},\n",
       "     {'height': 240,\n",
       "      'type': 'q',\n",
       "      'width': 320,\n",
       "      'url': 'https://sun9-north.userapi.com/sun9-81/s/v1/ig2/_d_EXl1nNLoGYIsT5RyMcR7ofvPIKfPrNh5O62gcFGSf1wLW52xbKIvoSgSdOZvbt-fKu6veaZnT9kktVVeD_M6t.jpg?size=320x240&quality=95&type=album'},\n",
       "     {'height': 382,\n",
       "      'type': 'r',\n",
       "      'width': 510,\n",
       "      'url': 'https://sun9-north.userapi.com/sun9-81/s/v1/ig2/3I9GQXIWHd2pyBy_T9gl9AUICSpoU0dAhGKvJr5F2RzsPb1C8xrtS4EKh8sCxKMWay0uGOnOuc6wXuVPV0CV1Fjp.jpg?size=510x382&quality=95&type=album'}],\n",
       "    'text': '',\n",
       "    'user_id': 100,\n",
       "    'has_tags': False}}],\n",
       " 'is_favorite': False,\n",
       " 'likes': {'can_like': 1, 'count': 3, 'user_likes': 0, 'can_publish': 1},\n",
       " 'post_source': {'platform': 'iphone', 'type': 'api'},\n",
       " 'post_type': 'post',\n",
       " 'reposts': {'count': 0, 'user_reposted': 0},\n",
       " 'text': 'Фестиваль фестивалем, а новые трассы по расписанию! 🥳\\n\\nНаши подготовщики добавили еще трасс на некоторые плоскости и полностью обновили одну стенку. \\n\\n💥 13 новых трасс ждут вас: \\n\\n2*5\\n3*6а/а+\\n3*6b\\n4*6c\\n1*7a\\n\\nДо встречи в Рок Зоне! 🤘',\n",
       " 'views': {'count': 42},\n",
       " 'hash': 'z0ich7XdEWLr1uU3qv-dulyxPrA'}"
      ]
     },
     "execution_count": 13,
     "metadata": {},
     "output_type": "execute_result"
    }
   ],
   "source": [
    "i = items_wall[0]\n",
    "i"
   ]
  },
  {
   "cell_type": "markdown",
   "metadata": {},
   "source": [
    "### Задача 1\n",
    "\n",
    "Извлеките из элемента `i` следующие компоненты:\n",
    "\n",
    "* id поста;\n",
    "* дата поста;\n",
    "* текст поста;\n",
    "* число лайков;\n",
    "* число репостов;\n",
    "* число просмотров;\n",
    "* число комментариев."
   ]
  },
  {
   "cell_type": "code",
   "execution_count": 16,
   "metadata": {},
   "outputs": [
    {
     "name": "stdout",
     "output_type": "stream",
     "text": [
      "3873 1675172057 Фестиваль фестивалем, а новые трассы по расписанию! 🥳\n",
      "\n",
      "Наши подготовщики добавили еще трасс на некоторые плоскости и полностью обновили одну стенку. \n",
      "\n",
      "💥 13 новых трасс ждут вас: \n",
      "\n",
      "2*5\n",
      "3*6а/а+\n",
      "3*6b\n",
      "4*6c\n",
      "1*7a\n",
      "\n",
      "До встречи в Рок Зоне! 🤘\n",
      "3 0 42 0\n"
     ]
    }
   ],
   "source": [
    "### YOUR CODE HERE ###\n",
    "print(i[\"id\"], i[\"date\"], i[\"text\"])\n",
    "print(i[\"likes\"][\"count\"], i[\"reposts\"][\"count\"], \n",
    "     i[\"views\"][\"count\"], i[\"comments\"][\"count\"])"
   ]
  },
  {
   "cell_type": "markdown",
   "metadata": {},
   "source": [
    "### Задача 2\n",
    "\n",
    "Изучить один пост и понять, что нам от него нужно, это хорошо, но, конечно, мы захотим выгрузить все посты сразу, а уже потом разобраться, какую информацию о них нам оставить. Ограничения данного API таковы, что за один раз мы можем выгрузить только 100 постов. Хорошие новости: каждый раз при выгрузке мы можем начинать с того поста, на котором закончили, то есть сначала выгрузить первые 100 постов, потом – следующие 100 постов, и так до тех пор, пока не заполучим все. \n",
    "\n",
    "Общее число постов сохранено в `nposts`. Посчитайте, сколько раз нужно будет выполнить выгрузку по 100 постов, чтобы собрать все тексты, и сохраните его в переменную `iterate`."
   ]
  },
  {
   "cell_type": "code",
   "execution_count": 20,
   "metadata": {},
   "outputs": [],
   "source": [
    "iterate = nposts // 100 + 1  # целочисленное деление + 1 "
   ]
  },
  {
   "cell_type": "markdown",
   "metadata": {},
   "source": [
    "### Задача 3\n",
    "\n",
    "Прочитайте в документации к API ВКонтакте про аргумент `offset` в методе `wall.get`. Используя полученную информацию и блоки кода ниже, выгрузите и сохраните в список `items_all` данные по всем постам на стене сообщества.\n",
    "\n",
    "**Подсказка:** чтобы расширять список правильным образом, используйте метод `.extend()`, а не `.append()`, он добавляет не один элемент, а сразу несколько."
   ]
  },
  {
   "cell_type": "code",
   "execution_count": 21,
   "metadata": {},
   "outputs": [],
   "source": [
    "params_wall_long = {\"access_token\" : token, \n",
    "              \"domain\" : domain, \n",
    "              \"count\" : 100,\n",
    "              \"v\" : v,\n",
    "              \"offset\" : 0}"
   ]
  },
  {
   "cell_type": "code",
   "execution_count": 22,
   "metadata": {},
   "outputs": [
    {
     "name": "stdout",
     "output_type": "stream",
     "text": [
      "0\n",
      "1\n",
      "2\n",
      "3\n",
      "4\n",
      "5\n",
      "6\n",
      "7\n",
      "8\n",
      "9\n",
      "10\n",
      "11\n",
      "12\n",
      "13\n",
      "14\n"
     ]
    }
   ],
   "source": [
    "items_all = []\n",
    "\n",
    "for i in range(iterate):\n",
    "    req_wall_long = requests.get(main_wall, params = params_wall_long)\n",
    "    json_wall_long = req_wall_long.json()\n",
    "    items_wall_long = json_wall_long['response']['items']\n",
    "    \n",
    "    # обновляем список items_all\n",
    "    # обновляем парметр offset - увеличиваем на 100\n",
    "    items_all.extend(items_wall_long)\n",
    "    params_wall_long[\"offset\"] = params_wall_long[\"offset\"] + 100\n",
    "    \n",
    "    \n",
    "    time.sleep(1.5)\n",
    "    print(i)"
   ]
  },
  {
   "cell_type": "markdown",
   "metadata": {},
   "source": [
    "Проверяем длину списка – все ли посты собраны:"
   ]
  },
  {
   "cell_type": "code",
   "execution_count": 23,
   "metadata": {},
   "outputs": [
    {
     "data": {
      "text/plain": [
       "1461"
      ]
     },
     "execution_count": 23,
     "metadata": {},
     "output_type": "execute_result"
    }
   ],
   "source": [
    "len(items_all)"
   ]
  },
  {
   "cell_type": "markdown",
   "metadata": {},
   "source": [
    "Не отбираем ничего на этом этапе, просто превращаем список словарей в датафрейм:"
   ]
  },
  {
   "cell_type": "code",
   "execution_count": 24,
   "metadata": {},
   "outputs": [
    {
     "data": {
      "text/html": [
       "<div>\n",
       "<style scoped>\n",
       "    .dataframe tbody tr th:only-of-type {\n",
       "        vertical-align: middle;\n",
       "    }\n",
       "\n",
       "    .dataframe tbody tr th {\n",
       "        vertical-align: top;\n",
       "    }\n",
       "\n",
       "    .dataframe thead th {\n",
       "        text-align: right;\n",
       "    }\n",
       "</style>\n",
       "<table border=\"1\" class=\"dataframe\">\n",
       "  <thead>\n",
       "    <tr style=\"text-align: right;\">\n",
       "      <th></th>\n",
       "      <th>id</th>\n",
       "      <th>from_id</th>\n",
       "      <th>owner_id</th>\n",
       "      <th>date</th>\n",
       "      <th>marked_as_ads</th>\n",
       "      <th>donut</th>\n",
       "      <th>comments</th>\n",
       "      <th>short_text_rate</th>\n",
       "      <th>carousel_offset</th>\n",
       "      <th>attachments</th>\n",
       "      <th>...</th>\n",
       "      <th>post_type</th>\n",
       "      <th>reposts</th>\n",
       "      <th>text</th>\n",
       "      <th>views</th>\n",
       "      <th>hash</th>\n",
       "      <th>edited</th>\n",
       "      <th>copy_history</th>\n",
       "      <th>geo</th>\n",
       "      <th>signer_id</th>\n",
       "      <th>zoom_text</th>\n",
       "    </tr>\n",
       "  </thead>\n",
       "  <tbody>\n",
       "    <tr>\n",
       "      <th>0</th>\n",
       "      <td>3873</td>\n",
       "      <td>-38936316</td>\n",
       "      <td>-38936316</td>\n",
       "      <td>1675172057</td>\n",
       "      <td>0</td>\n",
       "      <td>{'is_donut': False}</td>\n",
       "      <td>{'can_post': 1, 'count': 0, 'groups_can_post':...</td>\n",
       "      <td>0.8</td>\n",
       "      <td>0.0</td>\n",
       "      <td>[{'type': 'photo', 'photo': {'album_id': -7, '...</td>\n",
       "      <td>...</td>\n",
       "      <td>post</td>\n",
       "      <td>{'count': 0, 'user_reposted': 0}</td>\n",
       "      <td>Фестиваль фестивалем, а новые трассы по распис...</td>\n",
       "      <td>{'count': 63}</td>\n",
       "      <td>z0ich7XdEWLr1uU3qv-dulyxPrA</td>\n",
       "      <td>NaN</td>\n",
       "      <td>NaN</td>\n",
       "      <td>NaN</td>\n",
       "      <td>NaN</td>\n",
       "      <td>NaN</td>\n",
       "    </tr>\n",
       "    <tr>\n",
       "      <th>1</th>\n",
       "      <td>3872</td>\n",
       "      <td>-38936316</td>\n",
       "      <td>-38936316</td>\n",
       "      <td>1675080565</td>\n",
       "      <td>0</td>\n",
       "      <td>{'is_donut': False}</td>\n",
       "      <td>{'can_post': 1, 'count': 0, 'groups_can_post':...</td>\n",
       "      <td>0.8</td>\n",
       "      <td>NaN</td>\n",
       "      <td>[{'type': 'video', 'video': {'can_comment': 1,...</td>\n",
       "      <td>...</td>\n",
       "      <td>post</td>\n",
       "      <td>{'count': 7, 'user_reposted': 0}</td>\n",
       "      <td></td>\n",
       "      <td>{'count': 477}</td>\n",
       "      <td>opsIVrtiyrkEJqmeyBi4ZmZmQhg</td>\n",
       "      <td>NaN</td>\n",
       "      <td>NaN</td>\n",
       "      <td>NaN</td>\n",
       "      <td>NaN</td>\n",
       "      <td>NaN</td>\n",
       "    </tr>\n",
       "    <tr>\n",
       "      <th>2</th>\n",
       "      <td>3871</td>\n",
       "      <td>-38936316</td>\n",
       "      <td>-38936316</td>\n",
       "      <td>1675014135</td>\n",
       "      <td>0</td>\n",
       "      <td>{'is_donut': False}</td>\n",
       "      <td>{'can_post': 1, 'count': 0, 'groups_can_post':...</td>\n",
       "      <td>0.8</td>\n",
       "      <td>0.0</td>\n",
       "      <td>[{'type': 'photo', 'photo': {'album_id': -7, '...</td>\n",
       "      <td>...</td>\n",
       "      <td>post</td>\n",
       "      <td>{'count': 3, 'user_reposted': 0}</td>\n",
       "      <td>Наш фестиваль Boulderhouse фест подошел к конц...</td>\n",
       "      <td>{'count': 585}</td>\n",
       "      <td>27H3CXvczTvf3Y7xVGlfG6mj3Ng</td>\n",
       "      <td>NaN</td>\n",
       "      <td>NaN</td>\n",
       "      <td>NaN</td>\n",
       "      <td>NaN</td>\n",
       "      <td>NaN</td>\n",
       "    </tr>\n",
       "    <tr>\n",
       "      <th>3</th>\n",
       "      <td>3870</td>\n",
       "      <td>-38936316</td>\n",
       "      <td>-38936316</td>\n",
       "      <td>1674989204</td>\n",
       "      <td>0</td>\n",
       "      <td>{'is_donut': False}</td>\n",
       "      <td>{'can_post': 1, 'count': 0, 'groups_can_post':...</td>\n",
       "      <td>0.8</td>\n",
       "      <td>NaN</td>\n",
       "      <td>[{'type': 'photo', 'photo': {'album_id': -7, '...</td>\n",
       "      <td>...</td>\n",
       "      <td>post</td>\n",
       "      <td>{'count': 0, 'user_reposted': 0}</td>\n",
       "      <td>❓ Почему не улучшается растяжка\\n\\nВы делаете ...</td>\n",
       "      <td>{'count': 812}</td>\n",
       "      <td>wPiFLkmrd3H-_iKtkWjCcS9nEuM</td>\n",
       "      <td>NaN</td>\n",
       "      <td>NaN</td>\n",
       "      <td>NaN</td>\n",
       "      <td>NaN</td>\n",
       "      <td>NaN</td>\n",
       "    </tr>\n",
       "    <tr>\n",
       "      <th>4</th>\n",
       "      <td>3868</td>\n",
       "      <td>-38936316</td>\n",
       "      <td>-38936316</td>\n",
       "      <td>1674902631</td>\n",
       "      <td>0</td>\n",
       "      <td>{'is_donut': False}</td>\n",
       "      <td>{'can_post': 1, 'count': 1, 'groups_can_post':...</td>\n",
       "      <td>0.8</td>\n",
       "      <td>NaN</td>\n",
       "      <td>[{'type': 'video', 'video': {'can_comment': 1,...</td>\n",
       "      <td>...</td>\n",
       "      <td>post</td>\n",
       "      <td>{'count': 3, 'user_reposted': 0}</td>\n",
       "      <td></td>\n",
       "      <td>{'count': 663}</td>\n",
       "      <td>KMvQ4AZUVjJylU2oL_3YPOofeUs</td>\n",
       "      <td>NaN</td>\n",
       "      <td>NaN</td>\n",
       "      <td>NaN</td>\n",
       "      <td>NaN</td>\n",
       "      <td>NaN</td>\n",
       "    </tr>\n",
       "    <tr>\n",
       "      <th>5</th>\n",
       "      <td>3867</td>\n",
       "      <td>-38936316</td>\n",
       "      <td>-38936316</td>\n",
       "      <td>1674744304</td>\n",
       "      <td>0</td>\n",
       "      <td>{'is_donut': False}</td>\n",
       "      <td>{'can_post': 1, 'count': 0, 'groups_can_post':...</td>\n",
       "      <td>0.8</td>\n",
       "      <td>NaN</td>\n",
       "      <td>[{'type': 'video', 'video': {'can_comment': 1,...</td>\n",
       "      <td>...</td>\n",
       "      <td>post</td>\n",
       "      <td>{'count': 1, 'user_reposted': 0}</td>\n",
       "      <td></td>\n",
       "      <td>{'count': 559}</td>\n",
       "      <td>ewg73eWZ4BOWwOSl1RSenFXuqmI</td>\n",
       "      <td>NaN</td>\n",
       "      <td>NaN</td>\n",
       "      <td>NaN</td>\n",
       "      <td>NaN</td>\n",
       "      <td>NaN</td>\n",
       "    </tr>\n",
       "    <tr>\n",
       "      <th>6</th>\n",
       "      <td>3866</td>\n",
       "      <td>-38936316</td>\n",
       "      <td>-38936316</td>\n",
       "      <td>1674579500</td>\n",
       "      <td>0</td>\n",
       "      <td>{'is_donut': False}</td>\n",
       "      <td>{'can_post': 1, 'count': 0, 'groups_can_post':...</td>\n",
       "      <td>0.8</td>\n",
       "      <td>NaN</td>\n",
       "      <td>[{'type': 'photo', 'photo': {'album_id': -7, '...</td>\n",
       "      <td>...</td>\n",
       "      <td>post</td>\n",
       "      <td>{'count': 5, 'user_reposted': 0}</td>\n",
       "      <td>❓ Как достигать целей\\n\\nБывало ли с вами тако...</td>\n",
       "      <td>{'count': 1706}</td>\n",
       "      <td>X_KjtuKIHRDsk2YE7vWoEIXI1KI</td>\n",
       "      <td>NaN</td>\n",
       "      <td>NaN</td>\n",
       "      <td>NaN</td>\n",
       "      <td>NaN</td>\n",
       "      <td>NaN</td>\n",
       "    </tr>\n",
       "    <tr>\n",
       "      <th>7</th>\n",
       "      <td>3865</td>\n",
       "      <td>-38936316</td>\n",
       "      <td>-38936316</td>\n",
       "      <td>1674543053</td>\n",
       "      <td>0</td>\n",
       "      <td>{'is_donut': False}</td>\n",
       "      <td>{'can_post': 1, 'count': 0, 'groups_can_post':...</td>\n",
       "      <td>0.8</td>\n",
       "      <td>NaN</td>\n",
       "      <td>[{'type': 'video', 'video': {'can_comment': 1,...</td>\n",
       "      <td>...</td>\n",
       "      <td>post</td>\n",
       "      <td>{'count': 0, 'user_reposted': 0}</td>\n",
       "      <td></td>\n",
       "      <td>{'count': 493}</td>\n",
       "      <td>4ZffB2U134MuuSAJ2s3_NY_WquI</td>\n",
       "      <td>NaN</td>\n",
       "      <td>NaN</td>\n",
       "      <td>NaN</td>\n",
       "      <td>NaN</td>\n",
       "      <td>NaN</td>\n",
       "    </tr>\n",
       "    <tr>\n",
       "      <th>8</th>\n",
       "      <td>3864</td>\n",
       "      <td>-38936316</td>\n",
       "      <td>-38936316</td>\n",
       "      <td>1674487494</td>\n",
       "      <td>0</td>\n",
       "      <td>{'is_donut': False}</td>\n",
       "      <td>{'can_post': 1, 'count': 0, 'groups_can_post':...</td>\n",
       "      <td>0.8</td>\n",
       "      <td>0.0</td>\n",
       "      <td>[{'type': 'photo', 'photo': {'album_id': -7, '...</td>\n",
       "      <td>...</td>\n",
       "      <td>post</td>\n",
       "      <td>{'count': 0, 'user_reposted': 0}</td>\n",
       "      <td>🔥 Наш недельный фестиваль стартовал! Первая па...</td>\n",
       "      <td>{'count': 671}</td>\n",
       "      <td>pKejCSlWU23L8iaoBiHGLN26N5g</td>\n",
       "      <td>NaN</td>\n",
       "      <td>NaN</td>\n",
       "      <td>NaN</td>\n",
       "      <td>NaN</td>\n",
       "      <td>NaN</td>\n",
       "    </tr>\n",
       "    <tr>\n",
       "      <th>9</th>\n",
       "      <td>3863</td>\n",
       "      <td>-38936316</td>\n",
       "      <td>-38936316</td>\n",
       "      <td>1674254432</td>\n",
       "      <td>0</td>\n",
       "      <td>{'is_donut': False}</td>\n",
       "      <td>{'can_post': 1, 'count': 0, 'groups_can_post':...</td>\n",
       "      <td>0.8</td>\n",
       "      <td>NaN</td>\n",
       "      <td>[{'type': 'doc', 'doc': {'id': 655860336, 'own...</td>\n",
       "      <td>...</td>\n",
       "      <td>post</td>\n",
       "      <td>{'count': 1, 'user_reposted': 0}</td>\n",
       "      <td>Положение фестиваля BOULDERHOUSE FEST.</td>\n",
       "      <td>{'count': 580}</td>\n",
       "      <td>LxnOku94afpcRK2YM7IvskMzL7Y</td>\n",
       "      <td>NaN</td>\n",
       "      <td>NaN</td>\n",
       "      <td>NaN</td>\n",
       "      <td>NaN</td>\n",
       "      <td>NaN</td>\n",
       "    </tr>\n",
       "  </tbody>\n",
       "</table>\n",
       "<p>10 rows × 23 columns</p>\n",
       "</div>"
      ],
      "text/plain": [
       "     id   from_id  owner_id        date  marked_as_ads                donut  \\\n",
       "0  3873 -38936316 -38936316  1675172057              0  {'is_donut': False}   \n",
       "1  3872 -38936316 -38936316  1675080565              0  {'is_donut': False}   \n",
       "2  3871 -38936316 -38936316  1675014135              0  {'is_donut': False}   \n",
       "3  3870 -38936316 -38936316  1674989204              0  {'is_donut': False}   \n",
       "4  3868 -38936316 -38936316  1674902631              0  {'is_donut': False}   \n",
       "5  3867 -38936316 -38936316  1674744304              0  {'is_donut': False}   \n",
       "6  3866 -38936316 -38936316  1674579500              0  {'is_donut': False}   \n",
       "7  3865 -38936316 -38936316  1674543053              0  {'is_donut': False}   \n",
       "8  3864 -38936316 -38936316  1674487494              0  {'is_donut': False}   \n",
       "9  3863 -38936316 -38936316  1674254432              0  {'is_donut': False}   \n",
       "\n",
       "                                            comments  short_text_rate  \\\n",
       "0  {'can_post': 1, 'count': 0, 'groups_can_post':...              0.8   \n",
       "1  {'can_post': 1, 'count': 0, 'groups_can_post':...              0.8   \n",
       "2  {'can_post': 1, 'count': 0, 'groups_can_post':...              0.8   \n",
       "3  {'can_post': 1, 'count': 0, 'groups_can_post':...              0.8   \n",
       "4  {'can_post': 1, 'count': 1, 'groups_can_post':...              0.8   \n",
       "5  {'can_post': 1, 'count': 0, 'groups_can_post':...              0.8   \n",
       "6  {'can_post': 1, 'count': 0, 'groups_can_post':...              0.8   \n",
       "7  {'can_post': 1, 'count': 0, 'groups_can_post':...              0.8   \n",
       "8  {'can_post': 1, 'count': 0, 'groups_can_post':...              0.8   \n",
       "9  {'can_post': 1, 'count': 0, 'groups_can_post':...              0.8   \n",
       "\n",
       "   carousel_offset                                        attachments  ...  \\\n",
       "0              0.0  [{'type': 'photo', 'photo': {'album_id': -7, '...  ...   \n",
       "1              NaN  [{'type': 'video', 'video': {'can_comment': 1,...  ...   \n",
       "2              0.0  [{'type': 'photo', 'photo': {'album_id': -7, '...  ...   \n",
       "3              NaN  [{'type': 'photo', 'photo': {'album_id': -7, '...  ...   \n",
       "4              NaN  [{'type': 'video', 'video': {'can_comment': 1,...  ...   \n",
       "5              NaN  [{'type': 'video', 'video': {'can_comment': 1,...  ...   \n",
       "6              NaN  [{'type': 'photo', 'photo': {'album_id': -7, '...  ...   \n",
       "7              NaN  [{'type': 'video', 'video': {'can_comment': 1,...  ...   \n",
       "8              0.0  [{'type': 'photo', 'photo': {'album_id': -7, '...  ...   \n",
       "9              NaN  [{'type': 'doc', 'doc': {'id': 655860336, 'own...  ...   \n",
       "\n",
       "   post_type                           reposts  \\\n",
       "0       post  {'count': 0, 'user_reposted': 0}   \n",
       "1       post  {'count': 7, 'user_reposted': 0}   \n",
       "2       post  {'count': 3, 'user_reposted': 0}   \n",
       "3       post  {'count': 0, 'user_reposted': 0}   \n",
       "4       post  {'count': 3, 'user_reposted': 0}   \n",
       "5       post  {'count': 1, 'user_reposted': 0}   \n",
       "6       post  {'count': 5, 'user_reposted': 0}   \n",
       "7       post  {'count': 0, 'user_reposted': 0}   \n",
       "8       post  {'count': 0, 'user_reposted': 0}   \n",
       "9       post  {'count': 1, 'user_reposted': 0}   \n",
       "\n",
       "                                                text            views  \\\n",
       "0  Фестиваль фестивалем, а новые трассы по распис...    {'count': 63}   \n",
       "1                                                      {'count': 477}   \n",
       "2  Наш фестиваль Boulderhouse фест подошел к конц...   {'count': 585}   \n",
       "3  ❓ Почему не улучшается растяжка\\n\\nВы делаете ...   {'count': 812}   \n",
       "4                                                      {'count': 663}   \n",
       "5                                                      {'count': 559}   \n",
       "6  ❓ Как достигать целей\\n\\nБывало ли с вами тако...  {'count': 1706}   \n",
       "7                                                      {'count': 493}   \n",
       "8  🔥 Наш недельный фестиваль стартовал! Первая па...   {'count': 671}   \n",
       "9             Положение фестиваля BOULDERHOUSE FEST.   {'count': 580}   \n",
       "\n",
       "                          hash edited copy_history  geo  signer_id zoom_text  \n",
       "0  z0ich7XdEWLr1uU3qv-dulyxPrA    NaN          NaN  NaN        NaN       NaN  \n",
       "1  opsIVrtiyrkEJqmeyBi4ZmZmQhg    NaN          NaN  NaN        NaN       NaN  \n",
       "2  27H3CXvczTvf3Y7xVGlfG6mj3Ng    NaN          NaN  NaN        NaN       NaN  \n",
       "3  wPiFLkmrd3H-_iKtkWjCcS9nEuM    NaN          NaN  NaN        NaN       NaN  \n",
       "4  KMvQ4AZUVjJylU2oL_3YPOofeUs    NaN          NaN  NaN        NaN       NaN  \n",
       "5  ewg73eWZ4BOWwOSl1RSenFXuqmI    NaN          NaN  NaN        NaN       NaN  \n",
       "6  X_KjtuKIHRDsk2YE7vWoEIXI1KI    NaN          NaN  NaN        NaN       NaN  \n",
       "7  4ZffB2U134MuuSAJ2s3_NY_WquI    NaN          NaN  NaN        NaN       NaN  \n",
       "8  pKejCSlWU23L8iaoBiHGLN26N5g    NaN          NaN  NaN        NaN       NaN  \n",
       "9  LxnOku94afpcRK2YM7IvskMzL7Y    NaN          NaN  NaN        NaN       NaN  \n",
       "\n",
       "[10 rows x 23 columns]"
      ]
     },
     "execution_count": 24,
     "metadata": {},
     "output_type": "execute_result"
    }
   ],
   "source": [
    "df = pd.DataFrame(items_all)\n",
    "df.head(10)"
   ]
  },
  {
   "cell_type": "markdown",
   "metadata": {},
   "source": [
    "### Задача 4\n",
    "\n",
    "Создайте на основе датафрейма `df` новый датафрейм `small` со следующими столбцами:\n",
    "\n",
    "* id поста (`id`);\n",
    "* дата поста (`date`);\n",
    "* текст поста (`text`);\n",
    "* число лайков (`nlikes`);\n",
    "* число просмотров (`nviews`);\n",
    "* число комментариев (`ncomments`).\n",
    "\n",
    "**Подсказка:** отберите сначала все столбцы с нужной информацией, напишите функцию для извлечения только числа лайков/просмотров/комментариев и примените её, удалите лишние столбцы."
   ]
  },
  {
   "cell_type": "code",
   "execution_count": 30,
   "metadata": {},
   "outputs": [],
   "source": [
    "# выбираем нужные столбцы\n",
    "small = df[[\"id\", \"date\", \"text\", \"likes\", \"reposts\", \"comments\"]]"
   ]
  },
  {
   "cell_type": "code",
   "execution_count": 31,
   "metadata": {},
   "outputs": [
    {
     "data": {
      "text/plain": [
       "{'can_like': 1, 'count': 3, 'user_likes': 0, 'can_publish': 1}"
      ]
     },
     "execution_count": 31,
     "metadata": {},
     "output_type": "execute_result"
    }
   ],
   "source": [
    "# нужно научиться работать с ячейками такого вида\n",
    "small[\"likes\"][0]"
   ]
  },
  {
   "cell_type": "code",
   "execution_count": 32,
   "metadata": {},
   "outputs": [
    {
     "name": "stderr",
     "output_type": "stream",
     "text": [
      "<ipython-input-32-1d647d8670ed>:1: SettingWithCopyWarning: \n",
      "A value is trying to be set on a copy of a slice from a DataFrame.\n",
      "Try using .loc[row_indexer,col_indexer] = value instead\n",
      "\n",
      "See the caveats in the documentation: https://pandas.pydata.org/pandas-docs/stable/user_guide/indexing.html#returning-a-view-versus-a-copy\n",
      "  small[\"nlikes\"] = small[\"likes\"].apply(lambda x: x[\"count\"])\n",
      "<ipython-input-32-1d647d8670ed>:2: SettingWithCopyWarning: \n",
      "A value is trying to be set on a copy of a slice from a DataFrame.\n",
      "Try using .loc[row_indexer,col_indexer] = value instead\n",
      "\n",
      "See the caveats in the documentation: https://pandas.pydata.org/pandas-docs/stable/user_guide/indexing.html#returning-a-view-versus-a-copy\n",
      "  small[\"nreposts\"] = small[\"reposts\"].apply(lambda x: x[\"count\"])\n",
      "<ipython-input-32-1d647d8670ed>:3: SettingWithCopyWarning: \n",
      "A value is trying to be set on a copy of a slice from a DataFrame.\n",
      "Try using .loc[row_indexer,col_indexer] = value instead\n",
      "\n",
      "See the caveats in the documentation: https://pandas.pydata.org/pandas-docs/stable/user_guide/indexing.html#returning-a-view-versus-a-copy\n",
      "  small[\"ncomments\"] = small[\"comments\"].apply(lambda x: x[\"count\"])\n"
     ]
    }
   ],
   "source": [
    "# пишем lambda-функцию, которая принимает на вход ячейку (x)\n",
    "# и забирает оттуда значение по ключу count\n",
    "\n",
    "small[\"nlikes\"] = small[\"likes\"].apply(lambda x: x[\"count\"])\n",
    "small[\"nreposts\"] = small[\"reposts\"].apply(lambda x: x[\"count\"])\n",
    "small[\"ncomments\"] = small[\"comments\"].apply(lambda x: x[\"count\"])"
   ]
  },
  {
   "cell_type": "code",
   "execution_count": 35,
   "metadata": {},
   "outputs": [
    {
     "name": "stderr",
     "output_type": "stream",
     "text": [
      "D:\\Anaconda3\\lib\\site-packages\\pandas\\core\\frame.py:3990: SettingWithCopyWarning: \n",
      "A value is trying to be set on a copy of a slice from a DataFrame\n",
      "\n",
      "See the caveats in the documentation: https://pandas.pydata.org/pandas-docs/stable/user_guide/indexing.html#returning-a-view-versus-a-copy\n",
      "  return super().drop(\n"
     ]
    }
   ],
   "source": [
    "# удаляем лишние столбцы\n",
    "# те, откуда извлекли count, больше не нужны\n",
    "# inplace = True: сохраняем изменения сразу в small\n",
    "\n",
    "small.drop(columns = [\"reposts\", \"comments\", \"likes\"], inplace =True)"
   ]
  },
  {
   "cell_type": "code",
   "execution_count": 36,
   "metadata": {},
   "outputs": [
    {
     "data": {
      "text/html": [
       "<div>\n",
       "<style scoped>\n",
       "    .dataframe tbody tr th:only-of-type {\n",
       "        vertical-align: middle;\n",
       "    }\n",
       "\n",
       "    .dataframe tbody tr th {\n",
       "        vertical-align: top;\n",
       "    }\n",
       "\n",
       "    .dataframe thead th {\n",
       "        text-align: right;\n",
       "    }\n",
       "</style>\n",
       "<table border=\"1\" class=\"dataframe\">\n",
       "  <thead>\n",
       "    <tr style=\"text-align: right;\">\n",
       "      <th></th>\n",
       "      <th>id</th>\n",
       "      <th>date</th>\n",
       "      <th>text</th>\n",
       "      <th>nlikes</th>\n",
       "      <th>nreposts</th>\n",
       "      <th>ncomments</th>\n",
       "    </tr>\n",
       "  </thead>\n",
       "  <tbody>\n",
       "    <tr>\n",
       "      <th>0</th>\n",
       "      <td>3873</td>\n",
       "      <td>1675172057</td>\n",
       "      <td>Фестиваль фестивалем, а новые трассы по распис...</td>\n",
       "      <td>3</td>\n",
       "      <td>0</td>\n",
       "      <td>0</td>\n",
       "    </tr>\n",
       "    <tr>\n",
       "      <th>1</th>\n",
       "      <td>3872</td>\n",
       "      <td>1675080565</td>\n",
       "      <td></td>\n",
       "      <td>27</td>\n",
       "      <td>7</td>\n",
       "      <td>0</td>\n",
       "    </tr>\n",
       "    <tr>\n",
       "      <th>2</th>\n",
       "      <td>3871</td>\n",
       "      <td>1675014135</td>\n",
       "      <td>Наш фестиваль Boulderhouse фест подошел к конц...</td>\n",
       "      <td>14</td>\n",
       "      <td>3</td>\n",
       "      <td>0</td>\n",
       "    </tr>\n",
       "    <tr>\n",
       "      <th>3</th>\n",
       "      <td>3870</td>\n",
       "      <td>1674989204</td>\n",
       "      <td>❓ Почему не улучшается растяжка\\n\\nВы делаете ...</td>\n",
       "      <td>10</td>\n",
       "      <td>0</td>\n",
       "      <td>0</td>\n",
       "    </tr>\n",
       "    <tr>\n",
       "      <th>4</th>\n",
       "      <td>3868</td>\n",
       "      <td>1674902631</td>\n",
       "      <td></td>\n",
       "      <td>27</td>\n",
       "      <td>3</td>\n",
       "      <td>1</td>\n",
       "    </tr>\n",
       "  </tbody>\n",
       "</table>\n",
       "</div>"
      ],
      "text/plain": [
       "     id        date                                               text  \\\n",
       "0  3873  1675172057  Фестиваль фестивалем, а новые трассы по распис...   \n",
       "1  3872  1675080565                                                      \n",
       "2  3871  1675014135  Наш фестиваль Boulderhouse фест подошел к конц...   \n",
       "3  3870  1674989204  ❓ Почему не улучшается растяжка\\n\\nВы делаете ...   \n",
       "4  3868  1674902631                                                      \n",
       "\n",
       "   nlikes  nreposts  ncomments  \n",
       "0       3         0          0  \n",
       "1      27         7          0  \n",
       "2      14         3          0  \n",
       "3      10         0          0  \n",
       "4      27         3          1  "
      ]
     },
     "execution_count": 36,
     "metadata": {},
     "output_type": "execute_result"
    }
   ],
   "source": [
    "small.head()"
   ]
  },
  {
   "cell_type": "markdown",
   "metadata": {},
   "source": [
    "### Задача 5\n",
    "\n",
    "Выберите только те строки в полученном датафрейме, которые соответствуют постам с числом комментариев больше 0, и сохраните их в датафрейм `with_comm`."
   ]
  },
  {
   "cell_type": "code",
   "execution_count": 41,
   "metadata": {},
   "outputs": [
    {
     "data": {
      "text/plain": [
       "(481, 6)"
      ]
     },
     "execution_count": 41,
     "metadata": {},
     "output_type": "execute_result"
    }
   ],
   "source": [
    "with_comm = small[small[\"ncomments\"] > 0] \n",
    "with_comm.shape"
   ]
  },
  {
   "cell_type": "markdown",
   "metadata": {},
   "source": [
    "## Часть 2: собираем комментарии к постам"
   ]
  },
  {
   "cell_type": "markdown",
   "metadata": {},
   "source": [
    "В целях экономии времени не будем брать весь датафрейм `with_comm`, для примера отберем первые 10 строк:"
   ]
  },
  {
   "cell_type": "code",
   "execution_count": 42,
   "metadata": {},
   "outputs": [],
   "source": [
    "with_comm10 = with_comm.head(10) "
   ]
  },
  {
   "cell_type": "markdown",
   "metadata": {},
   "source": [
    "Заберем id постов и преобразуем их в список:"
   ]
  },
  {
   "cell_type": "code",
   "execution_count": 43,
   "metadata": {},
   "outputs": [],
   "source": [
    "ids = list(with_comm10[\"id\"])"
   ]
  },
  {
   "cell_type": "markdown",
   "metadata": {},
   "source": [
    "Возьмем один id для примера и сформулируем запрос для получения комментариев к посту с этим id:"
   ]
  },
  {
   "cell_type": "code",
   "execution_count": 44,
   "metadata": {},
   "outputs": [],
   "source": [
    "i = 3782\n",
    "\n",
    "# метод wall.getComments\n",
    "# owner_id: id сообщества\n",
    "# post_id: id поста\n",
    "# v: версия API, все та же\n",
    "# access_token: токен доступа, все тот же\n",
    "# count: число комментариев, берем 100, max возможное за раз\n",
    "# thread_items_count: число ответов на комментарий, 10, max за раз\n",
    "\n",
    "main_comm = \"https://api.vk.com/method/wall.getComments\"\n",
    "params_comm = {\"owner_id\" : -38936316,\n",
    "              \"post_id\" : i,\n",
    "              \"v\" : v,\n",
    "              \"access_token\" : token,\n",
    "              \"count\" : 100, \n",
    "              \"thread_items_count\" : 10}"
   ]
  },
  {
   "cell_type": "markdown",
   "metadata": {},
   "source": [
    "Формулируем запрос, отправляем и смотрим на результат в виде словаря:"
   ]
  },
  {
   "cell_type": "code",
   "execution_count": 45,
   "metadata": {},
   "outputs": [
    {
     "data": {
      "text/plain": [
       "{'response': {'count': 4,\n",
       "  'items': [{'id': 3783,\n",
       "    'from_id': 527923327,\n",
       "    'date': 1669311085,\n",
       "    'text': 'Мотивация не нужна, нужна дисциплина.',\n",
       "    'post_id': 3782,\n",
       "    'owner_id': -38936316,\n",
       "    'parents_stack': [],\n",
       "    'thread': {'count': 1,\n",
       "     'items': [{'id': 3784,\n",
       "       'from_id': 2311030,\n",
       "       'date': 1669314785,\n",
       "       'text': '[id527923327|Николай], 👍',\n",
       "       'post_id': 3782,\n",
       "       'owner_id': -38936316,\n",
       "       'parents_stack': [3783],\n",
       "       'reply_to_user': 527923327,\n",
       "       'reply_to_comment': 3783}],\n",
       "     'can_post': True,\n",
       "     'show_reply_button': True,\n",
       "     'groups_can_post': True}},\n",
       "   {'id': 3785,\n",
       "    'from_id': 2847724,\n",
       "    'date': 1669373425,\n",
       "    'text': 'Мотивация тоже нужна)',\n",
       "    'post_id': 3782,\n",
       "    'owner_id': -38936316,\n",
       "    'parents_stack': [],\n",
       "    'thread': {'count': 1,\n",
       "     'items': [{'id': 3788,\n",
       "       'from_id': 527923327,\n",
       "       'date': 1669400413,\n",
       "       'text': '[id2847724|Татьяна], мотивация лишь временный фактор, дисциплина - вечна. Дисциплина делает твой сегодняшний день тяжелее, но завтрашний легче',\n",
       "       'post_id': 3782,\n",
       "       'owner_id': -38936316,\n",
       "       'parents_stack': [3785],\n",
       "       'reply_to_user': 2847724,\n",
       "       'reply_to_comment': 3785}],\n",
       "     'can_post': True,\n",
       "     'show_reply_button': True,\n",
       "     'groups_can_post': True}}],\n",
       "  'current_level_count': 2,\n",
       "  'can_post': True,\n",
       "  'show_reply_button': True,\n",
       "  'groups_can_post': True}}"
      ]
     },
     "execution_count": 45,
     "metadata": {},
     "output_type": "execute_result"
    }
   ],
   "source": [
    "req = requests.get(main_comm, params = params_comm)\n",
    "req.json() "
   ]
  },
  {
   "cell_type": "markdown",
   "metadata": {},
   "source": [
    "### Задача 6"
   ]
  },
  {
   "cell_type": "markdown",
   "metadata": {},
   "source": [
    "Давайте считать, что 100 самых новых комментариев и 10 ответов на них нам достаточно (если нет – аргумент `offset` есть, задача аналогична предыдущей по сбору постов). Повторите эту операцию выше для всех id в списке `ids` и сформируйте список с результатами. Преобразуйте результат в датафрейм `df_comm`. "
   ]
  },
  {
   "cell_type": "code",
   "execution_count": 46,
   "metadata": {},
   "outputs": [],
   "source": [
    "# по аналогии с циклом ранее, только ничего не увеличиваем\n",
    "# подставляем на место post_id значение i\n",
    "\n",
    "comments_all = []\n",
    "\n",
    "for i in ids:\n",
    "    params_comm = {\"owner_id\" : -38936316,\n",
    "              \"post_id\" : i,\n",
    "              \"v\" : v,\n",
    "              \"access_token\" : token,\n",
    "              \"count\" : 100, \n",
    "              \"thread_items_count\" : 10}\n",
    "    req = requests.get(main_comm, params = params_comm)\n",
    "    comm_json = req.json() \n",
    "    comm_list = comm_json[\"response\"][\"items\"]\n",
    "    comments_all.extend(comm_list)\n",
    "    time.sleep(1)"
   ]
  },
  {
   "cell_type": "code",
   "execution_count": 49,
   "metadata": {},
   "outputs": [],
   "source": [
    "df_comm = pd.DataFrame(comments_all)"
   ]
  },
  {
   "cell_type": "code",
   "execution_count": 51,
   "metadata": {},
   "outputs": [
    {
     "data": {
      "text/html": [
       "<div>\n",
       "<style scoped>\n",
       "    .dataframe tbody tr th:only-of-type {\n",
       "        vertical-align: middle;\n",
       "    }\n",
       "\n",
       "    .dataframe tbody tr th {\n",
       "        vertical-align: top;\n",
       "    }\n",
       "\n",
       "    .dataframe thead th {\n",
       "        text-align: right;\n",
       "    }\n",
       "</style>\n",
       "<table border=\"1\" class=\"dataframe\">\n",
       "  <thead>\n",
       "    <tr style=\"text-align: right;\">\n",
       "      <th></th>\n",
       "      <th>id</th>\n",
       "      <th>date</th>\n",
       "      <th>text</th>\n",
       "      <th>nlikes</th>\n",
       "      <th>nreposts</th>\n",
       "      <th>ncomments</th>\n",
       "    </tr>\n",
       "  </thead>\n",
       "  <tbody>\n",
       "    <tr>\n",
       "      <th>4</th>\n",
       "      <td>3868</td>\n",
       "      <td>1674902631</td>\n",
       "      <td></td>\n",
       "      <td>27</td>\n",
       "      <td>3</td>\n",
       "      <td>1</td>\n",
       "    </tr>\n",
       "    <tr>\n",
       "      <th>12</th>\n",
       "      <td>3858</td>\n",
       "      <td>1674146111</td>\n",
       "      <td></td>\n",
       "      <td>22</td>\n",
       "      <td>1</td>\n",
       "      <td>2</td>\n",
       "    </tr>\n",
       "  </tbody>\n",
       "</table>\n",
       "</div>"
      ],
      "text/plain": [
       "      id        date text  nlikes  nreposts  ncomments\n",
       "4   3868  1674902631           27         3          1\n",
       "12  3858  1674146111           22         1          2"
      ]
     },
     "execution_count": 51,
     "metadata": {},
     "output_type": "execute_result"
    }
   ],
   "source": [
    "# смотрим на названия столбцов\n",
    "# здесь id – id поста\n",
    "\n",
    "with_comm10.head(2)"
   ]
  },
  {
   "cell_type": "code",
   "execution_count": 52,
   "metadata": {},
   "outputs": [
    {
     "data": {
      "text/html": [
       "<div>\n",
       "<style scoped>\n",
       "    .dataframe tbody tr th:only-of-type {\n",
       "        vertical-align: middle;\n",
       "    }\n",
       "\n",
       "    .dataframe tbody tr th {\n",
       "        vertical-align: top;\n",
       "    }\n",
       "\n",
       "    .dataframe thead th {\n",
       "        text-align: right;\n",
       "    }\n",
       "</style>\n",
       "<table border=\"1\" class=\"dataframe\">\n",
       "  <thead>\n",
       "    <tr style=\"text-align: right;\">\n",
       "      <th></th>\n",
       "      <th>id</th>\n",
       "      <th>from_id</th>\n",
       "      <th>date</th>\n",
       "      <th>text</th>\n",
       "      <th>post_id</th>\n",
       "      <th>owner_id</th>\n",
       "      <th>parents_stack</th>\n",
       "      <th>thread</th>\n",
       "      <th>attachments</th>\n",
       "    </tr>\n",
       "  </thead>\n",
       "  <tbody>\n",
       "    <tr>\n",
       "      <th>0</th>\n",
       "      <td>3869</td>\n",
       "      <td>196636514</td>\n",
       "      <td>1674936716</td>\n",
       "      <td>Не скручивайте 6-ку по красным зацепкам на сте...</td>\n",
       "      <td>3868</td>\n",
       "      <td>-38936316</td>\n",
       "      <td>[]</td>\n",
       "      <td>{'count': 0, 'items': [], 'can_post': True, 's...</td>\n",
       "      <td>NaN</td>\n",
       "    </tr>\n",
       "    <tr>\n",
       "      <th>1</th>\n",
       "      <td>3859</td>\n",
       "      <td>185384079</td>\n",
       "      <td>1674148446</td>\n",
       "      <td></td>\n",
       "      <td>3858</td>\n",
       "      <td>-38936316</td>\n",
       "      <td>[]</td>\n",
       "      <td>{'count': 0, 'items': [], 'can_post': True, 's...</td>\n",
       "      <td>[{'type': 'sticker', 'sticker': {'sticker_id':...</td>\n",
       "    </tr>\n",
       "  </tbody>\n",
       "</table>\n",
       "</div>"
      ],
      "text/plain": [
       "     id    from_id        date  \\\n",
       "0  3869  196636514  1674936716   \n",
       "1  3859  185384079  1674148446   \n",
       "\n",
       "                                                text  post_id  owner_id  \\\n",
       "0  Не скручивайте 6-ку по красным зацепкам на сте...     3868 -38936316   \n",
       "1                                                        3858 -38936316   \n",
       "\n",
       "  parents_stack                                             thread  \\\n",
       "0            []  {'count': 0, 'items': [], 'can_post': True, 's...   \n",
       "1            []  {'count': 0, 'items': [], 'can_post': True, 's...   \n",
       "\n",
       "                                         attachments  \n",
       "0                                                NaN  \n",
       "1  [{'type': 'sticker', 'sticker': {'sticker_id':...  "
      ]
     },
     "execution_count": 52,
     "metadata": {},
     "output_type": "execute_result"
    }
   ],
   "source": [
    "# смотрим на названия столбцов\n",
    "# здесь id – id комментария, а post_id - id поста\n",
    "\n",
    "df_comm.head(2)"
   ]
  },
  {
   "cell_type": "markdown",
   "metadata": {},
   "source": [
    "### Задача 7\n",
    "\n",
    "Объедините датафрейм с собранными комментариями `df_comm` и датафрейм `with_comm10` через функцию `merge()` из `pandas`."
   ]
  },
  {
   "cell_type": "code",
   "execution_count": 53,
   "metadata": {},
   "outputs": [
    {
     "name": "stderr",
     "output_type": "stream",
     "text": [
      "D:\\Anaconda3\\lib\\site-packages\\pandas\\core\\frame.py:4125: SettingWithCopyWarning: \n",
      "A value is trying to be set on a copy of a slice from a DataFrame\n",
      "\n",
      "See the caveats in the documentation: https://pandas.pydata.org/pandas-docs/stable/user_guide/indexing.html#returning-a-view-versus-a-copy\n",
      "  return super().rename(\n"
     ]
    },
    {
     "data": {
      "text/html": [
       "<div>\n",
       "<style scoped>\n",
       "    .dataframe tbody tr th:only-of-type {\n",
       "        vertical-align: middle;\n",
       "    }\n",
       "\n",
       "    .dataframe tbody tr th {\n",
       "        vertical-align: top;\n",
       "    }\n",
       "\n",
       "    .dataframe thead th {\n",
       "        text-align: right;\n",
       "    }\n",
       "</style>\n",
       "<table border=\"1\" class=\"dataframe\">\n",
       "  <thead>\n",
       "    <tr style=\"text-align: right;\">\n",
       "      <th></th>\n",
       "      <th>post_id</th>\n",
       "      <th>date</th>\n",
       "      <th>text</th>\n",
       "      <th>nlikes</th>\n",
       "      <th>nreposts</th>\n",
       "      <th>ncomments</th>\n",
       "    </tr>\n",
       "  </thead>\n",
       "  <tbody>\n",
       "    <tr>\n",
       "      <th>4</th>\n",
       "      <td>3868</td>\n",
       "      <td>1674902631</td>\n",
       "      <td></td>\n",
       "      <td>27</td>\n",
       "      <td>3</td>\n",
       "      <td>1</td>\n",
       "    </tr>\n",
       "    <tr>\n",
       "      <th>12</th>\n",
       "      <td>3858</td>\n",
       "      <td>1674146111</td>\n",
       "      <td></td>\n",
       "      <td>22</td>\n",
       "      <td>1</td>\n",
       "      <td>2</td>\n",
       "    </tr>\n",
       "  </tbody>\n",
       "</table>\n",
       "</div>"
      ],
      "text/plain": [
       "    post_id        date text  nlikes  nreposts  ncomments\n",
       "4      3868  1674902631           27         3          1\n",
       "12     3858  1674146111           22         1          2"
      ]
     },
     "execution_count": 53,
     "metadata": {},
     "output_type": "execute_result"
    }
   ],
   "source": [
    "# переименовываем столбцы в with_comm10, чтобы \n",
    "# столбец с id поста назывался везде одинаково\n",
    "# inplace = True: сохраняем изменения\n",
    "\n",
    "with_comm10.rename(columns = {\"id\" : \"post_id\"}, inplace = True)\n",
    "with_comm10.head(2)"
   ]
  },
  {
   "cell_type": "code",
   "execution_count": 56,
   "metadata": {},
   "outputs": [],
   "source": [
    "# объединяем with_comm10 и df_comm по столбцу post_id\n",
    "# left: к левому датафрейму (with_comm10) подтягиваем данные из правого (df_comm)\n",
    "\n",
    "final = with_comm10.merge(df_comm, on = \"post_id\", how = \"left\")"
   ]
  },
  {
   "cell_type": "code",
   "execution_count": 57,
   "metadata": {},
   "outputs": [
    {
     "data": {
      "text/html": [
       "<div>\n",
       "<style scoped>\n",
       "    .dataframe tbody tr th:only-of-type {\n",
       "        vertical-align: middle;\n",
       "    }\n",
       "\n",
       "    .dataframe tbody tr th {\n",
       "        vertical-align: top;\n",
       "    }\n",
       "\n",
       "    .dataframe thead th {\n",
       "        text-align: right;\n",
       "    }\n",
       "</style>\n",
       "<table border=\"1\" class=\"dataframe\">\n",
       "  <thead>\n",
       "    <tr style=\"text-align: right;\">\n",
       "      <th></th>\n",
       "      <th>post_id</th>\n",
       "      <th>date_x</th>\n",
       "      <th>text_x</th>\n",
       "      <th>nlikes</th>\n",
       "      <th>nreposts</th>\n",
       "      <th>ncomments</th>\n",
       "      <th>id</th>\n",
       "      <th>from_id</th>\n",
       "      <th>date_y</th>\n",
       "      <th>text_y</th>\n",
       "      <th>owner_id</th>\n",
       "      <th>parents_stack</th>\n",
       "      <th>thread</th>\n",
       "      <th>attachments</th>\n",
       "    </tr>\n",
       "  </thead>\n",
       "  <tbody>\n",
       "    <tr>\n",
       "      <th>0</th>\n",
       "      <td>3868</td>\n",
       "      <td>1674902631</td>\n",
       "      <td></td>\n",
       "      <td>27</td>\n",
       "      <td>3</td>\n",
       "      <td>1</td>\n",
       "      <td>3869</td>\n",
       "      <td>196636514</td>\n",
       "      <td>1674936716</td>\n",
       "      <td>Не скручивайте 6-ку по красным зацепкам на сте...</td>\n",
       "      <td>-38936316</td>\n",
       "      <td>[]</td>\n",
       "      <td>{'count': 0, 'items': [], 'can_post': True, 's...</td>\n",
       "      <td>NaN</td>\n",
       "    </tr>\n",
       "    <tr>\n",
       "      <th>1</th>\n",
       "      <td>3858</td>\n",
       "      <td>1674146111</td>\n",
       "      <td></td>\n",
       "      <td>22</td>\n",
       "      <td>1</td>\n",
       "      <td>2</td>\n",
       "      <td>3859</td>\n",
       "      <td>185384079</td>\n",
       "      <td>1674148446</td>\n",
       "      <td></td>\n",
       "      <td>-38936316</td>\n",
       "      <td>[]</td>\n",
       "      <td>{'count': 0, 'items': [], 'can_post': True, 's...</td>\n",
       "      <td>[{'type': 'sticker', 'sticker': {'sticker_id':...</td>\n",
       "    </tr>\n",
       "    <tr>\n",
       "      <th>2</th>\n",
       "      <td>3858</td>\n",
       "      <td>1674146111</td>\n",
       "      <td></td>\n",
       "      <td>22</td>\n",
       "      <td>1</td>\n",
       "      <td>2</td>\n",
       "      <td>3860</td>\n",
       "      <td>41414377</td>\n",
       "      <td>1674157341</td>\n",
       "      <td>Пора полный метр снимать👍</td>\n",
       "      <td>-38936316</td>\n",
       "      <td>[]</td>\n",
       "      <td>{'count': 0, 'items': [], 'can_post': True, 's...</td>\n",
       "      <td>NaN</td>\n",
       "    </tr>\n",
       "    <tr>\n",
       "      <th>3</th>\n",
       "      <td>3856</td>\n",
       "      <td>1674042051</td>\n",
       "      <td>Кампус и фингерборд — отличные инструменты для...</td>\n",
       "      <td>30</td>\n",
       "      <td>11</td>\n",
       "      <td>1</td>\n",
       "      <td>3857</td>\n",
       "      <td>-38936316</td>\n",
       "      <td>1674042052</td>\n",
       "      <td>#скалодорммосква #скалодром #скалолазаниевмоск...</td>\n",
       "      <td>-38936316</td>\n",
       "      <td>[]</td>\n",
       "      <td>{'count': 0, 'items': [], 'can_post': True, 's...</td>\n",
       "      <td>NaN</td>\n",
       "    </tr>\n",
       "    <tr>\n",
       "      <th>4</th>\n",
       "      <td>3851</td>\n",
       "      <td>1673619321</td>\n",
       "      <td></td>\n",
       "      <td>16</td>\n",
       "      <td>1</td>\n",
       "      <td>1</td>\n",
       "      <td>3852</td>\n",
       "      <td>94783194</td>\n",
       "      <td>1673619998</td>\n",
       "      <td>)))</td>\n",
       "      <td>-38936316</td>\n",
       "      <td>[]</td>\n",
       "      <td>{'count': 0, 'items': [], 'can_post': True, 's...</td>\n",
       "      <td>NaN</td>\n",
       "    </tr>\n",
       "    <tr>\n",
       "      <th>5</th>\n",
       "      <td>3847</td>\n",
       "      <td>1673273731</td>\n",
       "      <td>Как втянуться в тренировочный режим после праз...</td>\n",
       "      <td>31</td>\n",
       "      <td>4</td>\n",
       "      <td>1</td>\n",
       "      <td>3848</td>\n",
       "      <td>260091507</td>\n",
       "      <td>1673504662</td>\n",
       "      <td>У меня есть альтернативное предложение: отказа...</td>\n",
       "      <td>-38936316</td>\n",
       "      <td>[]</td>\n",
       "      <td>{'count': 0, 'items': [], 'can_post': True, 's...</td>\n",
       "      <td>NaN</td>\n",
       "    </tr>\n",
       "    <tr>\n",
       "      <th>6</th>\n",
       "      <td>3838</td>\n",
       "      <td>1672414128</td>\n",
       "      <td>В эту среду у нас на скалодроме прошел новогод...</td>\n",
       "      <td>19</td>\n",
       "      <td>1</td>\n",
       "      <td>3</td>\n",
       "      <td>3839</td>\n",
       "      <td>260091507</td>\n",
       "      <td>1672414774</td>\n",
       "      <td>Спасибо, Рокзона, вечеринка вполне удалась!</td>\n",
       "      <td>-38936316</td>\n",
       "      <td>[]</td>\n",
       "      <td>{'count': 1, 'items': [{'id': 3841, 'from_id':...</td>\n",
       "      <td>NaN</td>\n",
       "    </tr>\n",
       "    <tr>\n",
       "      <th>7</th>\n",
       "      <td>3838</td>\n",
       "      <td>1672414128</td>\n",
       "      <td>В эту среду у нас на скалодроме прошел новогод...</td>\n",
       "      <td>19</td>\n",
       "      <td>1</td>\n",
       "      <td>3</td>\n",
       "      <td>3840</td>\n",
       "      <td>-38936316</td>\n",
       "      <td>1672416207</td>\n",
       "      <td>Полные результаты \\n\\nЛюбители :\\n\\n1.Гончаров...</td>\n",
       "      <td>-38936316</td>\n",
       "      <td>[]</td>\n",
       "      <td>{'count': 0, 'items': [], 'can_post': True, 's...</td>\n",
       "      <td>NaN</td>\n",
       "    </tr>\n",
       "    <tr>\n",
       "      <th>8</th>\n",
       "      <td>3832</td>\n",
       "      <td>1672160535</td>\n",
       "      <td>Скалолазы часто путают эти два термина, потому...</td>\n",
       "      <td>42</td>\n",
       "      <td>10</td>\n",
       "      <td>5</td>\n",
       "      <td>3833</td>\n",
       "      <td>642284329</td>\n",
       "      <td>1672205924</td>\n",
       "      <td>Мощность по-вашему ещё называется \"взрывная си...</td>\n",
       "      <td>-38936316</td>\n",
       "      <td>[]</td>\n",
       "      <td>{'count': 1, 'items': [{'id': 3836, 'from_id':...</td>\n",
       "      <td>NaN</td>\n",
       "    </tr>\n",
       "    <tr>\n",
       "      <th>9</th>\n",
       "      <td>3832</td>\n",
       "      <td>1672160535</td>\n",
       "      <td>Скалолазы часто путают эти два термина, потому...</td>\n",
       "      <td>42</td>\n",
       "      <td>10</td>\n",
       "      <td>5</td>\n",
       "      <td>3843</td>\n",
       "      <td>2335439</td>\n",
       "      <td>1672679368</td>\n",
       "      <td>Мощноть это работа за время, а также сила на с...</td>\n",
       "      <td>-38936316</td>\n",
       "      <td>[]</td>\n",
       "      <td>{'count': 0, 'items': [], 'can_post': True, 's...</td>\n",
       "      <td>NaN</td>\n",
       "    </tr>\n",
       "    <tr>\n",
       "      <th>10</th>\n",
       "      <td>3832</td>\n",
       "      <td>1672160535</td>\n",
       "      <td>Скалолазы часто путают эти два термина, потому...</td>\n",
       "      <td>42</td>\n",
       "      <td>10</td>\n",
       "      <td>5</td>\n",
       "      <td>3844</td>\n",
       "      <td>227276119</td>\n",
       "      <td>1672808610</td>\n",
       "      <td>Как то мне казалось не обязательно сначала вып...</td>\n",
       "      <td>-38936316</td>\n",
       "      <td>[]</td>\n",
       "      <td>{'count': 0, 'items': [], 'can_post': True, 's...</td>\n",
       "      <td>NaN</td>\n",
       "    </tr>\n",
       "    <tr>\n",
       "      <th>11</th>\n",
       "      <td>3832</td>\n",
       "      <td>1672160535</td>\n",
       "      <td>Скалолазы часто путают эти два термина, потому...</td>\n",
       "      <td>42</td>\n",
       "      <td>10</td>\n",
       "      <td>5</td>\n",
       "      <td>3845</td>\n",
       "      <td>227276119</td>\n",
       "      <td>1672808651</td>\n",
       "      <td>Максимальные подтягивания вроде уже не сила, а...</td>\n",
       "      <td>-38936316</td>\n",
       "      <td>[]</td>\n",
       "      <td>{'count': 0, 'items': [], 'can_post': True, 's...</td>\n",
       "      <td>NaN</td>\n",
       "    </tr>\n",
       "    <tr>\n",
       "      <th>12</th>\n",
       "      <td>3822</td>\n",
       "      <td>1672063603</td>\n",
       "      <td>📢 28 декабря в 20:30 состоится мастер-класс по...</td>\n",
       "      <td>23</td>\n",
       "      <td>2</td>\n",
       "      <td>8</td>\n",
       "      <td>3823</td>\n",
       "      <td>41414377</td>\n",
       "      <td>1672073061</td>\n",
       "      <td>Выезжаю</td>\n",
       "      <td>-38936316</td>\n",
       "      <td>[]</td>\n",
       "      <td>{'count': 0, 'items': [], 'can_post': True, 's...</td>\n",
       "      <td>NaN</td>\n",
       "    </tr>\n",
       "    <tr>\n",
       "      <th>13</th>\n",
       "      <td>3822</td>\n",
       "      <td>1672063603</td>\n",
       "      <td>📢 28 декабря в 20:30 состоится мастер-класс по...</td>\n",
       "      <td>23</td>\n",
       "      <td>2</td>\n",
       "      <td>8</td>\n",
       "      <td>3825</td>\n",
       "      <td>16088054</td>\n",
       "      <td>1672075264</td>\n",
       "      <td>Мативация для мужиков ясна , выезжаю!</td>\n",
       "      <td>-38936316</td>\n",
       "      <td>[]</td>\n",
       "      <td>{'count': 2, 'items': [{'id': 3829, 'from_id':...</td>\n",
       "      <td>NaN</td>\n",
       "    </tr>\n",
       "    <tr>\n",
       "      <th>14</th>\n",
       "      <td>3822</td>\n",
       "      <td>1672063603</td>\n",
       "      <td>📢 28 декабря в 20:30 состоится мастер-класс по...</td>\n",
       "      <td>23</td>\n",
       "      <td>2</td>\n",
       "      <td>8</td>\n",
       "      <td>3826</td>\n",
       "      <td>540355150</td>\n",
       "      <td>1672084078</td>\n",
       "      <td>Я в шоке, чесснаговоря</td>\n",
       "      <td>-38936316</td>\n",
       "      <td>[]</td>\n",
       "      <td>{'count': 1, 'items': [{'id': 3828, 'from_id':...</td>\n",
       "      <td>NaN</td>\n",
       "    </tr>\n",
       "    <tr>\n",
       "      <th>15</th>\n",
       "      <td>3822</td>\n",
       "      <td>1672063603</td>\n",
       "      <td>📢 28 декабря в 20:30 состоится мастер-класс по...</td>\n",
       "      <td>23</td>\n",
       "      <td>2</td>\n",
       "      <td>8</td>\n",
       "      <td>3842</td>\n",
       "      <td>652316910</td>\n",
       "      <td>1672585395</td>\n",
       "      <td>Жаль, поздно увидел, как раз в этом году хотел...</td>\n",
       "      <td>-38936316</td>\n",
       "      <td>[]</td>\n",
       "      <td>{'count': 1, 'items': [{'id': 3853, 'from_id':...</td>\n",
       "      <td>NaN</td>\n",
       "    </tr>\n",
       "    <tr>\n",
       "      <th>16</th>\n",
       "      <td>3821</td>\n",
       "      <td>1672060327</td>\n",
       "      <td>🧗‍♀️🎄В среду, 28.12 у нас на скалодроме состои...</td>\n",
       "      <td>11</td>\n",
       "      <td>4</td>\n",
       "      <td>3</td>\n",
       "      <td>3824</td>\n",
       "      <td>196636514</td>\n",
       "      <td>1672074960</td>\n",
       "      <td>Ну так нечестно))) а что же делать тем, кто тр...</td>\n",
       "      <td>-38936316</td>\n",
       "      <td>[]</td>\n",
       "      <td>{'count': 2, 'items': [{'id': 3827, 'from_id':...</td>\n",
       "      <td>NaN</td>\n",
       "    </tr>\n",
       "    <tr>\n",
       "      <th>17</th>\n",
       "      <td>3812</td>\n",
       "      <td>1671549309</td>\n",
       "      <td>🌟 Три упражнения для развития баланса\\n\\nВ ска...</td>\n",
       "      <td>33</td>\n",
       "      <td>16</td>\n",
       "      <td>1</td>\n",
       "      <td>3814</td>\n",
       "      <td>-98648808</td>\n",
       "      <td>1671606726</td>\n",
       "      <td>👍🏻🎈💥⛳🎀</td>\n",
       "      <td>-38936316</td>\n",
       "      <td>[]</td>\n",
       "      <td>{'count': 0, 'items': [], 'can_post': True, 's...</td>\n",
       "      <td>NaN</td>\n",
       "    </tr>\n",
       "  </tbody>\n",
       "</table>\n",
       "</div>"
      ],
      "text/plain": [
       "    post_id      date_x                                             text_x  \\\n",
       "0      3868  1674902631                                                      \n",
       "1      3858  1674146111                                                      \n",
       "2      3858  1674146111                                                      \n",
       "3      3856  1674042051  Кампус и фингерборд — отличные инструменты для...   \n",
       "4      3851  1673619321                                                      \n",
       "5      3847  1673273731  Как втянуться в тренировочный режим после праз...   \n",
       "6      3838  1672414128  В эту среду у нас на скалодроме прошел новогод...   \n",
       "7      3838  1672414128  В эту среду у нас на скалодроме прошел новогод...   \n",
       "8      3832  1672160535  Скалолазы часто путают эти два термина, потому...   \n",
       "9      3832  1672160535  Скалолазы часто путают эти два термина, потому...   \n",
       "10     3832  1672160535  Скалолазы часто путают эти два термина, потому...   \n",
       "11     3832  1672160535  Скалолазы часто путают эти два термина, потому...   \n",
       "12     3822  1672063603  📢 28 декабря в 20:30 состоится мастер-класс по...   \n",
       "13     3822  1672063603  📢 28 декабря в 20:30 состоится мастер-класс по...   \n",
       "14     3822  1672063603  📢 28 декабря в 20:30 состоится мастер-класс по...   \n",
       "15     3822  1672063603  📢 28 декабря в 20:30 состоится мастер-класс по...   \n",
       "16     3821  1672060327  🧗‍♀️🎄В среду, 28.12 у нас на скалодроме состои...   \n",
       "17     3812  1671549309  🌟 Три упражнения для развития баланса\\n\\nВ ска...   \n",
       "\n",
       "    nlikes  nreposts  ncomments    id    from_id      date_y  \\\n",
       "0       27         3          1  3869  196636514  1674936716   \n",
       "1       22         1          2  3859  185384079  1674148446   \n",
       "2       22         1          2  3860   41414377  1674157341   \n",
       "3       30        11          1  3857  -38936316  1674042052   \n",
       "4       16         1          1  3852   94783194  1673619998   \n",
       "5       31         4          1  3848  260091507  1673504662   \n",
       "6       19         1          3  3839  260091507  1672414774   \n",
       "7       19         1          3  3840  -38936316  1672416207   \n",
       "8       42        10          5  3833  642284329  1672205924   \n",
       "9       42        10          5  3843    2335439  1672679368   \n",
       "10      42        10          5  3844  227276119  1672808610   \n",
       "11      42        10          5  3845  227276119  1672808651   \n",
       "12      23         2          8  3823   41414377  1672073061   \n",
       "13      23         2          8  3825   16088054  1672075264   \n",
       "14      23         2          8  3826  540355150  1672084078   \n",
       "15      23         2          8  3842  652316910  1672585395   \n",
       "16      11         4          3  3824  196636514  1672074960   \n",
       "17      33        16          1  3814  -98648808  1671606726   \n",
       "\n",
       "                                               text_y  owner_id parents_stack  \\\n",
       "0   Не скручивайте 6-ку по красным зацепкам на сте... -38936316            []   \n",
       "1                                                     -38936316            []   \n",
       "2                           Пора полный метр снимать👍 -38936316            []   \n",
       "3   #скалодорммосква #скалодром #скалолазаниевмоск... -38936316            []   \n",
       "4                                                 ))) -38936316            []   \n",
       "5   У меня есть альтернативное предложение: отказа... -38936316            []   \n",
       "6         Спасибо, Рокзона, вечеринка вполне удалась! -38936316            []   \n",
       "7   Полные результаты \\n\\nЛюбители :\\n\\n1.Гончаров... -38936316            []   \n",
       "8   Мощность по-вашему ещё называется \"взрывная си... -38936316            []   \n",
       "9   Мощноть это работа за время, а также сила на с... -38936316            []   \n",
       "10  Как то мне казалось не обязательно сначала вып... -38936316            []   \n",
       "11  Максимальные подтягивания вроде уже не сила, а... -38936316            []   \n",
       "12                                            Выезжаю -38936316            []   \n",
       "13              Мативация для мужиков ясна , выезжаю! -38936316            []   \n",
       "14                             Я в шоке, чесснаговоря -38936316            []   \n",
       "15  Жаль, поздно увидел, как раз в этом году хотел... -38936316            []   \n",
       "16  Ну так нечестно))) а что же делать тем, кто тр... -38936316            []   \n",
       "17                                             👍🏻🎈💥⛳🎀 -38936316            []   \n",
       "\n",
       "                                               thread  \\\n",
       "0   {'count': 0, 'items': [], 'can_post': True, 's...   \n",
       "1   {'count': 0, 'items': [], 'can_post': True, 's...   \n",
       "2   {'count': 0, 'items': [], 'can_post': True, 's...   \n",
       "3   {'count': 0, 'items': [], 'can_post': True, 's...   \n",
       "4   {'count': 0, 'items': [], 'can_post': True, 's...   \n",
       "5   {'count': 0, 'items': [], 'can_post': True, 's...   \n",
       "6   {'count': 1, 'items': [{'id': 3841, 'from_id':...   \n",
       "7   {'count': 0, 'items': [], 'can_post': True, 's...   \n",
       "8   {'count': 1, 'items': [{'id': 3836, 'from_id':...   \n",
       "9   {'count': 0, 'items': [], 'can_post': True, 's...   \n",
       "10  {'count': 0, 'items': [], 'can_post': True, 's...   \n",
       "11  {'count': 0, 'items': [], 'can_post': True, 's...   \n",
       "12  {'count': 0, 'items': [], 'can_post': True, 's...   \n",
       "13  {'count': 2, 'items': [{'id': 3829, 'from_id':...   \n",
       "14  {'count': 1, 'items': [{'id': 3828, 'from_id':...   \n",
       "15  {'count': 1, 'items': [{'id': 3853, 'from_id':...   \n",
       "16  {'count': 2, 'items': [{'id': 3827, 'from_id':...   \n",
       "17  {'count': 0, 'items': [], 'can_post': True, 's...   \n",
       "\n",
       "                                          attachments  \n",
       "0                                                 NaN  \n",
       "1   [{'type': 'sticker', 'sticker': {'sticker_id':...  \n",
       "2                                                 NaN  \n",
       "3                                                 NaN  \n",
       "4                                                 NaN  \n",
       "5                                                 NaN  \n",
       "6                                                 NaN  \n",
       "7                                                 NaN  \n",
       "8                                                 NaN  \n",
       "9                                                 NaN  \n",
       "10                                                NaN  \n",
       "11                                                NaN  \n",
       "12                                                NaN  \n",
       "13                                                NaN  \n",
       "14                                                NaN  \n",
       "15                                                NaN  \n",
       "16                                                NaN  \n",
       "17                                                NaN  "
      ]
     },
     "execution_count": 57,
     "metadata": {},
     "output_type": "execute_result"
    }
   ],
   "source": [
    "final"
   ]
  },
  {
   "cell_type": "markdown",
   "metadata": {},
   "source": [
    "## Часть 3:  собираем информацию о пользователях"
   ]
  },
  {
   "cell_type": "markdown",
   "metadata": {},
   "source": [
    "Для примера выберем пользователя с id 20473269 (пока не из датафрейма, это всего лишь я):"
   ]
  },
  {
   "cell_type": "code",
   "execution_count": null,
   "metadata": {},
   "outputs": [],
   "source": [
    "j = 20473269"
   ]
  },
  {
   "cell_type": "markdown",
   "metadata": {},
   "source": [
    "Сформируем запрос:"
   ]
  },
  {
   "cell_type": "code",
   "execution_count": null,
   "metadata": {},
   "outputs": [],
   "source": [
    "# метод users.get\n",
    "# все знакомые параметры\n",
    "# в fields перечисляем дополнительню информацию,\n",
    "# которую хотим получить\n",
    "# перечисляем через запятую без пробелов\n",
    "\n",
    "main_user = \"https://api.vk.com/method/users.get\"\n",
    "params_user = {\"access_token\" : token,\n",
    "               \"v\" : v,\n",
    "               \"user_id\" : j,\n",
    "               \"fields\" : \"bdate,city,home_town,universities\"\n",
    "}\n",
    "req2 = requests.get(main_user, params = params_user)\n",
    "req2.json()"
   ]
  },
  {
   "cell_type": "markdown",
   "metadata": {},
   "source": [
    "### Задача 8\n",
    "\n",
    "Выберите какого-нибудь пользователя, оставившего комментарий, из датафрейма и запросите по нему интересующую информацию."
   ]
  },
  {
   "cell_type": "code",
   "execution_count": null,
   "metadata": {},
   "outputs": [],
   "source": [
    "### YOUR CODE HERE ###"
   ]
  }
 ],
 "metadata": {
  "kernelspec": {
   "display_name": "Python 3",
   "language": "python",
   "name": "python3"
  },
  "language_info": {
   "codemirror_mode": {
    "name": "ipython",
    "version": 3
   },
   "file_extension": ".py",
   "mimetype": "text/x-python",
   "name": "python",
   "nbconvert_exporter": "python",
   "pygments_lexer": "ipython3",
   "version": "3.7.4"
  }
 },
 "nbformat": 4,
 "nbformat_minor": 2
}
