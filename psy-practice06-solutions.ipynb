{
 "cells": [
  {
   "cell_type": "markdown",
   "metadata": {},
   "source": [
    "# Web-scraping: сбор данных из баз данных и интернет-источников\n",
    "\n",
    "*Алла Тамбовцева, НИУ ВШЭ*\n",
    "\n",
    "## Управление браузером с Selenium: пример работы  с ВКонтакте"
   ]
  },
  {
   "cell_type": "markdown",
   "metadata": {},
   "source": [
    "### Часть 1: залогиниваемся во ВКонтакте"
   ]
  },
  {
   "cell_type": "markdown",
   "metadata": {},
   "source": [
    "Импортируем необходимые компоненты Selenium:"
   ]
  },
  {
   "cell_type": "code",
   "execution_count": 1,
   "metadata": {},
   "outputs": [],
   "source": [
    "from selenium import webdriver as wd\n",
    "from selenium.webdriver.common.keys import Keys\n",
    "from selenium.webdriver.common.by import By"
   ]
  },
  {
   "cell_type": "markdown",
   "metadata": {},
   "source": [
    "Импортируем функцию для запроса пароля, который скрывает вводимые с клавиатуры символы:"
   ]
  },
  {
   "cell_type": "code",
   "execution_count": 2,
   "metadata": {},
   "outputs": [],
   "source": [
    "from getpass import getpass"
   ]
  },
  {
   "cell_type": "markdown",
   "metadata": {},
   "source": [
    "Открываем браузер – начинаем новую сессию работы с Selenium:"
   ]
  },
  {
   "cell_type": "code",
   "execution_count": 3,
   "metadata": {},
   "outputs": [
    {
     "name": "stderr",
     "output_type": "stream",
     "text": [
      "/opt/anaconda3/lib/python3.7/site-packages/ipykernel_launcher.py:1: DeprecationWarning: executable_path has been deprecated, please pass in a Service object\n",
      "  \"\"\"Entry point for launching an IPython kernel.\n"
     ]
    }
   ],
   "source": [
    "br = wd.Chrome(executable_path='/Users/allat/Desktop/chromedriver')"
   ]
  },
  {
   "cell_type": "markdown",
   "metadata": {},
   "source": [
    "**NB.** На предупреждение можно не обращать внимание, если новое окно с браузером открывается.  В новой версии Selenium связь с драйвером обеспечивается не за счёт ссылки на исполняемый файл (`chromedriver` или `chromedriver.exe`), а через объект типа `Service`. Более новый код такой:\n",
    "\n",
    "    from selenium import webdriver as wd\n",
    "    from selenium.webdriver.chrome.service import Service\n",
    "    \n",
    "    serv = Service(\"/Users/allat/Desktop/chromedriver\")\n",
    "    br = wd.Chrome(service=serv)\n",
    "    \n",
    "Особой разницы нет, просто нужна ещё функция `Service()`, чтобы внутри неё прописать путь к драйверу."
   ]
  },
  {
   "cell_type": "markdown",
   "metadata": {},
   "source": [
    "Переходим в браузере на главную страницу ВКонтакте:"
   ]
  },
  {
   "cell_type": "code",
   "execution_count": 4,
   "metadata": {},
   "outputs": [],
   "source": [
    "br.get(\"https://vk.com/\")"
   ]
  },
  {
   "cell_type": "markdown",
   "metadata": {},
   "source": [
    "Находим поле для логина:"
   ]
  },
  {
   "cell_type": "code",
   "execution_count": 5,
   "metadata": {},
   "outputs": [],
   "source": [
    "login = br.find_element(By.ID, \"index_email\")"
   ]
  },
  {
   "cell_type": "markdown",
   "metadata": {},
   "source": [
    "Отправляем туда свой логин:"
   ]
  },
  {
   "cell_type": "code",
   "execution_count": 6,
   "metadata": {},
   "outputs": [],
   "source": [
    "login.send_keys(\"allatambov@mail.ru\")"
   ]
  },
  {
   "cell_type": "markdown",
   "metadata": {},
   "source": [
    "Чтобы не искать на странице кнопку *Войти* (не очень удобно), просто имитируем нажатие кнопки *Enter*:"
   ]
  },
  {
   "cell_type": "code",
   "execution_count": 7,
   "metadata": {},
   "outputs": [],
   "source": [
    "login.send_keys(Keys.ENTER)"
   ]
  },
  {
   "cell_type": "markdown",
   "metadata": {},
   "source": [
    "Находим поле для ввода пароля – тут надо постараться, потребуется просмотр кода страницы через интсрументы разработчика:"
   ]
  },
  {
   "cell_type": "code",
   "execution_count": 8,
   "metadata": {},
   "outputs": [],
   "source": [
    "password = br.find_element(By.NAME, \"password\")"
   ]
  },
  {
   "cell_type": "markdown",
   "metadata": {},
   "source": [
    "Запрашиваем пароль с клавиатуры у самих себя:"
   ]
  },
  {
   "cell_type": "code",
   "execution_count": 9,
   "metadata": {},
   "outputs": [
    {
     "name": "stdout",
     "output_type": "stream",
     "text": [
      "········\n"
     ]
    }
   ],
   "source": [
    "my_password = getpass()"
   ]
  },
  {
   "cell_type": "markdown",
   "metadata": {},
   "source": [
    "Отправляем пароль в соответствующее поле и снова имитируем нажатие *Enter*:"
   ]
  },
  {
   "cell_type": "code",
   "execution_count": 10,
   "metadata": {},
   "outputs": [],
   "source": [
    "password.send_keys(my_password)"
   ]
  },
  {
   "cell_type": "code",
   "execution_count": 11,
   "metadata": {},
   "outputs": [],
   "source": [
    "password.send_keys(Keys.RETURN)"
   ]
  },
  {
   "cell_type": "markdown",
   "metadata": {},
   "source": [
    "Готово! Можно искать информацию!"
   ]
  },
  {
   "cell_type": "markdown",
   "metadata": {},
   "source": [
    "### Часть 2: ищем пользователей"
   ]
  },
  {
   "cell_type": "markdown",
   "metadata": {},
   "source": [
    "Перейдём на страницу поиска друзей:"
   ]
  },
  {
   "cell_type": "code",
   "execution_count": 12,
   "metadata": {},
   "outputs": [],
   "source": [
    "br.get(\"https://vk.com/friends\")"
   ]
  },
  {
   "cell_type": "markdown",
   "metadata": {},
   "source": [
    "Найдём на этой странице ссылку с текстом *Поиск друзей*, чтобы перейти к странице поиска пользователей по заданным критериям, и кликнем на неё:"
   ]
  },
  {
   "cell_type": "code",
   "execution_count": 13,
   "metadata": {},
   "outputs": [],
   "source": [
    "search = br.find_element(By.LINK_TEXT, \"Поиск друзей\")\n",
    "search.click() "
   ]
  },
  {
   "cell_type": "markdown",
   "metadata": {},
   "source": [
    "Чтобы формировать критерии для поиска, нам нужно открыть меню с фильтрами – развернуть меню *Параметры поиска*. Изучив исходный код страницы, видим, что параметры поиска можно найти по id:"
   ]
  },
  {
   "cell_type": "code",
   "execution_count": 14,
   "metadata": {},
   "outputs": [],
   "source": [
    "pars = br.find_element(By.ID, \"friends_filters_block\")\n",
    "pars.click()"
   ]
  },
  {
   "cell_type": "markdown",
   "metadata": {},
   "source": [
    "Для начала выберем город. В исходном коде страницы поле для ввода города имеет тэг `<input>` и id, равный `cCity`:"
   ]
  },
  {
   "cell_type": "code",
   "execution_count": 15,
   "metadata": {},
   "outputs": [],
   "source": [
    "city = br.find_element(By.ID, \"cCity\")"
   ]
  },
  {
   "cell_type": "markdown",
   "metadata": {},
   "source": [
    "Объект `city` – это объект типа `webelement.WebElement`, то есть элемент страницы, с которым умеет работать модуль `webdriver` из `selenium`. По такому объекту тоже можно выполнять поиск с помощью метода `find_element`. \n",
    "\n",
    "В нашем случае внутри этого элемента нужно найти другой, с тэгом `<input>`, потому что нас интересует поле для ввода значения. Если этим шагом пренебречь и попытаться ввести название страны прямо в `city`, мы получим ошибку вида `element not interactable`, потому что сам по себе раздел со страной никакого взаимодействия с пользователем не предполагает, его нельзя редактировать, на него нельзя кликать и прочее.\n",
    "\n",
    "Поэтому найдём внутри `city` поле для ввода значения по тэгу:"
   ]
  },
  {
   "cell_type": "code",
   "execution_count": 16,
   "metadata": {},
   "outputs": [],
   "source": [
    "city_inp = city.find_element(By.TAG_NAME, \"input\")\n",
    "city_inp.send_keys(\"Москва\") "
   ]
  },
  {
   "cell_type": "markdown",
   "metadata": {},
   "source": [
    "Отлично! Значение выбрано. Но есть проблема – оно «повисло» в воздухе, опция с выбором страны отображается как выбранная в выпадающем меню, но в самом поле выбор не зафиксирован. Чтобы подтвердить выбор, нужно нажать на клавишу *Enter*:"
   ]
  },
  {
   "cell_type": "code",
   "execution_count": 17,
   "metadata": {},
   "outputs": [],
   "source": [
    "br.implicitly_wait(3)  # задержка 3 секунды\n",
    "city_inp.send_keys(Keys.RETURN)"
   ]
  },
  {
   "cell_type": "markdown",
   "metadata": {},
   "source": [
    "А вот с полом всё поинтереснее: найти поле для ввода пола просто, а вот значения нужно выбирать, нажимая на радиокнопки (*radiobuttons*). Сначала найдём поле для выбора пола:"
   ]
  },
  {
   "cell_type": "code",
   "execution_count": 18,
   "metadata": {},
   "outputs": [],
   "source": [
    "sex = br.find_element(By.ID, \"cSex\")"
   ]
  },
  {
   "cell_type": "markdown",
   "metadata": {},
   "source": [
    "А теперь – все опции внутри (согласно исходному коду, они имеют тэг `<div>`):"
   ]
  },
  {
   "cell_type": "code",
   "execution_count": 19,
   "metadata": {},
   "outputs": [
    {
     "data": {
      "text/plain": [
       "[<selenium.webdriver.remote.webelement.WebElement (session=\"1d2ef91e3a5ed30c928847779b35d788\", element=\"a9273d22-507c-464c-8c86-b9eefb3e5718\")>,\n",
       " <selenium.webdriver.remote.webelement.WebElement (session=\"1d2ef91e3a5ed30c928847779b35d788\", element=\"f8c77b0f-e428-4266-ab2b-a15d0a21cc89\")>,\n",
       " <selenium.webdriver.remote.webelement.WebElement (session=\"1d2ef91e3a5ed30c928847779b35d788\", element=\"70f9e542-e470-433a-a188-5435b753e061\")>]"
      ]
     },
     "execution_count": 19,
     "metadata": {},
     "output_type": "execute_result"
    }
   ],
   "source": [
    "values = sex.find_elements(By.TAG_NAME, \"div\")\n",
    "values"
   ]
  },
  {
   "cell_type": "markdown",
   "metadata": {},
   "source": [
    "Обратите внимание: здесь метод `find_elements()`, не `find_element()`, потому что результатов ожидается несколько. Методы вида `find_element()` возвращают только первое совпадение на странице, методы вида `find_elements()` – все совпадения на странице (можно провести аналогию с `find` и `find_all` в `BeautifulSoup`)."
   ]
  },
  {
   "cell_type": "markdown",
   "metadata": {},
   "source": [
    "Выбираем мужской пол – это второй элемент списка – и кликаем на него:"
   ]
  },
  {
   "cell_type": "code",
   "execution_count": 20,
   "metadata": {},
   "outputs": [],
   "source": [
    "values[1].click()"
   ]
  },
  {
   "cell_type": "markdown",
   "metadata": {},
   "source": [
    "На этом закончим работу с фильтрами и перейдём к результатам. На этом этапе возможности `selenium` нам пока не понадобятся, нам нужно только запросить исходный код страницы, которая сейчас открыта в окне браузера, управляемом из Python, и продолжить работу с HTML с помощью BeautfulSoup."
   ]
  },
  {
   "cell_type": "code",
   "execution_count": 21,
   "metadata": {},
   "outputs": [],
   "source": [
    "html = br.page_source"
   ]
  },
  {
   "cell_type": "markdown",
   "metadata": {},
   "source": [
    "### Часть 3: обработка результатов"
   ]
  },
  {
   "cell_type": "code",
   "execution_count": 22,
   "metadata": {},
   "outputs": [],
   "source": [
    "from bs4 import BeautifulSoup"
   ]
  },
  {
   "cell_type": "code",
   "execution_count": 23,
   "metadata": {},
   "outputs": [],
   "source": [
    "soup = BeautifulSoup(html)"
   ]
  },
  {
   "cell_type": "markdown",
   "metadata": {},
   "source": [
    "### Задача 1\n",
    "\n",
    "Создайте список `divs` с фрагментами html-кода, каждый из которых соответствует одной «карточке» пользователя с именем и ссылкой на профиль. "
   ]
  },
  {
   "cell_type": "code",
   "execution_count": 28,
   "metadata": {},
   "outputs": [],
   "source": [
    "divs = soup.find_all(\"div\", {\"class\" : \"labeled name\"})"
   ]
  },
  {
   "cell_type": "markdown",
   "metadata": {},
   "source": [
    "### Задача 2\n",
    "\n",
    "Напишите функцию `get_person()` для извлечения имени и ссылки на профиль пользователя (ссылки должны быть полными) и примените её ко всем пользователям на странице. Сохраните результаты в датафрейм `people`."
   ]
  },
  {
   "cell_type": "code",
   "execution_count": 29,
   "metadata": {},
   "outputs": [
    {
     "data": {
      "text/plain": [
       "<div class=\"labeled name\"><a href=\"/birdnice\" onclick=\"return nav.go(this, event);\">Дмитрий Сорокин</a></div>"
      ]
     },
     "execution_count": 29,
     "metadata": {},
     "output_type": "execute_result"
    }
   ],
   "source": [
    "# изучаем один элемент divs\n",
    "d = divs[0]\n",
    "d"
   ]
  },
  {
   "cell_type": "code",
   "execution_count": 31,
   "metadata": {},
   "outputs": [
    {
     "name": "stdout",
     "output_type": "stream",
     "text": [
      "Дмитрий Сорокин /birdnice\n"
     ]
    }
   ],
   "source": [
    "# извлекаем имя и ссылку на профиль\n",
    "\n",
    "name = d.text\n",
    "href = d.find(\"a\")[\"href\"]\n",
    "print(name, href)"
   ]
  },
  {
   "cell_type": "code",
   "execution_count": 32,
   "metadata": {},
   "outputs": [],
   "source": [
    "# пишем функцию – ссылки делаем полными\n",
    "\n",
    "def get_person(d):\n",
    "    name = d.text\n",
    "    href = d.find(\"a\")[\"href\"]\n",
    "    full_href = \"https://vk.com\" + href\n",
    "    return name, full_href"
   ]
  },
  {
   "cell_type": "code",
   "execution_count": 33,
   "metadata": {},
   "outputs": [
    {
     "data": {
      "text/plain": [
       "[('Дмитрий Сорокин', 'https://vk.com/birdnice'),\n",
       " ('Никита Зарипов', 'https://vk.com/letsgowithyou'),\n",
       " ('Мишаня Аникин', 'https://vk.com/muaymikethai'),\n",
       " ('Иоанн Довгополый', 'https://vk.com/dereinzigemitdemeigentum'),\n",
       " ('Алексей Непрокин', 'https://vk.com/lex_1979'),\n",
       " ('Степан Кyзнeцoв', 'https://vk.com/id104687424'),\n",
       " ('Артём Черняев-Ермоленко', 'https://vk.com/tatorhe'),\n",
       " ('Егор Гладких', 'https://vk.com/yegomaru'),\n",
       " ('Илья Иншаков', 'https://vk.com/id136161093'),\n",
       " ('Дан Подлецкий', 'https://vk.com/dan_podletsky'),\n",
       " ('Даниил Аксёнов', 'https://vk.com/danhse'),\n",
       " ('Артем Терещенков', 'https://vk.com/tereshchka'),\n",
       " ('Михаил Садов', 'https://vk.com/m_sadov'),\n",
       " ('Азиз Тулаганов', 'https://vk.com/aziz_tulaganov'),\n",
       " ('Никита Радченко', 'https://vk.com/id493903621'),\n",
       " ('Александр Усов', 'https://vk.com/id6084115'),\n",
       " ('Иван Александров', 'https://vk.com/halarge'),\n",
       " ('Сергей Михайлов', 'https://vk.com/samikhaylov21'),\n",
       " ('Евгений Лямин', 'https://vk.com/nemozhenya'),\n",
       " ('Кирилл Меньшиков', 'https://vk.com/id656965890'),\n",
       " ('Егор Юрескул', 'https://vk.com/sydney'),\n",
       " ('Валентин Копылов', 'https://vk.com/vvallykop'),\n",
       " ('Роман Киселёв-Август', 'https://vk.com/id4161834'),\n",
       " ('Георгий Мыльников', 'https://vk.com/georgegorgeouss'),\n",
       " ('Menasiz Heyat', 'https://vk.com/id331912083'),\n",
       " ('Егорик Молодеев', 'https://vk.com/id588441728'),\n",
       " ('Blacksigna Music', 'https://vk.com/id671606675'),\n",
       " ('Никита Лол', 'https://vk.com/nikitka_lol'),\n",
       " ('Роман Авдеев', 'https://vk.com/romeo_avd'),\n",
       " ('Игорь Юртаев', 'https://vk.com/yurtoff'),\n",
       " ('Arik Mokhov', 'https://vk.com/id388613986'),\n",
       " ('Влад Кадони', 'https://vk.com/kadoni'),\n",
       " ('Паша Осадчий', 'https://vk.com/osssadchiy'),\n",
       " ('Михаил Шуфутинский', 'https://vk.com/mikhail.shufutinsky'),\n",
       " ('Никита Сударь', 'https://vk.com/vocalist'),\n",
       " ('Артем Шейнин', 'https://vk.com/id676569579'),\n",
       " ('Андрей Глазунов', 'https://vk.com/andrewglazunov'),\n",
       " ('Кисловский Артур', 'https://vk.com/inyanprank'),\n",
       " ('Николай Тихомиров', 'https://vk.com/xsinon'),\n",
       " ('Сергей Сергеев', 'https://vk.com/rusgamespc')]"
      ]
     },
     "execution_count": 33,
     "metadata": {},
     "output_type": "execute_result"
    }
   ],
   "source": [
    "# применяем функцию\n",
    "\n",
    "L = [get_person(d) for d in divs] \n",
    "L"
   ]
  },
  {
   "cell_type": "code",
   "execution_count": 34,
   "metadata": {},
   "outputs": [],
   "source": [
    "# превращаем в датафрейм\n",
    "\n",
    "import pandas as pd\n",
    "people = pd.DataFrame(L)\n",
    "people.columns = [\"username\", \"userlink\"]"
   ]
  },
  {
   "cell_type": "code",
   "execution_count": 35,
   "metadata": {},
   "outputs": [
    {
     "data": {
      "text/html": [
       "<div>\n",
       "<style scoped>\n",
       "    .dataframe tbody tr th:only-of-type {\n",
       "        vertical-align: middle;\n",
       "    }\n",
       "\n",
       "    .dataframe tbody tr th {\n",
       "        vertical-align: top;\n",
       "    }\n",
       "\n",
       "    .dataframe thead th {\n",
       "        text-align: right;\n",
       "    }\n",
       "</style>\n",
       "<table border=\"1\" class=\"dataframe\">\n",
       "  <thead>\n",
       "    <tr style=\"text-align: right;\">\n",
       "      <th></th>\n",
       "      <th>username</th>\n",
       "      <th>userlink</th>\n",
       "    </tr>\n",
       "  </thead>\n",
       "  <tbody>\n",
       "    <tr>\n",
       "      <td>0</td>\n",
       "      <td>Дмитрий Сорокин</td>\n",
       "      <td>https://vk.com/birdnice</td>\n",
       "    </tr>\n",
       "    <tr>\n",
       "      <td>1</td>\n",
       "      <td>Никита Зарипов</td>\n",
       "      <td>https://vk.com/letsgowithyou</td>\n",
       "    </tr>\n",
       "    <tr>\n",
       "      <td>2</td>\n",
       "      <td>Мишаня Аникин</td>\n",
       "      <td>https://vk.com/muaymikethai</td>\n",
       "    </tr>\n",
       "    <tr>\n",
       "      <td>3</td>\n",
       "      <td>Иоанн Довгополый</td>\n",
       "      <td>https://vk.com/dereinzigemitdemeigentum</td>\n",
       "    </tr>\n",
       "    <tr>\n",
       "      <td>4</td>\n",
       "      <td>Алексей Непрокин</td>\n",
       "      <td>https://vk.com/lex_1979</td>\n",
       "    </tr>\n",
       "  </tbody>\n",
       "</table>\n",
       "</div>"
      ],
      "text/plain": [
       "           username                                 userlink\n",
       "0   Дмитрий Сорокин                  https://vk.com/birdnice\n",
       "1    Никита Зарипов             https://vk.com/letsgowithyou\n",
       "2     Мишаня Аникин              https://vk.com/muaymikethai\n",
       "3  Иоанн Довгополый  https://vk.com/dereinzigemitdemeigentum\n",
       "4  Алексей Непрокин                  https://vk.com/lex_1979"
      ]
     },
     "execution_count": 35,
     "metadata": {},
     "output_type": "execute_result"
    }
   ],
   "source": [
    "people.head()"
   ]
  }
 ],
 "metadata": {
  "kernelspec": {
   "display_name": "Python 3",
   "language": "python",
   "name": "python3"
  },
  "language_info": {
   "codemirror_mode": {
    "name": "ipython",
    "version": 3
   },
   "file_extension": ".py",
   "mimetype": "text/x-python",
   "name": "python",
   "nbconvert_exporter": "python",
   "pygments_lexer": "ipython3",
   "version": "3.7.4"
  }
 },
 "nbformat": 4,
 "nbformat_minor": 2
}
